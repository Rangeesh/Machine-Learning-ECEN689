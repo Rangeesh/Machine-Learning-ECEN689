{
 "cells": [
  {
   "cell_type": "code",
   "execution_count": 21,
   "metadata": {},
   "outputs": [],
   "source": [
    "import numpy as np\n",
    "from sklearn.metrics import accuracy_score\n"
   ]
  },
  {
   "cell_type": "code",
   "execution_count": 22,
   "metadata": {},
   "outputs": [],
   "source": [
    "import pandas as pd\n",
    "import matplotlib.pyplot as plt\n",
    "\n",
    "\n",
    "import warnings\n",
    "warnings.filterwarnings('ignore')\n",
    "\n",
    "import string"
   ]
  },
  {
   "cell_type": "code",
   "execution_count": 23,
   "metadata": {},
   "outputs": [],
   "source": [
    "# def load_data(path, header):\n",
    "#     marks_df = pd.read_csv(path, header=header)\n",
    "#     return marks_df\n"
   ]
  },
  {
   "cell_type": "code",
   "execution_count": 24,
   "metadata": {},
   "outputs": [],
   "source": [
    "def read_file(file_path):\n",
    "        \"\"\"Read the file and return in a format of numpy array\"\"\"\n",
    "        corpus = pd.read_csv(file_path)\n",
    "        corpus = np.array(corpus)\n",
    "        return corpus"
   ]
  },
  {
   "cell_type": "code",
   "execution_count": 25,
   "metadata": {},
   "outputs": [],
   "source": [
    "file_path1 = \"Uniform_train.csv\"\n",
    "file_path2 = \"Uniform_test.csv\"\n",
    "Train_data  = read_file(file_path1)\n",
    "Test_data  = read_file(file_path2)\n",
    "\n",
    "Train_data1 = Train_data[np.random.randint(Train_data.shape[0], size=20), :]\n",
    "Train_data2 = Train_data[np.random.randint(Train_data.shape[0], size=100), :]\n",
    "Train_data3 = Train_data[np.random.randint(Train_data.shape[0], size=200), :]\n",
    "Train_data4 = Train_data[np.random.randint(Train_data.shape[0], size=1000), :]\n"
   ]
  },
  {
   "cell_type": "code",
   "execution_count": 26,
   "metadata": {},
   "outputs": [],
   "source": [
    "X_train1 = Train_data1[:, 0:(Train_data1.shape[1]-1)]\n",
    "y_train1 = Train_data1[:,(Train_data1.shape[1]-1)]\n",
    "\n",
    "X_train2 = Train_data2[:, 0:(Train_data1.shape[1]-1)]\n",
    "y_train2 = Train_data2[:,(Train_data1.shape[1]-1)]\n",
    "\n",
    "X_train3 = Train_data3[:, 0:(Train_data1.shape[1]-1)]\n",
    "y_train3 = Train_data3[:,(Train_data1.shape[1]-1)]\n",
    "\n",
    "X_train4 = Train_data4[:, 0:(Train_data1.shape[1]-1)]\n",
    "y_train4 = Train_data4[:,(Train_data1.shape[1]-1)]\n",
    "\n",
    "X_test = Test_data[:, 0:(Train_data1.shape[1]-1)]\n",
    "y_test = Test_data[:,(Train_data1.shape[1]-1)]\n",
    "\n",
    "Xt = np.c_[np.ones((X_test.shape[0], 1)), X_test]\n",
    "yt = y_test[:, np.newaxis]"
   ]
  },
  {
   "cell_type": "code",
   "execution_count": 27,
   "metadata": {},
   "outputs": [],
   "source": [
    "# Train_data = load_data(\"Gamma_train.csv\", None)\n",
    "# X = Train_data.iloc[:, :-1]\n",
    "\n",
    "# # y = target values, last column of the data frame\n",
    "# y = Train_data.iloc[:, -1]\n",
    "\n",
    "# # filter out the applicants that got admitted\n",
    "# C1 = Train_data.loc[y == 1]\n",
    "# C2 = Train_data.loc[y == -1]\n",
    "\n",
    "# Train_data1 = Train_data[np.random.randint(Train_data.shape[0], size=10), :]\n",
    "# Train_data2 = Train_data[np.random.randint(Train_data.shape[0], size=50), :]\n",
    "# Train_data3 = Train_data[np.random.randint(Train_data.shape[0], size=100), :]\n",
    "# Train_data4 = Train_data[np.random.randint(Train_data.shape[0], size=500), :]"
   ]
  },
  {
   "cell_type": "code",
   "execution_count": 28,
   "metadata": {},
   "outputs": [
    {
     "name": "stdout",
     "output_type": "stream",
     "text": [
      "0.977977977977978\n"
     ]
    },
    {
     "data": {
      "text/plain": [
       "array([[-0.99567569,  0.55329293,  0.95543305]])"
      ]
     },
     "execution_count": 28,
     "metadata": {},
     "output_type": "execute_result"
    }
   ],
   "source": [
    "X = np.c_[np.ones((X_train1.shape[0], 1)), X_train1]\n",
    "y = y_train1[:, np.newaxis]\n",
    "theta = np.zeros((X.shape[1], 1))\n",
    "\n",
    "\n",
    "from sklearn.linear_model import LogisticRegression \n",
    "from sklearn.metrics import accuracy_score \n",
    "model = LogisticRegression()\n",
    "model.fit(X, y)\n",
    "predicted_classes = model.predict(Xt)\n",
    "accuracy = accuracy_score(yt.flatten(),predicted_classes)\n",
    "parameters = model.coef_\n",
    "\n",
    "print(accuracy)\n",
    "parameters\n",
    "# rmse = mean_squared_error(y, regression_model.predict(X))\n",
    "# r2 = r2_score(y, regression_model.predict(X))\n",
    "\n",
    "# # printing values\n",
    "# print('Slope:' ,regression_model.coef_)\n",
    "# print('Intercept:', regression_model.intercept_)\n",
    "# print('Root mean squared error: ', rmse)\n",
    "# print('R2 score: ', r2)\n"
   ]
  },
  {
   "cell_type": "code",
   "execution_count": 29,
   "metadata": {},
   "outputs": [
    {
     "name": "stdout",
     "output_type": "stream",
     "text": [
      "0.96996996996997\n"
     ]
    },
    {
     "data": {
      "text/plain": [
       "array([[-1.92091265,  1.3582728 ,  1.31413302]])"
      ]
     },
     "execution_count": 29,
     "metadata": {},
     "output_type": "execute_result"
    }
   ],
   "source": [
    "X = np.c_[np.ones((X_train2.shape[0], 1)), X_train2]\n",
    "y = y_train2[:, np.newaxis]\n",
    "theta = np.zeros((X.shape[1], 1))\n",
    "\n",
    "from sklearn.linear_model import LogisticRegression \n",
    "from sklearn.metrics import accuracy_score \n",
    "model = LogisticRegression()\n",
    "model.fit(X, y)\n",
    "predicted_classes = model.predict(Xt)\n",
    "accuracy = accuracy_score(yt.flatten(),predicted_classes)\n",
    "parameters = model.coef_\n",
    "\n",
    "print(accuracy)\n",
    "parameters\n",
    "\n",
    "# rmse = mean_squared_error(y, regression_model.predict(X))\n",
    "# r2 = r2_score(y, regression_model.predict(X))\n",
    "\n",
    "# # printing values\n",
    "# print('Slope:' ,regression_model.coef_)\n",
    "# print('Intercept:', regression_model.intercept_)\n",
    "# print('Root mean squared error: ', rmse)\n",
    "# print('R2 score: ', r2)"
   ]
  },
  {
   "cell_type": "code",
   "execution_count": 30,
   "metadata": {},
   "outputs": [
    {
     "name": "stdout",
     "output_type": "stream",
     "text": [
      "0.982982982982983\n"
     ]
    },
    {
     "data": {
      "text/plain": [
       "array([[-2.27862676,  1.83826015,  1.96873071]])"
      ]
     },
     "execution_count": 30,
     "metadata": {},
     "output_type": "execute_result"
    }
   ],
   "source": [
    "X = np.c_[np.ones((X_train3.shape[0], 1)), X_train3]\n",
    "y = y_train3[:, np.newaxis]\n",
    "theta = np.zeros((X.shape[1], 1))\n",
    "\n",
    "from sklearn.linear_model import LogisticRegression \n",
    "from sklearn.metrics import accuracy_score \n",
    "model = LogisticRegression()\n",
    "model.fit(X, y)\n",
    "predicted_classes = model.predict(Xt)\n",
    "accuracy = accuracy_score(yt.flatten(),predicted_classes)\n",
    "parameters = model.coef_\n",
    "\n",
    "print(accuracy)\n",
    "parameters\n",
    "# rmse = mean_squared_error(y, regression_model.predict(X))\n",
    "# r2 = r2_score(y, regression_model.predict(X))\n",
    "\n",
    "# # printing values\n",
    "# print('Slope:' ,regression_model.coef_)\n",
    "# print('Intercept:', regression_model.intercept_)\n",
    "# print('Root mean squared error: ', rmse)\n",
    "# print('R2 score: ', r2)"
   ]
  },
  {
   "cell_type": "code",
   "execution_count": 31,
   "metadata": {},
   "outputs": [
    {
     "name": "stdout",
     "output_type": "stream",
     "text": [
      "0.98998998998999\n"
     ]
    },
    {
     "data": {
      "text/plain": [
       "array([[-3.53128362,  3.19112711,  2.97908363]])"
      ]
     },
     "execution_count": 31,
     "metadata": {},
     "output_type": "execute_result"
    }
   ],
   "source": [
    "X = np.c_[np.ones((X_train4.shape[0], 1)), X_train4]\n",
    "y = y_train4[:, np.newaxis]\n",
    "theta = np.zeros((X.shape[1], 1))\n",
    "\n",
    "from sklearn.linear_model import LogisticRegression \n",
    "from sklearn.metrics import accuracy_score \n",
    "model = LogisticRegression()\n",
    "model.fit(X, y)\n",
    "predicted_classes = model.predict(Xt)\n",
    "accuracy = accuracy_score(yt.flatten(),predicted_classes)\n",
    "parameters = model.coef_\n",
    "\n",
    "print(accuracy)\n",
    "parameters\n",
    "# rmse = mean_squared_error(y, regression_model.predict(X))\n",
    "# r2 = r2_score(y, regression_model.predict(X))\n",
    "\n",
    "# # printing values\n",
    "# print('Slope:' ,regression_model.coef_)\n",
    "# print('Intercept:', regression_model.intercept_)\n",
    "# print('Root mean squared error: ', rmse)\n",
    "# print('R2 score: ', r2)"
   ]
  },
  {
   "cell_type": "code",
   "execution_count": null,
   "metadata": {},
   "outputs": [],
   "source": []
  }
 ],
 "metadata": {
  "kernelspec": {
   "display_name": "Python 3",
   "language": "python",
   "name": "python3"
  },
  "language_info": {
   "codemirror_mode": {
    "name": "ipython",
    "version": 3
   },
   "file_extension": ".py",
   "mimetype": "text/x-python",
   "name": "python",
   "nbconvert_exporter": "python",
   "pygments_lexer": "ipython3",
   "version": "3.6.5"
  }
 },
 "nbformat": 4,
 "nbformat_minor": 2
}
