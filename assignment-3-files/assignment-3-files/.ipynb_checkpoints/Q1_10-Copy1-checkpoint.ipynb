{
 "cells": [
  {
   "cell_type": "code",
   "execution_count": 10,
   "metadata": {},
   "outputs": [],
   "source": [
    "import numpy as np\n",
    "import pandas as pd\n",
    "import random \n",
    "import math\n",
    "import csv\n",
    "import matplotlib.pyplot as plt\n",
    "from scipy.stats import norm\n",
    "from sys import maxsize"
   ]
  },
  {
   "cell_type": "code",
   "execution_count": 14,
   "metadata": {},
   "outputs": [],
   "source": [
    "with open('Gamma_test.csv', newline='') as csvfile:\n",
    "    data = list(csv.reader(csvfile))\n",
    "at=(np.float_(data))\n",
    "with open('Gamma_train.csv', newline='') as csvfile:\n",
    "    data = list(csv.reader(csvfile))\n",
    "a=(np.float_(data))\n",
    "\n",
    "xt=at[:,0:2]\n",
    "yt=at[:,2]\n",
    "At=np.hstack((xt,np.ones((1000,1))))\n",
    "\n",
    "N=10\n",
    "c1=list(range(0,2000))\n",
    "rds=random.sample(c1,N)\n",
    "\n",
    "rs=np.sort(rds)\n",
    "xnew=a[rs,0:2]\n",
    "A=np.hstack((xnew,np.ones((N,1))))\n",
    "y=a[rs,2]\n"
   ]
  },
  {
   "cell_type": "code",
   "execution_count": 28,
   "metadata": {},
   "outputs": [
    {
     "data": {
      "text/plain": [
       "array([[0.    , 1.0766, 1.    ],\n",
       "       [0.1127, 0.1598, 1.    ],\n",
       "       [0.2492, 0.1398, 1.    ],\n",
       "       [5.2936, 2.4622, 1.    ],\n",
       "       [2.5877, 1.6359, 1.    ],\n",
       "       [8.1692, 1.0763, 1.    ],\n",
       "       [4.5357, 4.8759, 1.    ],\n",
       "       [3.8352, 8.0886, 1.    ],\n",
       "       [1.069 , 2.4385, 1.    ],\n",
       "       [2.3281, 0.4034, 1.    ]])"
      ]
     },
     "execution_count": 28,
     "metadata": {},
     "output_type": "execute_result"
    }
   ],
   "source": [
    "A"
   ]
  },
  {
   "cell_type": "code",
   "execution_count": 16,
   "metadata": {},
   "outputs": [],
   "source": [
    "l=0"
   ]
  },
  {
   "cell_type": "code",
   "execution_count": 20,
   "metadata": {},
   "outputs": [],
   "source": [
    "W=np.matmul(np.linalg.inv(np.matmul(A.T,A)),np.matmul(A.T,y))"
   ]
  },
  {
   "cell_type": "code",
   "execution_count": 22,
   "metadata": {},
   "outputs": [
    {
     "data": {
      "text/plain": [
       "array([-0.21826145, -0.1123916 ,  0.46634338])"
      ]
     },
     "execution_count": 22,
     "metadata": {},
     "output_type": "execute_result"
    }
   ],
   "source": [
    "W"
   ]
  },
  {
   "cell_type": "code",
   "execution_count": 24,
   "metadata": {},
   "outputs": [
    {
     "data": {
      "text/plain": [
       "0.5117146944172024"
      ]
     },
     "execution_count": 24,
     "metadata": {},
     "output_type": "execute_result"
    }
   ],
   "source": [
    "MSE=np.sum(np.square(yt-np.matmul(At,W)))/1000\n",
    "MSE"
   ]
  },
  {
   "cell_type": "code",
   "execution_count": 25,
   "metadata": {},
   "outputs": [],
   "source": [
    "WX=np.matmul(At,W.T)\n",
    "EB=np.matmul(At,W.T)\n",
    "for i in range(0,1000):\n",
    "        if WX[i]>0:\n",
    "            WX[i]=1\n",
    "        else:\n",
    "            WX[i]=-1"
   ]
  },
  {
   "cell_type": "code",
   "execution_count": 26,
   "metadata": {},
   "outputs": [
    {
     "data": {
      "text/plain": [
       "530"
      ]
     },
     "execution_count": 26,
     "metadata": {},
     "output_type": "execute_result"
    }
   ],
   "source": [
    "1000-((WX-yt)==0).sum()"
   ]
  },
  {
   "cell_type": "code",
   "execution_count": 30,
   "metadata": {},
   "outputs": [
    {
     "name": "stdout",
     "output_type": "stream",
     "text": [
      "Norm 0.030000000000000006\n",
      "Norm 1.72170989740625e-06\n"
     ]
    }
   ],
   "source": [
    "epsi=0.0001\n",
    "eta=0.0001\n",
    "wk=np.zeros(3)\n",
    "i=0\n",
    "wkn=0.1*np.ones(3)\n",
    "\n",
    "print(\"Norm\",np.dot((wkn-wk),(wkn-wk)))\n",
    "\n",
    "while np.dot((wkn-wk),(wkn-wk)) > epsi:\n",
    "    \n",
    "    sum1=0\n",
    "    for i in range(0,N):\n",
    "        ea=np.dot(wk,A[i,:])\n",
    "        h=1/(1+math.exp(-ea))\n",
    "        sum1=sum1+h*h*math.exp(-ea)*(A[i,:].T*(h - y[i]))\n",
    "    wkn = wk\n",
    "    \n",
    "    wk=wk-eta*sum1\n",
    "    print(\"Norm\",np.dot((wkn-wk),(wkn-wk)))"
   ]
  },
  {
   "cell_type": "code",
   "execution_count": 31,
   "metadata": {},
   "outputs": [],
   "source": [
    "yr=[]\n",
    "for i in range(0,1000):\n",
    "    if np.dot(wk,At[i,:])>0:\n",
    "        yr.append(1)\n",
    "    else:\n",
    "        yr.append(-1)"
   ]
  },
  {
   "cell_type": "code",
   "execution_count": 32,
   "metadata": {},
   "outputs": [
    {
     "data": {
      "text/plain": [
       "500"
      ]
     },
     "execution_count": 32,
     "metadata": {},
     "output_type": "execute_result"
    }
   ],
   "source": [
    "1000 - ((yr-yt)==0).sum()"
   ]
  },
  {
   "cell_type": "code",
   "execution_count": null,
   "metadata": {},
   "outputs": [],
   "source": []
  }
 ],
 "metadata": {
  "kernelspec": {
   "display_name": "Python 3",
   "language": "python",
   "name": "python3"
  },
  "language_info": {
   "codemirror_mode": {
    "name": "ipython",
    "version": 3
   },
   "file_extension": ".py",
   "mimetype": "text/x-python",
   "name": "python",
   "nbconvert_exporter": "python",
   "pygments_lexer": "ipython3",
   "version": "3.6.5"
  }
 },
 "nbformat": 4,
 "nbformat_minor": 2
}
