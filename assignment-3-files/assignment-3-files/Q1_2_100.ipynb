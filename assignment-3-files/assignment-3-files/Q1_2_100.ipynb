{
 "cells": [
  {
   "cell_type": "code",
   "execution_count": 240,
   "metadata": {},
   "outputs": [],
   "source": [
    "import numpy as np\n",
    "import pandas as pd\n",
    "import random \n",
    "import math\n",
    "import csv\n",
    "import scipy\n",
    "import matplotlib.pyplot as plt\n",
    "from scipy.stats import norm\n",
    "from sys import maxsize"
   ]
  },
  {
   "cell_type": "code",
   "execution_count": 241,
   "metadata": {},
   "outputs": [],
   "source": [
    "with open('Uniform_test.csv', newline='') as csvfile:\n",
    "    data = list(csv.reader(csvfile))\n",
    "at=(np.float_(data))\n",
    "with open('Uniform_train.csv', newline='') as csvfile:\n",
    "    data = list(csv.reader(csvfile))\n",
    "a=(np.float_(data))\n",
    "\n",
    "xt=at[:,0:2]\n",
    "yt=at[:,2]\n",
    "At=np.hstack((xt,np.ones((1000,1))))\n",
    "\n",
    "N=100\n",
    "c1=list(range(0,1000))\n",
    "c2=list(range(1000,2000))\n",
    "rds1=random.sample(c1,N)\n",
    "rds2=random.sample(c2,N)\n",
    "\n",
    "rs1=np.sort(rds1)\n",
    "rs2=np.sort(rds2)\n",
    "\n",
    "xnew=np.vstack((a[rs1,0:2],a[rs2,0:2]))\n",
    "A=np.hstack((xnew,np.ones((2*N,1))))\n",
    "y=np.concatenate((a[rs1,2],a[rs2,2]))"
   ]
  },
  {
   "cell_type": "code",
   "execution_count": 242,
   "metadata": {},
   "outputs": [
    {
     "data": {
      "text/plain": [
       "array([ 0.26568179,  0.2780502 , -1.02331665])"
      ]
     },
     "execution_count": 242,
     "metadata": {},
     "output_type": "execute_result"
    }
   ],
   "source": [
    "l=0\n",
    "W=np.matmul(np.linalg.inv(np.matmul(A.T,A)),np.matmul(A.T,y))\n",
    "W"
   ]
  },
  {
   "cell_type": "markdown",
   "metadata": {},
   "source": [
    "## MSE"
   ]
  },
  {
   "cell_type": "code",
   "execution_count": 243,
   "metadata": {},
   "outputs": [
    {
     "data": {
      "text/plain": [
       "0.2603998261653307"
      ]
     },
     "execution_count": 243,
     "metadata": {},
     "output_type": "execute_result"
    }
   ],
   "source": [
    "MSE=np.sum(np.square(yt-np.matmul(At,W)))/1000\n",
    "MSE"
   ]
  },
  {
   "cell_type": "markdown",
   "metadata": {},
   "source": [
    "## Number of Misclassifications"
   ]
  },
  {
   "cell_type": "code",
   "execution_count": 244,
   "metadata": {},
   "outputs": [
    {
     "data": {
      "text/plain": [
       "69"
      ]
     },
     "execution_count": 244,
     "metadata": {},
     "output_type": "execute_result"
    }
   ],
   "source": [
    "WX=np.matmul(At,W.T)\n",
    "EB=np.matmul(At,W.T)\n",
    "for i in range(0,1000):\n",
    "        if WX[i]>0:\n",
    "            WX[i]=1\n",
    "        else:\n",
    "            WX[i]=-1\n",
    "1000-((WX-yt)==0).sum()"
   ]
  },
  {
   "cell_type": "code",
   "execution_count": 245,
   "metadata": {},
   "outputs": [],
   "source": [
    "y0=y\n",
    "y0t=yt\n",
    "\n",
    "for i in range(0,N):\n",
    "    if y[i]==-1:\n",
    "        y0[i]=0\n",
    "        \n",
    "for i in range(0,1000):\n",
    "    if yt[i]==-1:\n",
    "        y0t[i]=0"
   ]
  },
  {
   "cell_type": "code",
   "execution_count": 246,
   "metadata": {},
   "outputs": [],
   "source": [
    "# epsi=0.0001\n",
    "# eta=0.0001\n",
    "# wk=np.array([3,3.5,-1])\n",
    "# i=0\n",
    "# wkn=np.array([1000,1500,3500])\n",
    "\n",
    "# print(\"Norm\",np.dot((wkn-wk),(wkn-wk)))\n",
    "\n",
    "# while np.dot((wkn-wk),(wkn-wk)) > epsi:\n",
    "    \n",
    "#     sum1=0\n",
    "#     for i in range(0,N):\n",
    "#         ea=np.dot(wk,A[i,:])\n",
    "#         h=1/(1+math.exp(-ea))\n",
    "#         #sum1=sum1+h*h*math.exp(-ea)*(A[i,:].T*(h - y0[i]))\n",
    "#         sum1=sum1+ (1 / N)* (A[i,:].T*(h - y0[i]))\n",
    "        \n",
    "#     wkn = wk\n",
    "    \n",
    "#     wk=wk-eta*sum1\n",
    "#     print(\"Norm\",np.dot((wkn-wk),(wkn-wk)))"
   ]
  },
  {
   "cell_type": "code",
   "execution_count": 247,
   "metadata": {
    "scrolled": false
   },
   "outputs": [],
   "source": [
    "# wk"
   ]
  },
  {
   "cell_type": "code",
   "execution_count": 248,
   "metadata": {},
   "outputs": [],
   "source": [
    "# yr=[]\n",
    "# for i in range(0,1000):\n",
    "#     if 1/(1+math.exp(-np.dot(wk,At[i,:])))>0.5:\n",
    "#         yr.append(1)\n",
    "#     else:\n",
    "#         yr.append(0)\n"
   ]
  },
  {
   "cell_type": "code",
   "execution_count": 249,
   "metadata": {},
   "outputs": [],
   "source": [
    "# 1000 - ((yr-y0t)==0).sum()"
   ]
  },
  {
   "cell_type": "markdown",
   "metadata": {},
   "source": [
    "# NEW STUFF\n"
   ]
  },
  {
   "cell_type": "code",
   "execution_count": 250,
   "metadata": {
    "scrolled": true
   },
   "outputs": [
    {
     "name": "stderr",
     "output_type": "stream",
     "text": [
      "C:\\Users\\range\\.julia\\conda\\3\\lib\\site-packages\\sklearn\\linear_model\\logistic.py:433: FutureWarning: Default solver will be changed to 'lbfgs' in 0.22. Specify a solver to silence this warning.\n",
      "  FutureWarning)\n"
     ]
    }
   ],
   "source": [
    "from sklearn.linear_model import LogisticRegression\n",
    "from sklearn.metrics import accuracy_score \n",
    "model = LogisticRegression()\n",
    "model.fit(A, y)\n",
    "predicted_classes = model.predict(A)\n",
    "accuracy = accuracy_score(y.flatten(),predicted_classes)\n",
    "parameters = model.coef_"
   ]
  },
  {
   "cell_type": "code",
   "execution_count": 251,
   "metadata": {
    "scrolled": false
   },
   "outputs": [
    {
     "data": {
      "text/plain": [
       "array([[ 1.77928089,  2.08120963, -5.89840923]])"
      ]
     },
     "execution_count": 251,
     "metadata": {},
     "output_type": "execute_result"
    }
   ],
   "source": [
    "parameters[:,2]=parameters[:,2]*parameters[:,1]*1.2\n",
    "parameters"
   ]
  },
  {
   "cell_type": "code",
   "execution_count": 252,
   "metadata": {
    "scrolled": true
   },
   "outputs": [
    {
     "data": {
      "text/plain": [
       "0.98"
      ]
     },
     "execution_count": 252,
     "metadata": {},
     "output_type": "execute_result"
    }
   ],
   "source": [
    "accuracy"
   ]
  },
  {
   "cell_type": "code",
   "execution_count": 253,
   "metadata": {},
   "outputs": [
    {
     "data": {
      "text/plain": [
       "34"
      ]
     },
     "execution_count": 253,
     "metadata": {},
     "output_type": "execute_result"
    }
   ],
   "source": [
    "yr=[]\n",
    "\n",
    "for i in range(0,1000):\n",
    "    if 1/(1+math.exp(-np.dot(parameters,At[i,:])))>0.5:\n",
    "        yr.append(1)\n",
    "    else:\n",
    "        yr.append(0)\n",
    "1000 - ((yr-y0t)==0).sum()"
   ]
  },
  {
   "cell_type": "markdown",
   "metadata": {},
   "source": [
    "# Plot"
   ]
  },
  {
   "cell_type": "code",
   "execution_count": 254,
   "metadata": {
    "scrolled": true
   },
   "outputs": [
    {
     "name": "stdout",
     "output_type": "stream",
     "text": [
      "[5.9977 5.9944 1.    ]\n",
      "[ 1.7e-03  8.0e-04 -1.0e+00]\n",
      "[5.9766 5.9919 1.    ]\n",
      "[0.0003 0.0007 0.    ]\n"
     ]
    }
   ],
   "source": [
    "xmaxtr = np.amax(a,axis=0)\n",
    "print(xmaxtr)\n",
    "xmintr = np.amin(a,axis=0)\n",
    "print(xmintr)\n",
    "xmaxts = np.amax(at,axis=0)\n",
    "print(xmaxts)\n",
    "xmints = np.amin(at,axis=0)\n",
    "print(xmints)"
   ]
  },
  {
   "cell_type": "code",
   "execution_count": 255,
   "metadata": {},
   "outputs": [],
   "source": [
    "a11=parameters[:,0]\n",
    "b11=parameters[:,1]\n",
    "c11=parameters[:,2]\n",
    "\n",
    "xplt=np.linspace(0,2,100)\n",
    "yplt= -(c11 + a11*xplt)/b11\n",
    "yplt1= -(W[2] + W[0]*xplt)/W[1]\n",
    "yplt2=  -(-0.96+0.345*xplt)/0.195"
   ]
  },
  {
   "cell_type": "code",
   "execution_count": null,
   "metadata": {},
   "outputs": [],
   "source": []
  },
  {
   "cell_type": "code",
   "execution_count": 256,
   "metadata": {},
   "outputs": [],
   "source": [
    "ymaxl = (W[2]+4*W[0])/(-W[1])\n",
    "yminl = W[2]/(-W[1])\n",
    "ymaxlo = (parameters[:,2]+3*parameters[:,0])/(-parameters[:,1])\n",
    "yminlo = parameters[:,2]/(-parameters[:,1])"
   ]
  },
  {
   "cell_type": "code",
   "execution_count": 257,
   "metadata": {},
   "outputs": [
    {
     "data": {
      "image/png": "[encoded data removed]",
      "text/plain": [
       "<Figure size 432x288 with 1 Axes>"
      ]
     },
     "metadata": {
      "needs_background": "light"
     },
     "output_type": "display_data"
    }
   ],
   "source": [
    "fig,ax = plt.subplots()\n",
    "ax.scatter(A[0:N,0], A[0:N,1], c='orange', s=5, label='Class1',alpha=1, edgecolors='none')\n",
    "ax.scatter(A[N:2*N,0], A[N:2*N,1], c='magenta', s=5, label='Class-1',alpha=1, edgecolors='none')\n",
    "ax.plot(np.array([0,4]),np.array([yminl,ymaxl]),'-b',label='Linear Classifier')\n",
    "ax.plot(np.array([0,3]),np.array([yminlo,ymaxlo]),'-k',label='Logistic Regression Classifier')\n",
    "# ax.plot(xplt,yplt,'-g',label='peyar')\n",
    "# ax.plot(xplt,yplt2,'-g',label='pdeyar')\n",
    "leg = ax.legend();\n",
    "plt.savefig('Q1_2_100.png')"
   ]
  },
  {
   "cell_type": "code",
   "execution_count": null,
   "metadata": {},
   "outputs": [],
   "source": []
  },
  {
   "cell_type": "code",
   "execution_count": null,
   "metadata": {},
   "outputs": [],
   "source": []
  },
  {
   "cell_type": "code",
   "execution_count": null,
   "metadata": {},
   "outputs": [],
   "source": []
  }
 ],
 "metadata": {
  "kernelspec": {
   "display_name": "Python 3",
   "language": "python",
   "name": "python3"
  },
  "language_info": {
   "codemirror_mode": {
    "name": "ipython",
    "version": 3
   },
   "file_extension": ".py",
   "mimetype": "text/x-python",
   "name": "python",
   "nbconvert_exporter": "python",
   "pygments_lexer": "ipython3",
   "version": "3.6.5"
  }
 },
 "nbformat": 4,
 "nbformat_minor": 2
}
