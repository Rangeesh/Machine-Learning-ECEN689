{
 "cells": [
  {
   "cell_type": "code",
   "execution_count": 443,
   "metadata": {},
   "outputs": [],
   "source": [
    "import numpy as np\n",
    "import pandas as pd\n",
    "import random \n",
    "import math\n",
    "import matplotlib.pyplot as plt\n",
    "from scipy.stats import norm\n",
    "from sys import maxsize"
   ]
  },
  {
   "cell_type": "code",
   "execution_count": 444,
   "metadata": {},
   "outputs": [],
   "source": [
    "a=np.loadtxt(open(\"1D_regression_data.csv\", \"rb\"))\n",
    "c1=list(range(0,100))\n",
    "rds=random.sample(c1,70)\n",
    "rds_sort=np.sort(rds)\n",
    "x=np.transpose(a[rds_sort,0])\n",
    "y=np.transpose(a[rds_sort,1])"
   ]
  },
  {
   "cell_type": "code",
   "execution_count": 445,
   "metadata": {},
   "outputs": [],
   "source": [
    "l=0.1"
   ]
  },
  {
   "cell_type": "code",
   "execution_count": 446,
   "metadata": {
    "scrolled": true
   },
   "outputs": [
    {
     "data": {
      "text/plain": [
       "14971.05385189757"
      ]
     },
     "execution_count": 446,
     "metadata": {},
     "output_type": "execute_result"
    }
   ],
   "source": [
    "#Linear\n",
    "A1=np.array([x,np.ones(70)]).T\n",
    "W_star1=np.matmul(np.linalg.inv(np.matmul(A1.T,A1)+l*np.eye(2)),np.matmul(A1.T,y))\n",
    "W_star1\n",
    "cost1=np.dot((y-np.matmul(A1,W_star1.T)),(y-np.matmul(A1,W_star1.T)))\n",
    "cost1"
   ]
  },
  {
   "cell_type": "code",
   "execution_count": 447,
   "metadata": {},
   "outputs": [],
   "source": [
    "# fig,ax = plt.subplots()\n",
    "# ax.scatter(x, y, c='green', s=10, label='Training data',alpha=1, edgecolors='none')\n",
    "# ax.plot(x,(np.matmul(A1,W_star1.T)),'-b',label='Linear fit')\n",
    "\n",
    "# leg = ax.legend();\n",
    "# plt.xlabel('x')\n",
    "# plt.ylabel('y')\n",
    "# plt.title('Q4. Training Fits')\n",
    "# plt.savefig('Q4T1.png')"
   ]
  },
  {
   "cell_type": "code",
   "execution_count": 448,
   "metadata": {},
   "outputs": [
    {
     "data": {
      "text/plain": [
       "array([  7.44420721,  11.70391413,  10.89675524,  10.76280035,\n",
       "        10.38208935,   9.64722558,   8.58912291,  10.17494735,\n",
       "         9.92181118,  10.68498806,  11.47858705,   8.82573081,\n",
       "         9.16965108,   8.03805275,   8.76361471,   4.41162094,\n",
       "         7.53374393,   9.14040017,   8.5616719 ,   3.60682551,\n",
       "         6.49708685,   3.66309271,   0.24336032,  -4.28858239,\n",
       "        -0.12629027,  -2.01748972,  -6.62226151,  -6.34435961,\n",
       "       -11.79106524,  -7.91355314, -11.32661863,  -7.75627177,\n",
       "       -10.64438035, -10.28639639, -10.84942323, -13.49095482,\n",
       "       -15.82858817, -16.84085507, -13.9266225 , -13.76280675,\n",
       "       -16.58817364, -14.61492007, -19.69493456, -16.20593025,\n",
       "       -14.60777436, -16.94364205, -13.17003993, -20.42188433,\n",
       "       -17.02223363, -16.69000376, -16.92465684, -17.82947345,\n",
       "       -14.70212301, -12.99126894,  -9.89800683, -13.84069284,\n",
       "        -6.65238017,  -3.63835646,   1.55643692,   2.55368798,\n",
       "         6.57409542,  14.41771804,  14.38392356,  14.36902747,\n",
       "        19.50462235,  17.5843446 ,  19.74047881,  36.66224191,\n",
       "        42.74133703,  47.16803477])"
      ]
     },
     "execution_count": 448,
     "metadata": {},
     "output_type": "execute_result"
    }
   ],
   "source": [
    "(y-np.matmul(A1,W_star1.T))"
   ]
  },
  {
   "cell_type": "code",
   "execution_count": 449,
   "metadata": {
    "scrolled": true
   },
   "outputs": [
    {
     "data": {
      "text/plain": [
       "3786.45283382806"
      ]
     },
     "execution_count": 449,
     "metadata": {},
     "output_type": "execute_result"
    }
   ],
   "source": [
    "#Square\n",
    "A2=np.array([np.power(x,2),x,np.ones(70)]).T\n",
    "W_star2=np.matmul(np.linalg.inv(np.matmul(A2.T,A2)+l*np.eye(3)),np.matmul(A2.T,y))\n",
    "W_star2\n",
    "cost2=np.dot((y-np.matmul(A2,W_star2.T)),(y-np.matmul(A2,W_star2.T)))\n",
    "cost2"
   ]
  },
  {
   "cell_type": "code",
   "execution_count": 450,
   "metadata": {},
   "outputs": [],
   "source": [
    "# fig,ax = plt.subplots()\n",
    "# ax.plot(x,y,'--g',label='given class 1')\n",
    "# ax.plot(x,(np.matmul(A2,W_star2.T)),'--b',label='given class 2')\n",
    "# leg = ax.legend();\n",
    "# plt.xlabel('x')\n",
    "# plt.ylabel('class conditional densities')\n",
    "# plt.title('3a) EM and Ideal')\n",
    "# plt.savefig('3aEM2.png')"
   ]
  },
  {
   "cell_type": "code",
   "execution_count": 451,
   "metadata": {
    "scrolled": true
   },
   "outputs": [
    {
     "data": {
      "text/plain": [
       "array([ 0.24900839,  1.22365032, -2.92710878, -2.46580213])"
      ]
     },
     "execution_count": 451,
     "metadata": {},
     "output_type": "execute_result"
    }
   ],
   "source": [
    "#Cube\n",
    "A3=np.array([np.power(x,3),np.power(x,2),x,np.ones(70)]).T\n",
    "W_star3=np.matmul(np.linalg.inv(np.matmul(A3.T,A3)+l*np.eye(4)),np.matmul(A3.T,y))\n",
    "W_star3"
   ]
  },
  {
   "cell_type": "code",
   "execution_count": 452,
   "metadata": {
    "scrolled": true
   },
   "outputs": [
    {
     "data": {
      "text/plain": [
       "241.7811081405351"
      ]
     },
     "execution_count": 452,
     "metadata": {},
     "output_type": "execute_result"
    }
   ],
   "source": [
    "cost3=np.dot((y-np.matmul(A3,W_star3.T)),(y-np.matmul(A3,W_star3.T)))\n",
    "cost3"
   ]
  },
  {
   "cell_type": "code",
   "execution_count": 453,
   "metadata": {},
   "outputs": [
    {
     "data": {
      "text/plain": [
       "3.6931547608048834"
      ]
     },
     "execution_count": 453,
     "metadata": {},
     "output_type": "execute_result"
    }
   ],
   "source": [
    "Wgiven = np.array([0.25, 1.25, -3, -3])\n",
    "xtot = np.transpose(a[:,0])\n",
    "ytot = np.transpose(a[:,1])\n",
    "Atot = np.array([np.power(xtot,3),np.power(xtot,2),xtot,np.ones(100)]).T\n",
    "vartot = np.dot((ytot-np.matmul(Atot,Wgiven.T)),(ytot-np.matmul(Atot,Wgiven.T)))/100\n",
    "vartot"
   ]
  },
  {
   "cell_type": "code",
   "execution_count": 454,
   "metadata": {},
   "outputs": [],
   "source": [
    "# fig,ax = plt.subplots()\n",
    "# ax.plot(x,y,'--g',label='given class 1')\n",
    "# ax.plot(x,(np.matmul(A3,W_star3.T)),'--b',label='given class 2')\n",
    "# leg = ax.legend();\n",
    "# plt.xlabel('x')\n",
    "# plt.ylabel('class conditional densities')\n",
    "# plt.title('3a) EM and Ideal')\n",
    "# plt.savefig('3aEM2.png')"
   ]
  },
  {
   "cell_type": "code",
   "execution_count": 455,
   "metadata": {},
   "outputs": [
    {
     "data": {
      "text/plain": [
       "array([ 2.90290125e-03,  2.49034963e-01,  1.14108167e+00, -2.93056703e+00,\n",
       "       -2.21647291e+00])"
      ]
     },
     "execution_count": 455,
     "metadata": {},
     "output_type": "execute_result"
    }
   ],
   "source": [
    "#Fourth\n",
    "A4=np.array([np.power(x,4),np.power(x,3),np.power(x,2),x,np.ones(70)]).T\n",
    "W_star4=np.matmul(np.linalg.inv(np.matmul(A4.T,A4)+l*np.eye(5)),np.matmul(A4.T,y))\n",
    "W_star4"
   ]
  },
  {
   "cell_type": "code",
   "execution_count": 456,
   "metadata": {},
   "outputs": [
    {
     "data": {
      "text/plain": [
       "237.40917568669954"
      ]
     },
     "execution_count": 456,
     "metadata": {},
     "output_type": "execute_result"
    }
   ],
   "source": [
    "cost4=np.dot((y-np.matmul(A4,W_star4.T)),(y-np.matmul(A4,W_star4.T)))\n",
    "cost4"
   ]
  },
  {
   "cell_type": "code",
   "execution_count": 457,
   "metadata": {},
   "outputs": [],
   "source": [
    "# fig,ax = plt.subplots()\n",
    "# ax.plot(x,y,'--g',label='given class 1')\n",
    "# ax.plot(x,(np.matmul(A4,W_star4.T)),'--b',label='given class 2')\n",
    "# leg = ax.legend();\n",
    "# plt.xlabel('x')\n",
    "# plt.ylabel('class conditional densities')\n",
    "# plt.title('3a) EM and Ideal')\n",
    "# plt.savefig('3aEM2.png')"
   ]
  },
  {
   "cell_type": "code",
   "execution_count": 458,
   "metadata": {},
   "outputs": [
    {
     "data": {
      "text/plain": [
       "array([ 3.35995986e-04,  2.88748035e-03,  2.36336087e-01,  1.14111799e+00,\n",
       "       -2.83605650e+00, -2.21719881e+00])"
      ]
     },
     "execution_count": 458,
     "metadata": {},
     "output_type": "execute_result"
    }
   ],
   "source": [
    "#Fifth\n",
    "A5=np.array([np.power(x,5),np.power(x,4),np.power(x,3),np.power(x,2),x,np.ones(70)]).T\n",
    "W_star5=np.matmul(np.linalg.inv(np.matmul(A5.T,A5)+l*np.eye(6)),np.matmul(A5.T,y))\n",
    "W_star5"
   ]
  },
  {
   "cell_type": "code",
   "execution_count": 459,
   "metadata": {},
   "outputs": [
    {
     "data": {
      "text/plain": [
       "236.97984366358503"
      ]
     },
     "execution_count": 459,
     "metadata": {},
     "output_type": "execute_result"
    }
   ],
   "source": [
    "cost5=np.dot((y-np.matmul(A5,W_star5.T)),(y-np.matmul(A5,W_star5.T)))\n",
    "cost5"
   ]
  },
  {
   "cell_type": "code",
   "execution_count": 460,
   "metadata": {},
   "outputs": [],
   "source": [
    "# fig,ax = plt.subplots()\n",
    "# ax.plot(x,y,'--g',label='given class 1')\n",
    "# ax.plot(x,(np.matmul(A5,W_star5.T)),'--b',label='given class 2')\n",
    "# leg = ax.legend();\n",
    "# plt.xlabel('x')\n",
    "# plt.ylabel('class conditional densities')\n",
    "# plt.title('3a) EM and Ideal')\n",
    "# plt.savefig('3aEM2.png')"
   ]
  },
  {
   "cell_type": "code",
   "execution_count": 461,
   "metadata": {},
   "outputs": [
    {
     "data": {
      "image/png": "[encoded data removed]",
      "text/plain": [
       "<Figure size 432x288 with 1 Axes>"
      ]
     },
     "metadata": {
      "needs_background": "light"
     },
     "output_type": "display_data"
    }
   ],
   "source": [
    "fig,ax = plt.subplots()\n",
    "ax.scatter(x, y, c='green', s=10, label='Training data',alpha=1, edgecolors='none')\n",
    "ax.plot(x,(np.matmul(A1,W_star1.T)),'-b',label='Linear fit')\n",
    "ax.plot(x,(np.matmul(A2,W_star2.T)),'--m',label='Quadratic fit')\n",
    "ax.plot(x,(np.matmul(A3,W_star3.T)),'-r',label='Cubic fit')\n",
    "ax.plot(x,(np.matmul(A4,W_star4.T)),'--y',label='Fourth degree fit')\n",
    "ax.plot(x,(np.matmul(A5,W_star5.T)),'--k',label='Fifth degree fit')\n",
    "leg = ax.legend();\n",
    "plt.xlabel('x')\n",
    "plt.ylabel('y')\n",
    "plt.title('Q4. Training Fits')\n",
    "plt.savefig('Q4T.png')"
   ]
  },
  {
   "cell_type": "code",
   "execution_count": 462,
   "metadata": {},
   "outputs": [],
   "source": [
    "rds_rem=np.setdiff1d(range(0,100),rds_sort)\n",
    "xt=np.transpose(a[rds_rem,0])\n",
    "yt=np.transpose(a[rds_rem,1])\n"
   ]
  },
  {
   "cell_type": "code",
   "execution_count": 463,
   "metadata": {},
   "outputs": [
    {
     "data": {
      "text/plain": [
       "7225.868540718216"
      ]
     },
     "execution_count": 463,
     "metadata": {},
     "output_type": "execute_result"
    }
   ],
   "source": [
    "A1t=np.array([xt,np.ones(30)]).T\n",
    "cost1t=np.dot((yt-np.matmul(A1t,W_star1.T)),(yt-np.matmul(A1t,W_star1.T)))\n",
    "cost1t"
   ]
  },
  {
   "cell_type": "code",
   "execution_count": 464,
   "metadata": {},
   "outputs": [
    {
     "data": {
      "text/plain": [
       "2550.446111569002"
      ]
     },
     "execution_count": 464,
     "metadata": {},
     "output_type": "execute_result"
    }
   ],
   "source": [
    "A2t=np.array([np.power(xt,2),xt,np.ones(30)]).T\n",
    "cost2t=np.dot((yt-np.matmul(A2t,W_star2.T)),(yt-np.matmul(A2t,W_star2.T)))\n",
    "cost2t"
   ]
  },
  {
   "cell_type": "code",
   "execution_count": 465,
   "metadata": {},
   "outputs": [
    {
     "data": {
      "text/plain": [
       "113.09644063564423"
      ]
     },
     "execution_count": 465,
     "metadata": {},
     "output_type": "execute_result"
    }
   ],
   "source": [
    "A3t=np.array([np.power(xt,3),np.power(xt,2),xt,np.ones(30)]).T\n",
    "cost3t=np.dot((yt-np.matmul(A3t,W_star3.T)),(yt-np.matmul(A3t,W_star3.T)))\n",
    "cost3t"
   ]
  },
  {
   "cell_type": "code",
   "execution_count": 466,
   "metadata": {},
   "outputs": [
    {
     "data": {
      "text/plain": [
       "103.38694865342822"
      ]
     },
     "execution_count": 466,
     "metadata": {},
     "output_type": "execute_result"
    }
   ],
   "source": [
    "A4t=np.array([np.power(xt,4),np.power(xt,3),np.power(xt,2),xt,np.ones(30)]).T\n",
    "cost4t=np.dot((yt-np.matmul(A4t,W_star4.T)),(yt-np.matmul(A4t,W_star4.T)))\n",
    "cost4t"
   ]
  },
  {
   "cell_type": "code",
   "execution_count": 467,
   "metadata": {},
   "outputs": [
    {
     "data": {
      "text/plain": [
       "110.83968652776558"
      ]
     },
     "execution_count": 467,
     "metadata": {},
     "output_type": "execute_result"
    }
   ],
   "source": [
    "A5t=np.array([np.power(xt,5),np.power(xt,4),np.power(xt,3),np.power(xt,2),xt,np.ones(30)]).T\n",
    "cost5t=np.dot((yt-np.matmul(A5t,W_star5.T)),(yt-np.matmul(A5t,W_star5.T)))\n",
    "cost5t"
   ]
  },
  {
   "cell_type": "code",
   "execution_count": 468,
   "metadata": {},
   "outputs": [
    {
     "data": {
      "image/png": "[encoded data removed]",
      "text/plain": [
       "<Figure size 432x288 with 1 Axes>"
      ]
     },
     "metadata": {
      "needs_background": "light"
     },
     "output_type": "display_data"
    }
   ],
   "source": [
    "fig,ax = plt.subplots()\n",
    "ax.scatter(xt, yt, c='green', s=10, label='Test data',alpha=1, edgecolors='none')\n",
    "ax.plot(xt,(np.matmul(A1t,W_star1.T)),'-b',label='Linear fit')\n",
    "ax.plot(xt,(np.matmul(A2t,W_star2.T)),'--m',label='Quadratic fit')\n",
    "ax.plot(xt,(np.matmul(A3t,W_star3.T)),'-r',label='Cubic fit')\n",
    "ax.plot(xt,(np.matmul(A4t,W_star4.T)),'--y',label='Fourth degree fit')\n",
    "ax.plot(xt,(np.matmul(A5t,W_star5.T)),'--k',label='Fifth degree fit')\n",
    "leg = ax.legend();\n",
    "plt.xlabel('x')\n",
    "plt.ylabel('y')\n",
    "plt.title('Q4. Test data Fits')\n",
    "plt.savefig('Q4Test.png')"
   ]
  },
  {
   "cell_type": "code",
   "execution_count": 469,
   "metadata": {},
   "outputs": [
    {
     "data": {
      "text/plain": [
       "array([213.87219788,  54.09218334,   3.45401583,   3.39155965,\n",
       "         3.38542634])"
      ]
     },
     "execution_count": 469,
     "metadata": {},
     "output_type": "execute_result"
    }
   ],
   "source": [
    "trvar = (1/70)*np.array([cost1, cost2, cost3, cost4, cost5])\n",
    "trvar"
   ]
  },
  {
   "cell_type": "code",
   "execution_count": 470,
   "metadata": {},
   "outputs": [
    {
     "data": {
      "text/plain": [
       "array([240.86228469,  85.01487039,   3.76988135,   3.44623162,\n",
       "         3.69465622])"
      ]
     },
     "execution_count": 470,
     "metadata": {},
     "output_type": "execute_result"
    }
   ],
   "source": [
    "testvar = (1/30)*np.array([cost1t, cost2t, cost3t, cost4t, cost5t])\n",
    "testvar"
   ]
  },
  {
   "cell_type": "code",
   "execution_count": 471,
   "metadata": {},
   "outputs": [
    {
     "data": {
      "text/plain": [
       "array([221.96922393,  63.36898945,   3.54877549,   3.40796124,\n",
       "         3.4781953 ])"
      ]
     },
     "execution_count": 471,
     "metadata": {},
     "output_type": "execute_result"
    }
   ],
   "source": [
    "totvar = (1/100)*np.array([cost1+cost1t, cost2+cost2t,cost3+cost3t,cost4+cost4t,cost5+cost5t])\n",
    "totvar"
   ]
  },
  {
   "cell_type": "code",
   "execution_count": 472,
   "metadata": {},
   "outputs": [
    {
     "data": {
      "text/plain": [
       "array([ 2.06229846, 11.44234194])"
      ]
     },
     "execution_count": 472,
     "metadata": {},
     "output_type": "execute_result"
    }
   ],
   "source": [
    "W_star1"
   ]
  },
  {
   "cell_type": "code",
   "execution_count": 473,
   "metadata": {},
   "outputs": [
    {
     "data": {
      "text/plain": [
       "array([ 1.21655748,  2.27486624, -2.39731746])"
      ]
     },
     "execution_count": 473,
     "metadata": {},
     "output_type": "execute_result"
    }
   ],
   "source": [
    "W_star2"
   ]
  },
  {
   "cell_type": "code",
   "execution_count": 474,
   "metadata": {},
   "outputs": [
    {
     "data": {
      "text/plain": [
       "array([ 0.24900839,  1.22365032, -2.92710878, -2.46580213])"
      ]
     },
     "execution_count": 474,
     "metadata": {},
     "output_type": "execute_result"
    }
   ],
   "source": [
    "W_star3"
   ]
  },
  {
   "cell_type": "code",
   "execution_count": 475,
   "metadata": {},
   "outputs": [
    {
     "data": {
      "text/plain": [
       "array([ 2.90290125e-03,  2.49034963e-01,  1.14108167e+00, -2.93056703e+00,\n",
       "       -2.21647291e+00])"
      ]
     },
     "execution_count": 475,
     "metadata": {},
     "output_type": "execute_result"
    }
   ],
   "source": [
    "W_star4"
   ]
  },
  {
   "cell_type": "code",
   "execution_count": 476,
   "metadata": {},
   "outputs": [
    {
     "data": {
      "text/plain": [
       "array([ 3.35995986e-04,  2.88748035e-03,  2.36336087e-01,  1.14111799e+00,\n",
       "       -2.83605650e+00, -2.21719881e+00])"
      ]
     },
     "execution_count": 476,
     "metadata": {},
     "output_type": "execute_result"
    }
   ],
   "source": [
    "W_star5"
   ]
  },
  {
   "cell_type": "code",
   "execution_count": null,
   "metadata": {},
   "outputs": [],
   "source": []
  }
 ],
 "metadata": {
  "kernelspec": {
   "display_name": "Python 3",
   "language": "python",
   "name": "python3"
  },
  "language_info": {
   "codemirror_mode": {
    "name": "ipython",
    "version": 3
   },
   "file_extension": ".py",
   "mimetype": "text/x-python",
   "name": "python",
   "nbconvert_exporter": "python",
   "pygments_lexer": "ipython3",
   "version": "3.6.5"
  }
 },
 "nbformat": 4,
 "nbformat_minor": 2
}
