{
 "cells": [
  {
   "cell_type": "code",
   "execution_count": 16,
   "metadata": {},
   "outputs": [],
   "source": [
    "import numpy as np\n",
    "import pandas as pd\n",
    "import random \n",
    "import matplotlib.pyplot as plt\n",
    "from scipy.stats import norm\n",
    "from sys import maxsize\n",
    "import math"
   ]
  },
  {
   "cell_type": "code",
   "execution_count": 17,
   "metadata": {},
   "outputs": [],
   "source": [
    "a=np.loadtxt(open(\"P1b_train_data_2D.csv\", \"rb\"), delimiter=\",\")\n",
    "X=a[:,0:2]"
   ]
  },
  {
   "cell_type": "code",
   "execution_count": 18,
   "metadata": {},
   "outputs": [],
   "source": [
    "# probability that a point came from a Guassian with given parameters\n",
    "# note that the covariance must be diagonal for this to work\n",
    "def prob(X_test, mean, var, lam):\n",
    "    p =lam* pow(pow(2*math.pi,2)*np.linalg.det(var),-0.5)*pow(math.e,-0.5*np.matmul(np.matmul(X_test - mean,np.linalg.inv(var)),np.transpose(X_test - mean)))\n",
    "    #print(p)\n",
    "    return p"
   ]
  },
  {
   "cell_type": "markdown",
   "metadata": {},
   "source": [
    "# Varying Sample"
   ]
  },
  {
   "cell_type": "markdown",
   "metadata": {},
   "source": [
    "## 5 Sample"
   ]
  },
  {
   "cell_type": "code",
   "execution_count": 45,
   "metadata": {},
   "outputs": [],
   "source": [
    "c1=list(range(0,100))\n",
    "c2=list(range(100,200))\n",
    "X1_5=X[random.sample(c1,5)]\n",
    "X2_5=X[random.sample(c2,5)]\n",
    "X1_5_mean=np.mean(X1_5,axis=0)\n",
    "X2_5_mean=np.mean(X2_5,axis=0)\n",
    "X1_5_var=np.matmul(np.transpose(X1_5-np.ones((5,1))*X1_5_mean),(X1_5-np.ones((5,1))*X1_5_mean))/5\n",
    "X2_5_var=np.matmul(np.transpose(X2_5-np.ones((5,1))*X1_5_mean),(X2_5-np.ones((5,1))*X2_5_mean))/5\n",
    "X_5=np.concatenate((X1_5,X2_5))\n",
    "X_5_mean=np.mean(X_5,axis=0)\n",
    "X_5_var=np.matmul(np.transpose(X_5-np.ones((10,1))*X_5_mean),(X_5-np.ones((10,1))*X_5_mean))/10\n",
    "atest=np.loadtxt(open(\"P1b_test_data_2D.csv\", \"rb\"), delimiter=\",\")\n"
   ]
  },
  {
   "cell_type": "code",
   "execution_count": 46,
   "metadata": {},
   "outputs": [
    {
     "data": {
      "text/plain": [
       "68.5"
      ]
     },
     "execution_count": 46,
     "metadata": {},
     "output_type": "execute_result"
    }
   ],
   "source": [
    "b_scre=0\n",
    "atest=np.loadtxt(open(\"P1b_test_data_2D.csv\", \"rb\"), delimiter=\",\")\n",
    "#X_mean1 = np.mean(a[0:100,0:2],axis=0)\n",
    "#X_mean2 = np.mean(a[100:200,0:2],axis=0)\n",
    "#X_var1 = np.cov(a[0:100,0],a[0:100,1]).tolist()\n",
    "#X_var2 = np.cov(a[100:200,0],a[100:200,1]).tolist()\n",
    "for j in range(200):\n",
    "    \n",
    "    X_test=atest[j,0:2] ##\n",
    "    Y_test=atest[j,2] ##\n",
    "    f1 = prob(X_test, X1_5_mean, X1_5_var,1)\n",
    "    f_1 = prob(X_test, X2_5_mean, X2_5_var,1)\n",
    "    if f1>f_1:\n",
    "        b_clss=1\n",
    "    else:\n",
    "        b_clss=-1\n",
    "    if Y_test==b_clss:\n",
    "        b_scre=b_scre+1\n",
    "b_scre/len(X_test)"
   ]
  },
  {
   "cell_type": "code",
   "execution_count": 48,
   "metadata": {
    "scrolled": true
   },
   "outputs": [
    {
     "name": "stdout",
     "output_type": "stream",
     "text": [
      "83.5\n"
     ]
    }
   ],
   "source": [
    "scre=0\n",
    "for j in range(200):\n",
    "    \n",
    "    amd=np.array([])\n",
    "    X_test=atest[j,0:2] ##\n",
    "    Y_test=atest[j,2] ##\n",
    "    for i in range(10):\n",
    "        amdp=np.matmul(np.matmul(X_test - X_5[i],np.linalg.inv(X_5_var)),np.transpose(X_test - X_5[i]))\n",
    "        amd=np.append(amd,amdp)\n",
    "    ar=np.argsort(amd)\n",
    "    flag=0\n",
    "    for k in range(7):\n",
    "        if ar[k]>4:\n",
    "            flag=flag-1\n",
    "        if ar[k]<5:\n",
    "            flag=flag+1\n",
    "    if flag>=0:\n",
    "        clss=1\n",
    "    else:\n",
    "        clss=-1\n",
    "    if Y_test==clss:\n",
    "        scre=scre+1\n",
    "\n",
    "    \n",
    "print(scre/len(X_test))"
   ]
  },
  {
   "cell_type": "markdown",
   "metadata": {},
   "source": [
    "## Sample 10"
   ]
  },
  {
   "cell_type": "code",
   "execution_count": 49,
   "metadata": {},
   "outputs": [],
   "source": [
    "c1=list(range(0,100))\n",
    "c2=list(range(100,200))\n",
    "X1_10=X[random.sample(c1,10)]\n",
    "X2_10=X[random.sample(c2,10)]\n",
    "X1_10_mean=np.mean(X1_10,axis=0)\n",
    "X2_10_mean=np.mean(X2_10,axis=0)\n",
    "X1_10_var=np.matmul(np.transpose(X1_10-np.ones((10,1))*X1_10_mean),(X1_10-np.ones((10,1))*X1_10_mean))/10\n",
    "X2_10_var=np.matmul(np.transpose(X2_10-np.ones((10,1))*X1_10_mean),(X2_10-np.ones((10,1))*X2_10_mean))/10\n",
    "X_10=np.concatenate((X1_10,X2_10))\n",
    "X_10_mean=np.mean(X_10,axis=0)\n",
    "X_10_var=np.matmul(np.transpose(X_10-np.ones((20,1))*X_10_mean),(X_10-np.ones((20,1))*X_10_mean))/20\n",
    "atest=np.loadtxt(open(\"P1b_test_data_2D.csv\", \"rb\"), delimiter=\",\")"
   ]
  },
  {
   "cell_type": "code",
   "execution_count": 50,
   "metadata": {},
   "outputs": [
    {
     "data": {
      "text/plain": [
       "95.0"
      ]
     },
     "execution_count": 50,
     "metadata": {},
     "output_type": "execute_result"
    }
   ],
   "source": [
    "b_scre=0\n",
    "atest=np.loadtxt(open(\"P1b_test_data_2D.csv\", \"rb\"), delimiter=\",\")\n",
    "#X_mean1 = np.mean(a[0:100,0:2],axis=0)\n",
    "#X_mean2 = np.mean(a[100:200,0:2],axis=0)\n",
    "#X_var1 = np.cov(a[0:100,0],a[0:100,1]).tolist()\n",
    "#X_var2 = np.cov(a[100:200,0],a[100:200,1]).tolist()\n",
    "for j in range(200):\n",
    "    \n",
    "    X_test=atest[j,0:2] ##\n",
    "    Y_test=atest[j,2] ##\n",
    "    f1 = prob(X_test, X1_10_mean, X1_10_var,1)\n",
    "    f_1 = prob(X_test, X2_10_mean, X2_10_var,1)\n",
    "    if f1>f_1:\n",
    "        b_clss=1\n",
    "    else:\n",
    "        b_clss=-1\n",
    "    if Y_test==b_clss:\n",
    "        b_scre=b_scre+1\n",
    "b_scre/len(X_test)"
   ]
  },
  {
   "cell_type": "code",
   "execution_count": 53,
   "metadata": {},
   "outputs": [
    {
     "name": "stdout",
     "output_type": "stream",
     "text": [
      "95.0\n"
     ]
    }
   ],
   "source": [
    "scre=0\n",
    "for j in range(200):\n",
    "    \n",
    "    amd=np.array([])\n",
    "    X_test=atest[j,0:2] ##\n",
    "    Y_test=atest[j,2] ##\n",
    "    for i in range(20):\n",
    "        amdp=np.matmul(np.matmul(X_test - X_10[i],np.linalg.inv(X_10_var)),np.transpose(X_test - X_10[i]))\n",
    "        amd=np.append(amd,amdp)\n",
    "    ar=np.argsort(amd)\n",
    "    flag=0\n",
    "    for k in range(9):\n",
    "        if ar[k]>9:\n",
    "            flag=flag-1\n",
    "        if ar[k]<10:\n",
    "            flag=flag+1\n",
    "    if flag>=0:\n",
    "        clss=1\n",
    "    else:\n",
    "        clss=-1\n",
    "    if Y_test==clss:\n",
    "        scre=scre+1\n",
    "\n",
    "    \n",
    "print(scre/len(X_test))"
   ]
  },
  {
   "cell_type": "markdown",
   "metadata": {},
   "source": [
    "## Sample 25"
   ]
  },
  {
   "cell_type": "code",
   "execution_count": 55,
   "metadata": {},
   "outputs": [],
   "source": [
    "c1=list(range(0,100))\n",
    "c2=list(range(100,200))\n",
    "X1_25=X[random.sample(c1,25)]\n",
    "X2_25=X[random.sample(c2,25)]\n",
    "X1_25_mean=np.mean(X1_25,axis=0)\n",
    "X2_25_mean=np.mean(X2_25,axis=0)\n",
    "X1_25_var=np.matmul(np.transpose(X1_25-np.ones((25,1))*X1_25_mean),(X1_25-np.ones((25,1))*X1_25_mean))/25\n",
    "X2_25_var=np.matmul(np.transpose(X2_25-np.ones((25,1))*X1_25_mean),(X2_25-np.ones((25,1))*X2_25_mean))/25\n",
    "X_25=np.concatenate((X1_25,X2_25))\n",
    "X_25_mean=np.mean(X_25,axis=0)\n",
    "X_25_var=np.matmul(np.transpose(X_25-np.ones((50,1))*X_25_mean),(X_25-np.ones((50,1))*X_25_mean))/50\n",
    "atest=np.loadtxt(open(\"P1b_test_data_2D.csv\", \"rb\"), delimiter=\",\")"
   ]
  },
  {
   "cell_type": "code",
   "execution_count": 56,
   "metadata": {
    "scrolled": true
   },
   "outputs": [
    {
     "data": {
      "text/plain": [
       "97.5"
      ]
     },
     "execution_count": 56,
     "metadata": {},
     "output_type": "execute_result"
    }
   ],
   "source": [
    "b_scre=0\n",
    "atest=np.loadtxt(open(\"P1b_test_data_2D.csv\", \"rb\"), delimiter=\",\")\n",
    "#X_mean1 = np.mean(a[0:100,0:2],axis=0)\n",
    "#X_mean2 = np.mean(a[100:200,0:2],axis=0)\n",
    "#X_var1 = np.cov(a[0:100,0],a[0:100,1]).tolist()\n",
    "#X_var2 = np.cov(a[100:200,0],a[100:200,1]).tolist()\n",
    "for j in range(200):\n",
    "    \n",
    "    X_test=atest[j,0:2] ##\n",
    "    Y_test=atest[j,2] ##\n",
    "    f1 = prob(X_test, X1_25_mean, X1_25_var,1)\n",
    "    f_1 = prob(X_test, X2_25_mean, X2_25_var,1)\n",
    "    if f1>f_1:\n",
    "        b_clss=1\n",
    "    else:\n",
    "        b_clss=-1\n",
    "    if Y_test==b_clss:\n",
    "        b_scre=b_scre+1\n",
    "b_scre/len(X_test)"
   ]
  },
  {
   "cell_type": "code",
   "execution_count": 58,
   "metadata": {},
   "outputs": [
    {
     "name": "stdout",
     "output_type": "stream",
     "text": [
      "96.5\n"
     ]
    }
   ],
   "source": [
    "scre=0\n",
    "for j in range(200):\n",
    "    \n",
    "    amd=np.array([])\n",
    "    X_test=atest[j,0:2] ##\n",
    "    Y_test=atest[j,2] ##\n",
    "    for i in range(50):\n",
    "        amdp=np.matmul(np.matmul(X_test - X_25[i],np.linalg.inv(X_25_var)),np.transpose(X_test - X_25[i]))\n",
    "        amd=np.append(amd,amdp)\n",
    "    ar=np.argsort(amd)\n",
    "    flag=0\n",
    "    for k in range(7):\n",
    "        if ar[k]>24:\n",
    "            flag=flag-1\n",
    "        if ar[k]<25:\n",
    "            flag=flag+1\n",
    "    if flag>=0:\n",
    "        clss=1\n",
    "    else:\n",
    "        clss=-1\n",
    "    if Y_test==clss:\n",
    "        scre=scre+1\n",
    "\n",
    "    \n",
    "print(scre/len(X_test))"
   ]
  },
  {
   "cell_type": "markdown",
   "metadata": {},
   "source": [
    "## Sample 75"
   ]
  },
  {
   "cell_type": "code",
   "execution_count": 66,
   "metadata": {},
   "outputs": [],
   "source": [
    "c1=list(range(0,100))\n",
    "c2=list(range(100,200))\n",
    "X1_75=X[random.sample(c1,75)]\n",
    "X2_75=X[random.sample(c2,75)]\n",
    "X1_75_mean=np.mean(X1_75,axis=0)\n",
    "X2_75_mean=np.mean(X2_75,axis=0)\n",
    "X1_75_var=np.matmul(np.transpose(X1_75-np.ones((75,1))*X1_75_mean),(X1_75-np.ones((75,1))*X1_75_mean))/75\n",
    "X2_75_var=np.matmul(np.transpose(X2_75-np.ones((75,1))*X1_75_mean),(X2_75-np.ones((75,1))*X2_75_mean))/75\n",
    "X_75=np.concatenate((X1_75,X2_75))\n",
    "X_75_mean=np.mean(X_75,axis=0)\n",
    "X_75_var=np.matmul(np.transpose(X_75-np.ones((150,1))*X_75_mean),(X_75-np.ones((150,1))*X_75_mean))/150\n",
    "atest=np.loadtxt(open(\"P1b_test_data_2D.csv\", \"rb\"), delimiter=\",\")"
   ]
  },
  {
   "cell_type": "code",
   "execution_count": 67,
   "metadata": {},
   "outputs": [
    {
     "data": {
      "text/plain": [
       "98.0"
      ]
     },
     "execution_count": 67,
     "metadata": {},
     "output_type": "execute_result"
    }
   ],
   "source": [
    "b_scre=0\n",
    "atest=np.loadtxt(open(\"P1b_test_data_2D.csv\", \"rb\"), delimiter=\",\")\n",
    "#X_mean1 = np.mean(a[0:100,0:2],axis=0)\n",
    "#X_mean2 = np.mean(a[100:200,0:2],axis=0)\n",
    "#X_var1 = np.cov(a[0:100,0],a[0:100,1]).tolist()\n",
    "#X_var2 = np.cov(a[100:200,0],a[100:200,1]).tolist()\n",
    "for j in range(200):\n",
    "    \n",
    "    X_test=atest[j,0:2] ##\n",
    "    Y_test=atest[j,2] ##\n",
    "    f1 = prob(X_test, X1_75_mean, X1_75_var,1)\n",
    "    f_1 = prob(X_test, X2_75_mean, X2_75_var,1)\n",
    "    if f1>f_1:\n",
    "        b_clss=1\n",
    "    else:\n",
    "        b_clss=-1\n",
    "    if Y_test==b_clss:\n",
    "        b_scre=b_scre+1\n",
    "b_scre/len(X_test)"
   ]
  },
  {
   "cell_type": "code",
   "execution_count": 69,
   "metadata": {},
   "outputs": [
    {
     "name": "stdout",
     "output_type": "stream",
     "text": [
      "97.5\n"
     ]
    }
   ],
   "source": [
    "scre=0\n",
    "for j in range(200):\n",
    "    \n",
    "    amd=np.array([])\n",
    "    X_test=atest[j,0:2] ##\n",
    "    Y_test=atest[j,2] ##\n",
    "    for i in range(150):\n",
    "        amdp=np.matmul(np.matmul(X_test - X_75[i],np.linalg.inv(X_75_var)),np.transpose(X_test - X_75[i]))\n",
    "        amd=np.append(amd,amdp)\n",
    "    ar=np.argsort(amd)\n",
    "    flag=0\n",
    "    for k in range(7):\n",
    "        if ar[k]>74:\n",
    "            flag=flag-1\n",
    "        if ar[k]<75:\n",
    "            flag=flag+1\n",
    "    if flag>=0:\n",
    "        clss=1\n",
    "    else:\n",
    "        clss=-1\n",
    "    if Y_test==clss:\n",
    "        scre=scre+1\n",
    "\n",
    "    \n",
    "print(scre/len(X_test))"
   ]
  },
  {
   "cell_type": "code",
   "execution_count": null,
   "metadata": {},
   "outputs": [],
   "source": []
  }
 ],
 "metadata": {
  "kernelspec": {
   "display_name": "Python 3",
   "language": "python",
   "name": "python3"
  },
  "language_info": {
   "codemirror_mode": {
    "name": "ipython",
    "version": 3
   },
   "file_extension": ".py",
   "mimetype": "text/x-python",
   "name": "python",
   "nbconvert_exporter": "python",
   "pygments_lexer": "ipython3",
   "version": "3.6.5"
  }
 },
 "nbformat": 4,
 "nbformat_minor": 2
}
