{
 "cells": [
  {
   "cell_type": "markdown",
   "metadata": {},
   "source": [
    "# Assignment2"
   ]
  },
  {
   "cell_type": "code",
   "execution_count": 5,
   "metadata": {},
   "outputs": [],
   "source": [
    "import numpy as np\n",
    "import random\n",
    "import math"
   ]
  },
  {
   "cell_type": "code",
   "execution_count": 6,
   "metadata": {},
   "outputs": [],
   "source": [
    "a=np.loadtxt(open(\"P2a_train_data_20D.csv\", \"rb\"), delimiter=\",\")\n",
    "Y=a[:,20] #Class Labels"
   ]
  },
  {
   "cell_type": "code",
   "execution_count": 7,
   "metadata": {},
   "outputs": [],
   "source": [
    "X=a[:,0:20]"
   ]
  },
  {
   "cell_type": "code",
   "execution_count": 8,
   "metadata": {},
   "outputs": [],
   "source": [
    "X1=X[0:500]"
   ]
  },
  {
   "cell_type": "code",
   "execution_count": 9,
   "metadata": {},
   "outputs": [],
   "source": [
    "X2=X[500:1000]"
   ]
  },
  {
   "cell_type": "code",
   "execution_count": 10,
   "metadata": {},
   "outputs": [],
   "source": [
    "c1=list(range(0,500))\n",
    "c2=list(range(500,1000))"
   ]
  },
  {
   "cell_type": "code",
   "execution_count": 11,
   "metadata": {},
   "outputs": [],
   "source": [
    "X1_8=X[random.sample(c1,8)]\n",
    "X2_8=X[random.sample(c2,8)]\n",
    "X1_10=X[random.sample(c1,10)]\n",
    "X2_10=X[random.sample(c2,10)]\n",
    "X1_20=X[random.sample(c1,20)]\n",
    "X2_20=X[random.sample(c2,20)]\n",
    "X1_50=X[random.sample(c1,50)]\n",
    "X2_50=X[random.sample(c2,50)]\n",
    "X1_100=X[random.sample(c1,100)]\n",
    "X2_100=X[random.sample(c2,100)]\n",
    "X1_300=X[random.sample(c1,300)]\n",
    "X2_300=X[random.sample(c2,300)]"
   ]
  },
  {
   "cell_type": "code",
   "execution_count": 12,
   "metadata": {},
   "outputs": [],
   "source": [
    "X1_8_mean=np.mean(X1_8,axis=0)\n",
    "X2_8_mean=np.mean(X2_8,axis=0)\n",
    "\n",
    "X1_10_mean=np.mean(X1_10,axis=0)\n",
    "X2_10_mean=np.mean(X2_10,axis=0)\n",
    "\n",
    "X1_20_mean=np.mean(X1_20,axis=0)\n",
    "X2_20_mean=np.mean(X2_20,axis=0)\n",
    "\n",
    "X1_50_mean=np.mean(X1_50,axis=0)\n",
    "X2_50_mean=np.mean(X2_50,axis=0)\n",
    "X1_100_mean=np.mean(X1_100,axis=0)\n",
    "X2_100_mean=np.mean(X2_100,axis=0)\n",
    "X1_300_mean=np.mean(X1_300,axis=0)\n",
    "X2_300_mean=np.mean(X2_300,axis=0)"
   ]
  },
  {
   "cell_type": "code",
   "execution_count": 13,
   "metadata": {},
   "outputs": [],
   "source": [
    "X1_8_var=np.matmul(np.transpose(X1_8-np.ones((8,1))*X1_8_mean),(X1_8-np.ones((8,1))*X1_8_mean))/8\n",
    "X2_8_var=np.matmul(np.transpose(X2_8-np.ones((8,1))*X1_8_mean),(X2_8-np.ones((8,1))*X2_8_mean))/8\n",
    "\n",
    "X1_10_var=np.matmul(np.transpose(X1_10-np.ones((10,1))*X1_10_mean),(X1_10-np.ones((10,1))*X1_10_mean))/10\n",
    "X2_10_var=np.matmul(np.transpose(X2_10-np.ones((10,1))*X1_10_mean),(X2_10-np.ones((10,1))*X2_10_mean))/10\n",
    "\n",
    "X1_20_var=np.matmul(np.transpose(X1_20-np.ones((20,1))*X1_20_mean),(X1_20-np.ones((20,1))*X1_20_mean))/20\n",
    "X2_20_var=np.matmul(np.transpose(X2_20-np.ones((20,1))*X1_20_mean),(X2_20-np.ones((20,1))*X2_20_mean))/20\n",
    "\n",
    "X1_50_var=np.matmul(np.transpose(X1_50-np.ones((50,1))*X1_50_mean),(X1_50-np.ones((50,1))*X1_50_mean))/50\n",
    "X2_50_var=np.matmul(np.transpose(X2_50-np.ones((50,1))*X2_50_mean),(X2_50-np.ones((50,1))*X2_50_mean))/50\n",
    "X1_100_var=np.matmul(np.transpose(X1_100-np.ones((100,1))*X1_100_mean),(X1_100-np.ones((100,1))*X1_100_mean))/100\n",
    "X2_100_var=np.matmul(np.transpose(X2_100-np.ones((100,1))*X1_100_mean),(X2_100-np.ones((100,1))*X2_100_mean))/100\n",
    "X1_300_var=np.matmul(np.transpose(X1_300-np.ones((300,1))*X1_300_mean),(X1_300-np.ones((300,1))*X1_300_mean))/300\n",
    "X2_300_var=np.matmul(np.transpose(X2_300-np.ones((300,1))*X1_300_mean),(X2_300-np.ones((300,1))*X2_300_mean))/300"
   ]
  },
  {
   "cell_type": "code",
   "execution_count": 14,
   "metadata": {},
   "outputs": [],
   "source": [
    "#np.linalg.inv(X2_300_var)\n"
   ]
  },
  {
   "cell_type": "code",
   "execution_count": 15,
   "metadata": {},
   "outputs": [],
   "source": [
    "X_8=np.concatenate((X1_8,X2_8))\n",
    "X_10=np.concatenate((X1_10,X2_10))\n",
    "X_20=np.concatenate((X1_20,X2_20))\n",
    "\n",
    "X_50=np.concatenate((X1_50,X2_50))\n",
    "X_100=np.concatenate((X1_100,X2_100))\n",
    "X_300=np.concatenate((X1_300,X2_300))"
   ]
  },
  {
   "cell_type": "markdown",
   "metadata": {},
   "source": [
    "## Combined "
   ]
  },
  {
   "cell_type": "code",
   "execution_count": 16,
   "metadata": {},
   "outputs": [],
   "source": [
    "X_8_mean=np.mean(X_8,axis=0)\n",
    "\n",
    "X_10_mean=np.mean(X_10,axis=0)\n",
    "X_20_mean=np.mean(X_20,axis=0)\n",
    "X_50_mean=np.mean(X_50,axis=0)\n",
    "X_100_mean=np.mean(X_100,axis=0)\n",
    "X_300_mean=np.mean(X_300,axis=0)"
   ]
  },
  {
   "cell_type": "code",
   "execution_count": 17,
   "metadata": {},
   "outputs": [],
   "source": [
    "X_8_var=np.matmul(np.transpose(X_8-np.ones((16,1))*X_8_mean),(X_8-np.ones((16,1))*X_8_mean))/16\n",
    "X_10_var=np.matmul(np.transpose(X_10-np.ones((20,1))*X_10_mean),(X_10-np.ones((20,1))*X_10_mean))/20\n",
    "X_20_var=np.matmul(np.transpose(X_20-np.ones((40,1))*X_20_mean),(X_20-np.ones((40,1))*X_20_mean))/40\n",
    "\n",
    "X_50_var=np.matmul(np.transpose(X_50-np.ones((100,1))*X_50_mean),(X_50-np.ones((100,1))*X_50_mean))/100\n",
    "X_100_var=np.matmul(np.transpose(X_100-np.ones((200,1))*X_100_mean),(X_100-np.ones((200,1))*X_100_mean))/200\n",
    "X_300_var=np.matmul(np.transpose(X_300-np.ones((600,1))*X_300_mean),(X_300-np.ones((600,1))*X_300_mean))/600"
   ]
  },
  {
   "cell_type": "code",
   "execution_count": 18,
   "metadata": {
    "scrolled": false
   },
   "outputs": [],
   "source": [
    "#np.linalg.inv(X_8_var)"
   ]
  },
  {
   "cell_type": "markdown",
   "metadata": {},
   "source": [
    "## NN Classifier"
   ]
  },
  {
   "cell_type": "code",
   "execution_count": 19,
   "metadata": {},
   "outputs": [],
   "source": [
    "#NO CHANGE\n",
    "atest=np.loadtxt(open(\"P2a_test_data_20D.csv\", \"rb\"), delimiter=\",\")"
   ]
  },
  {
   "cell_type": "code",
   "execution_count": 23,
   "metadata": {},
   "outputs": [
    {
     "name": "stdout",
     "output_type": "stream",
     "text": [
      "574\n"
     ]
    }
   ],
   "source": [
    "scre=0\n",
    "for j in range(1000):\n",
    "    \n",
    "    amd=np.array([])\n",
    "    X_test=atest[j,0:20] ##\n",
    "    Y_test=atest[j,20] ##\n",
    "    for i in range(20):\n",
    "        amdp=np.matmul(np.matmul(X_test - X_10[i],np.linalg.inv(X_10_var)),np.transpose(X_test - X_10[i]))\n",
    "        amd=np.append(amd,amdp)\n",
    "    ar=np.argsort(amd)\n",
    "    flag=0\n",
    "    for k in range(7):\n",
    "        if ar[k]>9:\n",
    "            flag=flag-1\n",
    "        if ar[k]<10:\n",
    "            flag=flag+1\n",
    "    if flag>=0:\n",
    "        clss=1\n",
    "    else:\n",
    "        clss=-1\n",
    "    if Y_test==clss:\n",
    "        scre=scre+1\n",
    "\n",
    "    \n",
    "print(scre)"
   ]
  },
  {
   "cell_type": "code",
   "execution_count": 25,
   "metadata": {},
   "outputs": [
    {
     "name": "stdout",
     "output_type": "stream",
     "text": [
      "812\n"
     ]
    }
   ],
   "source": [
    "scre=0\n",
    "for j in range(1000):\n",
    "    \n",
    "    amd=np.array([])\n",
    "    X_test=atest[j,0:20] ##\n",
    "    Y_test=atest[j,20] ##\n",
    "    for i in range(100):\n",
    "        amdp=np.matmul(np.matmul(X_test - X_50[i],np.linalg.inv(X_50_var)),np.transpose(X_test - X_50[i]))\n",
    "        amd=np.append(amd,amdp)\n",
    "    ar=np.argsort(amd)\n",
    "    flag=0\n",
    "    for k in range(7):\n",
    "        if ar[k]>49:\n",
    "            flag=flag-1\n",
    "        if ar[k]<50:\n",
    "            flag=flag+1\n",
    "    if flag>=0:\n",
    "        clss=1\n",
    "    else:\n",
    "        clss=-1\n",
    "    if Y_test==clss:\n",
    "        scre=scre+1\n",
    "\n",
    "    \n",
    "print(scre)"
   ]
  },
  {
   "cell_type": "code",
   "execution_count": 27,
   "metadata": {},
   "outputs": [
    {
     "name": "stdout",
     "output_type": "stream",
     "text": [
      "855\n"
     ]
    }
   ],
   "source": [
    "scre=0\n",
    "for j in range(1000):\n",
    "    \n",
    "    amd=np.array([])\n",
    "    X_test=atest[j,0:20] ##\n",
    "    Y_test=atest[j,20] ##\n",
    "    for i in range(200):\n",
    "        amdp=np.matmul(np.matmul(X_test - X_100[i],np.linalg.inv(X_100_var)),np.transpose(X_test - X_100[i]))\n",
    "        amd=np.append(amd,amdp)\n",
    "    ar=np.argsort(amd)\n",
    "    flag=0\n",
    "    for k in range(7):\n",
    "        if ar[k]>99:\n",
    "            flag=flag-1\n",
    "        if ar[k]<100:\n",
    "            flag=flag+1\n",
    "    if flag>=0:\n",
    "        clss=1\n",
    "    else:\n",
    "        clss=-1\n",
    "    if Y_test==clss:\n",
    "        scre=scre+1\n",
    "\n",
    "    \n",
    "print(scre)"
   ]
  },
  {
   "cell_type": "code",
   "execution_count": 29,
   "metadata": {
    "scrolled": true
   },
   "outputs": [
    {
     "name": "stdout",
     "output_type": "stream",
     "text": [
      "903\n"
     ]
    }
   ],
   "source": [
    "scre=0\n",
    "for j in range(1000):\n",
    "    \n",
    "    amd=np.array([])\n",
    "    X_test=atest[j,0:20] ##\n",
    "    Y_test=atest[j,20] ##\n",
    "    for i in range(600):\n",
    "        amdp=np.matmul(np.matmul(X_test - X_300[i],np.linalg.inv(X_300_var)),np.transpose(X_test - X_300[i]))\n",
    "        amd=np.append(amd,amdp)\n",
    "    ar=np.argsort(amd)\n",
    "    flag=0\n",
    "    for k in range(7):\n",
    "        if ar[k]>299:\n",
    "            flag=flag-1\n",
    "        if ar[k]<300:\n",
    "            flag=flag+1\n",
    "    if flag>=0:\n",
    "        clss=1\n",
    "    else:\n",
    "        clss=-1\n",
    "    if Y_test==clss:\n",
    "        scre=scre+1\n",
    "\n",
    "    \n",
    "print(scre)"
   ]
  },
  {
   "cell_type": "code",
   "execution_count": 341,
   "metadata": {},
   "outputs": [],
   "source": [
    "# j=879\n",
    "# X_test=atest[j,0:20] ##\n",
    "# Y_test=atest[j,20] ##"
   ]
  },
  {
   "cell_type": "markdown",
   "metadata": {},
   "source": [
    "## Bayes Classifier"
   ]
  },
  {
   "cell_type": "code",
   "execution_count": 30,
   "metadata": {},
   "outputs": [
    {
     "name": "stderr",
     "output_type": "stream",
     "text": [
      "C:\\Users\\range\\.julia\\conda\\3\\lib\\site-packages\\ipykernel_launcher.py:6: RuntimeWarning: invalid value encountered in double_scalars\n",
      "  \n",
      "C:\\Users\\range\\.julia\\conda\\3\\lib\\site-packages\\ipykernel_launcher.py:6: RuntimeWarning: overflow encountered in double_scalars\n",
      "  \n",
      "C:\\Users\\range\\.julia\\conda\\3\\lib\\site-packages\\ipykernel_launcher.py:7: RuntimeWarning: invalid value encountered in double_scalars\n",
      "  import sys\n",
      "C:\\Users\\range\\.julia\\conda\\3\\lib\\site-packages\\ipykernel_launcher.py:7: RuntimeWarning: overflow encountered in double_scalars\n",
      "  import sys\n"
     ]
    },
    {
     "data": {
      "text/plain": [
       "500"
      ]
     },
     "execution_count": 30,
     "metadata": {},
     "output_type": "execute_result"
    }
   ],
   "source": [
    "b_scre=0\n",
    "for j in range(1000):\n",
    "    \n",
    "    X_test=atest[j,0:20] ##\n",
    "    Y_test=atest[j,20] ##\n",
    "    f1 = pow(pow(2*math.pi,20)*np.linalg.det(X1_10_var),-0.5)*pow(math.e,-0.5*np.matmul(np.matmul(X_test - X1_10_mean,np.linalg.inv(X1_10_var)),np.transpose(X_test - X1_10_mean)))\n",
    "    f_1 = pow(pow(2*math.pi,20)*np.linalg.det(X2_10_var),-0.5)*pow(math.e,-0.5*np.matmul(np.matmul(X_test - X2_10_mean,np.linalg.inv(X2_10_var)),np.transpose(X_test - X2_10_mean)))\n",
    "    if f1>f_1:\n",
    "        b_clss=1\n",
    "    else:\n",
    "        b_clss=-1\n",
    "    if Y_test==b_clss:\n",
    "        b_scre=b_scre+1\n",
    "b_scre"
   ]
  },
  {
   "cell_type": "code",
   "execution_count": 31,
   "metadata": {},
   "outputs": [
    {
     "data": {
      "text/plain": [
       "848"
      ]
     },
     "execution_count": 31,
     "metadata": {},
     "output_type": "execute_result"
    }
   ],
   "source": [
    "b_scre=0\n",
    "for j in range(1000):\n",
    "    \n",
    "    X_test=atest[j,0:20] ##\n",
    "    Y_test=atest[j,20] ##\n",
    "    f1 = pow(pow(2*math.pi,20)*np.linalg.det(X1_50_var),-0.5)*pow(math.e,-0.5*np.matmul(np.matmul(X_test - X1_50_mean,np.linalg.inv(X1_50_var)),np.transpose(X_test - X1_50_mean)))\n",
    "    f_1 = pow(pow(2*math.pi,20)*np.linalg.det(X2_50_var),-0.5)*pow(math.e,-0.5*np.matmul(np.matmul(X_test - X2_50_mean,np.linalg.inv(X2_50_var)),np.transpose(X_test - X2_50_mean)))\n",
    "    if f1>f_1:\n",
    "        b_clss=1\n",
    "    else:\n",
    "        b_clss=-1\n",
    "    if Y_test==b_clss:\n",
    "        b_scre=b_scre+1\n",
    "b_scre"
   ]
  },
  {
   "cell_type": "code",
   "execution_count": 32,
   "metadata": {},
   "outputs": [
    {
     "data": {
      "text/plain": [
       "974"
      ]
     },
     "execution_count": 32,
     "metadata": {},
     "output_type": "execute_result"
    }
   ],
   "source": [
    "b_scre=0\n",
    "for j in range(1000):\n",
    "    \n",
    "    X_test=atest[j,0:20] ##\n",
    "    Y_test=atest[j,20] ##\n",
    "    f1 = pow(pow(2*math.pi,20)*np.linalg.det(X1_100_var),-0.5)*pow(math.e,-0.5*np.matmul(np.matmul(X_test - X1_100_mean,np.linalg.inv(X1_100_var)),np.transpose(X_test - X1_100_mean)))\n",
    "    f_1 = pow(pow(2*math.pi,20)*np.linalg.det(X2_100_var),-0.5)*pow(math.e,-0.5*np.matmul(np.matmul(X_test - X2_100_mean,np.linalg.inv(X2_100_var)),np.transpose(X_test - X2_100_mean)))\n",
    "    if f1>f_1:\n",
    "        b_clss=1\n",
    "    else:\n",
    "        b_clss=-1\n",
    "    if Y_test==b_clss:\n",
    "        b_scre=b_scre+1\n",
    "b_scre"
   ]
  },
  {
   "cell_type": "code",
   "execution_count": 33,
   "metadata": {},
   "outputs": [
    {
     "data": {
      "text/plain": [
       "982"
      ]
     },
     "execution_count": 33,
     "metadata": {},
     "output_type": "execute_result"
    }
   ],
   "source": [
    "b_scre=0\n",
    "for j in range(1000):\n",
    "    \n",
    "    X_test=atest[j,0:20] ##\n",
    "    Y_test=atest[j,20] ##\n",
    "    f1 = pow(pow(2*math.pi,20)*np.linalg.det(X1_300_var),-0.5)*pow(math.e,-0.5*np.matmul(np.matmul(X_test - X1_300_mean,np.linalg.inv(X1_300_var)),np.transpose(X_test - X1_300_mean)))\n",
    "    f_1 = pow(pow(2*math.pi,20)*np.linalg.det(X2_300_var),-0.5)*pow(math.e,-0.5*np.matmul(np.matmul(X_test - X2_300_mean,np.linalg.inv(X2_300_var)),np.transpose(X_test - X2_300_mean)))\n",
    "    if f1>f_1:\n",
    "        b_clss=1\n",
    "    else:\n",
    "        b_clss=-1\n",
    "    if Y_test==b_clss:\n",
    "        b_scre=b_scre+1\n",
    "b_scre"
   ]
  },
  {
   "cell_type": "code",
   "execution_count": 4,
   "metadata": {},
   "outputs": [
    {
     "ename": "NameError",
     "evalue": "name 'f_1' is not defined",
     "output_type": "error",
     "traceback": [
      "\u001b[1;31m---------------------------------------------------------------------------\u001b[0m",
      "\u001b[1;31mNameError\u001b[0m                                 Traceback (most recent call last)",
      "\u001b[1;32m<ipython-input-4-523657a4f41f>\u001b[0m in \u001b[0;36m<module>\u001b[1;34m\u001b[0m\n\u001b[1;32m----> 1\u001b[1;33m \u001b[0mf_1\u001b[0m\u001b[1;33m\u001b[0m\u001b[0m\n\u001b[0m",
      "\u001b[1;31mNameError\u001b[0m: name 'f_1' is not defined"
     ]
    }
   ],
   "source": [
    "f_1"
   ]
  },
  {
   "cell_type": "code",
   "execution_count": 346,
   "metadata": {},
   "outputs": [
    {
     "data": {
      "text/plain": [
       "-1.0"
      ]
     },
     "execution_count": 346,
     "metadata": {},
     "output_type": "execute_result"
    }
   ],
   "source": [
    "Y_test"
   ]
  },
  {
   "cell_type": "markdown",
   "metadata": {},
   "source": [
    "# PROBLEM 3"
   ]
  },
  {
   "cell_type": "markdown",
   "metadata": {},
   "source": [
    "## E-M Algorithm"
   ]
  },
  {
   "cell_type": "code",
   "execution_count": null,
   "metadata": {},
   "outputs": [],
   "source": []
  }
 ],
 "metadata": {
  "kernelspec": {
   "display_name": "Python 3",
   "language": "python",
   "name": "python3"
  },
  "language_info": {
   "codemirror_mode": {
    "name": "ipython",
    "version": 3
   },
   "file_extension": ".py",
   "mimetype": "text/x-python",
   "name": "python",
   "nbconvert_exporter": "python",
   "pygments_lexer": "ipython3",
   "version": "3.6.5"
  }
 },
 "nbformat": 4,
 "nbformat_minor": 2
}
