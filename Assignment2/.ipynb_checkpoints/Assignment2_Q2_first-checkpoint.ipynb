{
 "cells": [
  {
   "cell_type": "markdown",
   "metadata": {},
   "source": [
    "# Assignment2"
   ]
  },
  {
   "cell_type": "code",
   "execution_count": 313,
   "metadata": {},
   "outputs": [],
   "source": [
    "import numpy as np\n",
    "import random\n",
    "import math"
   ]
  },
  {
   "cell_type": "code",
   "execution_count": 42,
   "metadata": {},
   "outputs": [],
   "source": [
    "a=np.loadtxt(open(\"P2a_train_data_20D.csv\", \"rb\"), delimiter=\",\")\n"
   ]
  },
  {
   "cell_type": "code",
   "execution_count": 45,
   "metadata": {},
   "outputs": [],
   "source": [
    "Y=a[:,20] #Class Labels\n"
   ]
  },
  {
   "cell_type": "code",
   "execution_count": 58,
   "metadata": {},
   "outputs": [],
   "source": [
    "X=a[:,0:20]"
   ]
  },
  {
   "cell_type": "code",
   "execution_count": 61,
   "metadata": {
    "scrolled": false
   },
   "outputs": [
    {
     "name": "stdout",
     "output_type": "stream",
     "text": [
      "[-1.5642  0.1842  1.5694  0.8161 -0.4657  0.2347 -1.1321  0.1531  0.2555\n",
      " -0.8535 -0.3039 -0.7451 -0.8923 -0.901  -0.181   1.3254  0.7827  0.687\n",
      " -0.0645 -0.7288]\n"
     ]
    }
   ],
   "source": [
    "print(X[1])\n"
   ]
  },
  {
   "cell_type": "code",
   "execution_count": null,
   "metadata": {},
   "outputs": [],
   "source": [
    "X1=X[0:500]"
   ]
  },
  {
   "cell_type": "code",
   "execution_count": 76,
   "metadata": {},
   "outputs": [],
   "source": [
    "X2=X[500:1000]"
   ]
  },
  {
   "cell_type": "code",
   "execution_count": 87,
   "metadata": {},
   "outputs": [],
   "source": [
    "c1=list(range(0,500))\n",
    "c2=list(range(500,1000))"
   ]
  },
  {
   "cell_type": "code",
   "execution_count": 370,
   "metadata": {},
   "outputs": [],
   "source": [
    "X1_8=X[random.sample(c1,8)]\n",
    "X2_8=X[random.sample(c2,8)]\n",
    "X1_10=X[random.sample(c1,10)]\n",
    "X2_10=X[random.sample(c2,10)]\n",
    "X1_20=X[random.sample(c1,20)]\n",
    "X2_20=X[random.sample(c2,20)]\n",
    "X1_50=X[random.sample(c1,50)]\n",
    "X2_50=X[random.sample(c2,50)]\n",
    "X1_100=X[random.sample(c1,100)]\n",
    "X2_100=X[random.sample(c2,100)]\n",
    "X1_300=X[random.sample(c1,300)]\n",
    "X2_300=X[random.sample(c2,300)]"
   ]
  },
  {
   "cell_type": "code",
   "execution_count": 371,
   "metadata": {},
   "outputs": [],
   "source": [
    "X1_8_mean=np.mean(X1_8,axis=0)\n",
    "X2_8_mean=np.mean(X2_8,axis=0)\n",
    "\n",
    "X1_10_mean=np.mean(X1_10,axis=0)\n",
    "X2_10_mean=np.mean(X2_10,axis=0)\n",
    "\n",
    "X1_20_mean=np.mean(X1_20,axis=0)\n",
    "X2_20_mean=np.mean(X2_20,axis=0)\n",
    "\n",
    "X1_50_mean=np.mean(X1_50,axis=0)\n",
    "X2_50_mean=np.mean(X2_50,axis=0)\n",
    "X1_100_mean=np.mean(X1_100,axis=0)\n",
    "X2_100_mean=np.mean(X2_100,axis=0)\n",
    "X1_300_mean=np.mean(X1_300,axis=0)\n",
    "X2_300_mean=np.mean(X2_300,axis=0)"
   ]
  },
  {
   "cell_type": "code",
   "execution_count": 372,
   "metadata": {},
   "outputs": [],
   "source": [
    "X1_8_var=np.matmul(np.transpose(X1_8-np.ones((8,1))*X1_8_mean),(X1_8-np.ones((8,1))*X1_8_mean))/8\n",
    "X2_8_var=np.matmul(np.transpose(X2_8-np.ones((8,1))*X1_8_mean),(X2_8-np.ones((8,1))*X2_8_mean))/8\n",
    "\n",
    "X1_10_var=np.matmul(np.transpose(X1_10-np.ones((10,1))*X1_10_mean),(X1_10-np.ones((10,1))*X1_10_mean))/10\n",
    "X2_10_var=np.matmul(np.transpose(X2_10-np.ones((10,1))*X1_10_mean),(X2_10-np.ones((10,1))*X2_10_mean))/10\n",
    "\n",
    "X1_20_var=np.matmul(np.transpose(X1_20-np.ones((20,1))*X1_20_mean),(X1_20-np.ones((20,1))*X1_20_mean))/20\n",
    "X2_20_var=np.matmul(np.transpose(X2_20-np.ones((20,1))*X1_20_mean),(X2_20-np.ones((20,1))*X2_20_mean))/20\n",
    "\n",
    "X1_50_var=np.matmul(np.transpose(X1_50-np.ones((50,1))*X1_50_mean),(X1_50-np.ones((50,1))*X1_50_mean))/50\n",
    "X2_50_var=np.matmul(np.transpose(X2_50-np.ones((50,1))*X2_50_mean),(X2_50-np.ones((50,1))*X2_50_mean))/50\n",
    "X1_100_var=np.matmul(np.transpose(X1_100-np.ones((100,1))*X1_100_mean),(X1_100-np.ones((100,1))*X1_100_mean))/100\n",
    "X2_100_var=np.matmul(np.transpose(X2_100-np.ones((100,1))*X1_100_mean),(X2_100-np.ones((100,1))*X2_100_mean))/100\n",
    "X1_300_var=np.matmul(np.transpose(X1_300-np.ones((300,1))*X1_300_mean),(X1_300-np.ones((300,1))*X1_300_mean))/300\n",
    "X2_300_var=np.matmul(np.transpose(X2_300-np.ones((300,1))*X1_300_mean),(X2_300-np.ones((300,1))*X2_300_mean))/300"
   ]
  },
  {
   "cell_type": "code",
   "execution_count": 262,
   "metadata": {},
   "outputs": [
    {
     "data": {
      "text/plain": [
       "array([[ 1.06627008e+00, -4.85737869e-02, -9.66049161e-02,\n",
       "         1.05922621e-01, -6.74639438e-02, -4.64576785e-02,\n",
       "         5.01003017e-04, -7.01044417e-02, -1.26691142e-02,\n",
       "        -1.43622845e-02,  1.64952796e-02, -5.73199699e-02,\n",
       "         6.22760958e-02, -5.38829839e-02,  3.49356032e-03,\n",
       "         2.49951930e-02, -4.22999783e-02,  4.33279589e-02,\n",
       "         1.36262375e-02,  5.89407023e-02],\n",
       "       [-4.85737869e-02,  1.22736631e+00,  9.97786382e-02,\n",
       "        -3.53539742e-02, -3.95045549e-02,  4.74364361e-02,\n",
       "         3.45423193e-02, -3.24743817e-03,  7.62209675e-02,\n",
       "        -1.86111142e-03, -3.53734221e-02,  1.60634137e-02,\n",
       "        -1.65964859e-01,  1.24001584e-01, -2.73250660e-02,\n",
       "        -3.57585437e-02,  4.00062028e-02,  4.18064976e-02,\n",
       "         6.41346832e-02,  7.41834526e-02],\n",
       "       [-9.66049161e-02,  9.97786382e-02,  1.00669749e+00,\n",
       "        -8.28543639e-02, -6.76775860e-03,  5.98517523e-02,\n",
       "        -1.27781052e-02,  2.27843641e-02, -2.73192917e-02,\n",
       "         7.29475919e-02,  7.05979561e-02,  1.65564397e-02,\n",
       "        -3.47277801e-02,  1.81231045e-02, -4.02376357e-02,\n",
       "         2.28635079e-02,  1.29522391e-02, -5.32024282e-02,\n",
       "         3.45681152e-03, -8.82192055e-02],\n",
       "       [ 1.05922621e-01, -3.53539742e-02, -8.28543639e-02,\n",
       "         1.18880692e+00,  5.00953413e-02,  2.89649344e-02,\n",
       "        -1.77694254e-01,  9.26854514e-02, -8.72734509e-02,\n",
       "        -9.36940976e-02, -4.34830145e-02,  2.64187669e-02,\n",
       "        -2.98906528e-02,  1.21853302e-01,  1.21949565e-02,\n",
       "        -1.43247516e-02,  2.99281585e-03,  1.29661282e-01,\n",
       "        -1.00159985e-01,  2.60601758e-02],\n",
       "       [-6.74639438e-02, -3.95045549e-02, -6.76775860e-03,\n",
       "         5.00953413e-02,  1.04158508e+00, -8.34126708e-02,\n",
       "         2.02257969e-02,  4.91160077e-02,  2.66261190e-02,\n",
       "         2.96679123e-02,  1.48966065e-02,  1.21229819e-01,\n",
       "         3.02848378e-03, -1.03148106e-01, -8.14280487e-02,\n",
       "         7.45203153e-02, -6.59024180e-02,  4.68763442e-02,\n",
       "        -1.53622931e-01,  7.67863603e-02],\n",
       "       [-4.64576785e-02,  4.74364361e-02,  5.98517523e-02,\n",
       "         2.89649344e-02, -8.34126708e-02,  9.42056191e-01,\n",
       "        -2.78649545e-02, -5.49883795e-02, -1.04890267e-01,\n",
       "        -4.47114058e-02, -3.69418371e-02,  5.43699341e-02,\n",
       "        -3.41751815e-02, -4.52837742e-03, -4.66530089e-02,\n",
       "        -1.16623518e-02,  9.91341189e-02,  2.32070709e-02,\n",
       "         6.39073681e-02,  9.78738495e-02],\n",
       "       [ 5.01003017e-04,  3.45423193e-02, -1.27781052e-02,\n",
       "        -1.77694254e-01,  2.02257969e-02, -2.78649545e-02,\n",
       "         1.02546026e+00,  1.51792345e-02, -2.40576724e-02,\n",
       "        -6.75330440e-02, -4.04158498e-03,  7.21508654e-02,\n",
       "         3.53927515e-02, -3.26501843e-02,  9.13364437e-03,\n",
       "        -8.18236857e-02,  1.67337293e-02, -9.95222064e-02,\n",
       "         1.95906817e-02, -3.91433579e-02],\n",
       "       [-7.01044417e-02, -3.24743817e-03,  2.27843641e-02,\n",
       "         9.26854514e-02,  4.91160077e-02, -5.49883795e-02,\n",
       "         1.51792345e-02,  1.04726614e+00, -1.30416698e-03,\n",
       "         7.83868237e-02,  6.38449108e-02,  4.29808204e-03,\n",
       "        -1.02137736e-01,  3.96884839e-02, -4.44818716e-02,\n",
       "        -7.22676942e-02, -3.19060572e-02, -7.27933161e-02,\n",
       "        -5.75692721e-02, -3.22287306e-02],\n",
       "       [-1.26691142e-02,  7.62209675e-02, -2.73192917e-02,\n",
       "        -8.72734509e-02,  2.66261190e-02, -1.04890267e-01,\n",
       "        -2.40576724e-02, -1.30416698e-03,  9.44363781e-01,\n",
       "         1.19076194e-03, -2.53799762e-02, -4.99784142e-02,\n",
       "         3.87407484e-03,  5.06583710e-03, -1.20718173e-01,\n",
       "        -4.08468691e-03,  3.42786390e-02,  5.43121727e-02,\n",
       "        -3.59708393e-04,  8.82217082e-02],\n",
       "       [-1.43622845e-02, -1.86111142e-03,  7.29475919e-02,\n",
       "        -9.36940976e-02,  2.96679123e-02, -4.47114058e-02,\n",
       "        -6.75330440e-02,  7.83868237e-02,  1.19076194e-03,\n",
       "         8.60434056e-01,  7.30568059e-02, -1.03659566e-02,\n",
       "        -5.94097788e-02, -4.62028454e-02,  8.85768117e-03,\n",
       "         5.10330081e-02, -5.90066013e-02, -6.65937473e-02,\n",
       "        -5.81290201e-02, -8.95855168e-02],\n",
       "       [ 1.64952796e-02, -3.53734221e-02,  7.05979561e-02,\n",
       "        -4.34830145e-02,  1.48966065e-02, -3.69418371e-02,\n",
       "        -4.04158498e-03,  6.38449108e-02, -2.53799762e-02,\n",
       "         7.30568059e-02,  1.04333310e+00, -3.83631567e-02,\n",
       "         1.34048631e-01, -1.54312262e-01, -5.37107736e-02,\n",
       "        -1.08162452e-01, -9.15803856e-02,  4.09932493e-03,\n",
       "        -7.58266118e-02, -5.87590184e-02],\n",
       "       [-5.73199699e-02,  1.60634137e-02,  1.65564397e-02,\n",
       "         2.64187669e-02,  1.21229819e-01,  5.43699341e-02,\n",
       "         7.21508654e-02,  4.29808204e-03, -4.99784142e-02,\n",
       "        -1.03659566e-02, -3.83631567e-02,  1.02998755e+00,\n",
       "         8.66448134e-03, -7.71086136e-02,  8.05203734e-02,\n",
       "         3.24610119e-02,  2.96065570e-02, -1.00039183e-02,\n",
       "        -2.42685907e-02, -3.62734733e-02],\n",
       "       [ 6.22760958e-02, -1.65964859e-01, -3.47277801e-02,\n",
       "        -2.98906528e-02,  3.02848378e-03, -3.41751815e-02,\n",
       "         3.53927515e-02, -1.02137736e-01,  3.87407484e-03,\n",
       "        -5.94097788e-02,  1.34048631e-01,  8.66448134e-03,\n",
       "         1.05838767e+00, -1.76849231e-01,  5.91191947e-02,\n",
       "         2.39794158e-02, -6.47876988e-02, -1.10004524e-02,\n",
       "        -8.60921013e-02, -1.09720176e-01],\n",
       "       [-5.38829839e-02,  1.24001584e-01,  1.81231045e-02,\n",
       "         1.21853302e-01, -1.03148106e-01, -4.52837742e-03,\n",
       "        -3.26501843e-02,  3.96884839e-02,  5.06583710e-03,\n",
       "        -4.62028454e-02, -1.54312262e-01, -7.71086136e-02,\n",
       "        -1.76849231e-01,  1.13910577e+00, -1.30753360e-03,\n",
       "        -8.25151719e-02,  6.84422737e-02,  7.00833132e-02,\n",
       "         3.32037956e-02,  4.56848683e-02],\n",
       "       [ 3.49356032e-03, -2.73250660e-02, -4.02376357e-02,\n",
       "         1.21949565e-02, -8.14280487e-02, -4.66530089e-02,\n",
       "         9.13364437e-03, -4.44818716e-02, -1.20718173e-01,\n",
       "         8.85768117e-03, -5.37107736e-02,  8.05203734e-02,\n",
       "         5.91191947e-02, -1.30753360e-03,  1.00560690e+00,\n",
       "         1.95395465e-02,  8.11849290e-02,  2.65298381e-02,\n",
       "        -4.34024190e-03,  4.81211182e-02],\n",
       "       [ 2.49951930e-02, -3.57585437e-02,  2.28635079e-02,\n",
       "        -1.43247516e-02,  7.45203153e-02, -1.16623518e-02,\n",
       "        -8.18236857e-02, -7.22676942e-02, -4.08468691e-03,\n",
       "         5.10330081e-02, -1.08162452e-01,  3.24610119e-02,\n",
       "         2.39794158e-02, -8.25151719e-02,  1.95395465e-02,\n",
       "         9.88982381e-01,  2.76285356e-02, -6.42353369e-03,\n",
       "        -2.99597449e-02,  2.52568306e-02],\n",
       "       [-4.22999783e-02,  4.00062028e-02,  1.29522391e-02,\n",
       "         2.99281585e-03, -6.59024180e-02,  9.91341189e-02,\n",
       "         1.67337293e-02, -3.19060572e-02,  3.42786390e-02,\n",
       "        -5.90066013e-02, -9.15803856e-02,  2.96065570e-02,\n",
       "        -6.47876988e-02,  6.84422737e-02,  8.11849290e-02,\n",
       "         2.76285356e-02,  1.07200535e+00,  4.87919290e-02,\n",
       "         2.08189724e-03,  6.17158135e-02],\n",
       "       [ 4.33279589e-02,  4.18064976e-02, -5.32024282e-02,\n",
       "         1.29661282e-01,  4.68763442e-02,  2.32070709e-02,\n",
       "        -9.95222064e-02, -7.27933161e-02,  5.43121727e-02,\n",
       "        -6.65937473e-02,  4.09932493e-03, -1.00039183e-02,\n",
       "        -1.10004524e-02,  7.00833132e-02,  2.65298381e-02,\n",
       "        -6.42353369e-03,  4.87919290e-02,  1.08781686e+00,\n",
       "        -2.22758463e-02,  1.12758041e-01],\n",
       "       [ 1.36262375e-02,  6.41346832e-02,  3.45681152e-03,\n",
       "        -1.00159985e-01, -1.53622931e-01,  6.39073681e-02,\n",
       "         1.95906817e-02, -5.75692721e-02, -3.59708393e-04,\n",
       "        -5.81290201e-02, -7.58266118e-02, -2.42685907e-02,\n",
       "        -8.60921013e-02,  3.32037956e-02, -4.34024190e-03,\n",
       "        -2.99597449e-02,  2.08189724e-03, -2.22758463e-02,\n",
       "         1.12654016e+00,  1.40442190e-01],\n",
       "       [ 5.89407023e-02,  7.41834526e-02, -8.82192055e-02,\n",
       "         2.60601758e-02,  7.67863603e-02,  9.78738495e-02,\n",
       "        -3.91433579e-02, -3.22287306e-02,  8.82217082e-02,\n",
       "        -8.95855168e-02, -5.87590184e-02, -3.62734733e-02,\n",
       "        -1.09720176e-01,  4.56848683e-02,  4.81211182e-02,\n",
       "         2.52568306e-02,  6.17158135e-02,  1.12758041e-01,\n",
       "         1.40442190e-01,  1.19477546e+00]])"
      ]
     },
     "execution_count": 262,
     "metadata": {},
     "output_type": "execute_result"
    }
   ],
   "source": [
    "np.linalg.inv(X2_300_var)\n"
   ]
  },
  {
   "cell_type": "code",
   "execution_count": 263,
   "metadata": {},
   "outputs": [],
   "source": [
    "X_8=np.concatenate((X1_8,X2_8))\n",
    "X_10=np.concatenate((X1_10,X2_10))\n",
    "X_20=np.concatenate((X1_20,X2_20))\n",
    "\n",
    "X_50=np.concatenate((X1_50,X2_50))\n",
    "X_100=np.concatenate((X1_100,X2_100))\n",
    "X_300=np.concatenate((X1_300,X2_300))"
   ]
  },
  {
   "cell_type": "markdown",
   "metadata": {},
   "source": [
    "## Combined "
   ]
  },
  {
   "cell_type": "code",
   "execution_count": 264,
   "metadata": {},
   "outputs": [],
   "source": [
    "X_8_mean=np.mean(X_8,axis=0)\n",
    "\n",
    "X_10_mean=np.mean(X_10,axis=0)\n",
    "X_20_mean=np.mean(X_20,axis=0)\n",
    "X_50_mean=np.mean(X_50,axis=0)\n",
    "X_100_mean=np.mean(X_100,axis=0)\n",
    "X_300_mean=np.mean(X_300,axis=0)"
   ]
  },
  {
   "cell_type": "code",
   "execution_count": 265,
   "metadata": {},
   "outputs": [],
   "source": [
    "X_8_var=np.matmul(np.transpose(X_8-np.ones((16,1))*X_8_mean),(X_8-np.ones((16,1))*X_8_mean))/16\n",
    "X_10_var=np.matmul(np.transpose(X_10-np.ones((20,1))*X_10_mean),(X_10-np.ones((20,1))*X_10_mean))/20\n",
    "X_20_var=np.matmul(np.transpose(X_20-np.ones((40,1))*X_20_mean),(X_20-np.ones((40,1))*X_20_mean))/40\n",
    "\n",
    "X_50_var=np.matmul(np.transpose(X_50-np.ones((100,1))*X_50_mean),(X_50-np.ones((100,1))*X_50_mean))/100\n",
    "X_100_var=np.matmul(np.transpose(X_100-np.ones((200,1))*X_100_mean),(X_100-np.ones((200,1))*X_100_mean))/200\n",
    "X_300_var=np.matmul(np.transpose(X_300-np.ones((600,1))*X_300_mean),(X_300-np.ones((600,1))*X_300_mean))/600"
   ]
  },
  {
   "cell_type": "code",
   "execution_count": 266,
   "metadata": {},
   "outputs": [
    {
     "data": {
      "text/plain": [
       "array([[ 2.03350530e+13, -3.66975125e+14, -8.07128298e+14,\n",
       "        -8.54431709e+14,  1.01685118e+15, -8.31559004e+14,\n",
       "        -1.17776639e+15,  9.02132294e+14,  1.30232873e+15,\n",
       "         9.56027985e+14,  2.65575729e+14, -2.31126155e+14,\n",
       "         2.72868241e+14, -2.60823009e+14,  2.68542905e+13,\n",
       "        -1.55697802e+15,  3.87303677e+14,  7.38037876e+14,\n",
       "         1.14736416e+15,  8.25535854e+14],\n",
       "       [ 5.70357874e+14, -7.45850799e+14,  7.20712582e+14,\n",
       "        -3.97831071e+14, -3.23295384e+15, -1.67889841e+15,\n",
       "         1.24474603e+15, -1.02413005e+15,  1.36276539e+14,\n",
       "        -1.67422367e+15,  6.39722727e+14, -3.53382058e+14,\n",
       "         2.04837166e+15,  8.96044811e+14,  3.12688613e+14,\n",
       "        -5.56841663e+14, -2.02506012e+15,  1.69794466e+14,\n",
       "        -1.41370726e+14,  3.11295181e+15],\n",
       "       [-2.61961404e+15, -3.20319375e+15,  1.06241661e+15,\n",
       "        -1.29352631e+15,  9.88172198e+15,  4.51042956e+15,\n",
       "        -7.23134468e+15,  5.39861131e+15,  3.21392250e+15,\n",
       "         1.04641122e+16, -1.55008108e+15, -1.61274086e+15,\n",
       "        -1.49926174e+14, -1.10959703e+15,  4.66207813e+14,\n",
       "        -4.39342713e+15,  6.97935798e+15, -1.51447618e+15,\n",
       "        -2.75564910e+15, -4.90275229e+15],\n",
       "       [-1.54815570e+15, -4.04415386e+15,  2.98867927e+15,\n",
       "        -2.28502551e+15,  3.01256697e+15,  1.55025944e+15,\n",
       "        -2.32811340e+15,  2.68725725e+15,  2.03045593e+15,\n",
       "         6.51774285e+15, -7.88473331e+14, -1.18037615e+15,\n",
       "         2.84283385e+15,  3.93112339e+14,  1.06434003e+15,\n",
       "        -2.44883799e+15,  3.79859743e+15, -2.03868621e+15,\n",
       "        -3.62535683e+15, -6.69495616e+13],\n",
       "       [ 2.01501237e+15,  1.07205303e+15,  4.72482054e+15,\n",
       "         3.49833736e+15, -2.69371410e+15,  4.99433666e+15,\n",
       "        -3.17641123e+15, -2.95749196e+15, -4.96934140e+15,\n",
       "        -2.06186271e+15, -1.02621300e+15, -1.71174761e+15,\n",
       "        -1.87818501e+15,  3.22808077e+15, -1.41917795e+15,\n",
       "         2.04333850e+15, -2.45021417e+15, -1.81909225e+15,\n",
       "        -1.95581506e+15, -4.48805338e+15],\n",
       "       [-1.94630005e+15, -4.88006575e+15,  5.57390915e+15,\n",
       "        -6.51981232e+14,  7.74188067e+15,  7.03425750e+15,\n",
       "        -8.87344228e+15,  4.28993413e+15,  1.29754511e+15,\n",
       "         1.12442495e+16, -2.16642551e+15, -3.15280275e+15,\n",
       "         1.28955240e+15,  1.33944575e+15,  3.97714057e+14,\n",
       "        -4.29616250e+15,  6.27547136e+15, -3.52412418e+15,\n",
       "        -5.80690200e+15, -5.68398717e+15],\n",
       "       [-3.87097066e+14,  2.14844946e+15, -4.73464547e+15,\n",
       "         2.46154094e+14, -5.63900065e+15, -6.19608662e+15,\n",
       "         9.00773534e+15, -2.35890054e+15,  7.66086127e+14,\n",
       "        -7.33372622e+15,  1.88609766e+15,  2.62698868e+15,\n",
       "         1.54669686e+15, -2.03759437e+15,  9.39576363e+14,\n",
       "         2.35082806e+15, -4.05297014e+15,  2.06420184e+15,\n",
       "         1.85190963e+15,  6.38277398e+15],\n",
       "       [ 1.31608460e+15,  1.92667899e+15,  9.96013764e+14,\n",
       "         2.06206435e+15, -2.00037226e+15,  1.62465058e+15,\n",
       "        -9.42409427e+13, -2.15182284e+15, -2.97141251e+15,\n",
       "        -2.99420090e+15, -2.93204145e+14, -3.84703468e+13,\n",
       "        -2.03920118e+15,  1.08024557e+15, -9.54477127e+14,\n",
       "         2.29962117e+15, -1.92932193e+15, -2.33182921e+14,\n",
       "         3.65534568e+14, -2.20992011e+15],\n",
       "       [ 1.79968892e+15,  3.55019996e+15, -1.41364712e+15,\n",
       "         1.54231341e+15, -4.56044237e+15, -1.60360862e+15,\n",
       "         4.01491556e+15, -3.39947950e+15, -3.03478104e+15,\n",
       "        -6.75804382e+15,  5.10253001e+14,  1.56341633e+15,\n",
       "        -2.40306775e+15,  1.71375230e+14, -9.04251765e+14,\n",
       "         4.20791519e+15, -3.58502822e+15,  1.07891611e+15,\n",
       "         2.66510680e+15,  2.69366813e+14],\n",
       "       [ 6.35530291e+14,  1.11929428e+15,  2.91814200e+15,\n",
       "         3.00058943e+15,  2.64876686e+15,  6.12456087e+15,\n",
       "        -5.07600181e+15, -4.14010061e+14, -3.33220773e+15,\n",
       "         1.57620576e+15, -1.57312911e+15, -1.33668719e+15,\n",
       "        -3.46018566e+15,  1.44632796e+15, -1.36560720e+15,\n",
       "         1.10356693e+15,  9.71954770e+14, -1.61925461e+15,\n",
       "        -1.59432266e+15, -7.13967330e+15],\n",
       "       [ 3.96982185e+14,  9.10098997e+14, -1.35203907e+15,\n",
       "        -3.84476592e+14, -1.76903289e+15, -2.05845443e+15,\n",
       "         2.41711190e+15, -8.16986031e+14, -2.97843243e+13,\n",
       "        -2.35177671e+15,  5.30045040e+14,  8.95276416e+14,\n",
       "        -9.04757553e+13, -4.26837965e+14,  2.21810123e+13,\n",
       "         1.04675880e+15, -1.15213755e+15,  8.26932959e+14,\n",
       "         1.45916609e+15,  1.71061979e+15],\n",
       "       [ 6.75266152e+14,  1.39959321e+15, -1.10337386e+15,\n",
       "         1.05719033e+15, -3.91204914e+15, -1.99115229e+15,\n",
       "         3.16459215e+15, -2.10636773e+15, -8.94934147e+14,\n",
       "        -4.53397013e+15,  8.19166193e+14,  6.23776724e+14,\n",
       "         3.57862866e+14,  1.04482222e+14, -2.97897556e+13,\n",
       "         1.27845710e+15, -3.18374496e+15,  8.30249960e+14,\n",
       "         8.85299568e+14,  2.37704937e+15],\n",
       "       [-9.00212207e+14,  1.11918597e+15, -2.78931352e+15,\n",
       "        -8.75886807e+14,  2.08813928e+15, -1.32146507e+15,\n",
       "         2.38996479e+15,  9.26524708e+14,  8.87783491e+14,\n",
       "         1.34626410e+14, -9.98950684e+12,  1.74293249e+15,\n",
       "        -1.45823187e+15, -2.10137356e+15,  2.05481616e+14,\n",
       "         1.48504816e+15,  1.79710874e+15,  6.63020449e+14,\n",
       "         1.33931517e+15, -4.79435578e+14],\n",
       "       [-1.26964985e+15, -1.83598691e+15,  1.18760787e+13,\n",
       "        -1.53266630e+15,  5.22237869e+15,  1.32958638e+15,\n",
       "        -3.60661581e+15,  3.14705958e+15,  2.36734488e+15,\n",
       "         5.61774373e+15, -5.90626067e+14, -6.72795983e+14,\n",
       "         1.64418906e+14, -7.90979817e+14,  3.22709804e+14,\n",
       "        -2.69161487e+15,  3.80444455e+15, -3.38951713e+14,\n",
       "        -5.84455826e+14, -1.62244993e+15],\n",
       "       [-1.10745222e+14,  7.18159805e+14, -7.54628841e+14,\n",
       "         2.68822087e+14, -4.35885858e+14, -4.48269578e+14,\n",
       "         1.51705102e+15, -4.15534168e+14, -3.26326930e+14,\n",
       "        -1.12170091e+15,  7.34714256e+13,  6.41162817e+14,\n",
       "        -4.60080057e+14, -4.72606861e+14,  2.00925796e+13,\n",
       "         1.07747809e+15, -2.52552051e+14,  1.42343059e+14,\n",
       "         2.25965191e+14,  1.78369332e+13],\n",
       "       [-9.49904403e+14, -1.22720393e+15, -3.16495415e+14,\n",
       "         3.06836959e+14, -3.25010689e+14, -6.64543073e+14,\n",
       "         2.01354434e+14,  5.06997175e+14,  1.53950505e+15,\n",
       "         4.85935088e+14,  4.85062222e+14, -5.99764733e+14,\n",
       "         2.29127998e+15, -2.06066400e+14,  7.38104354e+14,\n",
       "        -2.12740814e+15, -6.13089854e+14,  3.94253745e+13,\n",
       "        -1.43094637e+15,  2.18360852e+15],\n",
       "       [ 1.03230889e+15,  1.61757911e+15,  2.00985105e+15,\n",
       "         3.41586850e+15, -1.04677405e+15,  3.72577192e+15,\n",
       "        -2.17982955e+15, -1.96846087e+15, -3.36582598e+15,\n",
       "        -1.97278249e+15, -6.45212107e+14, -9.77366792e+14,\n",
       "        -2.08338941e+15,  1.56683401e+15, -1.08352257e+15,\n",
       "         1.39018101e+15, -1.86353957e+15, -8.46523961e+14,\n",
       "        -1.07863317e+15, -3.81875395e+15],\n",
       "       [ 1.58573587e+15,  1.85511693e+15, -1.23985110e+15,\n",
       "         1.11395016e+14, -4.68550372e+15, -2.99823065e+15,\n",
       "         3.37488738e+15, -2.47952489e+15, -1.18233829e+15,\n",
       "        -5.33533039e+15,  9.54779680e+14,  9.52628264e+14,\n",
       "        -2.38872605e+14,  3.60853874e+14, -3.64813025e+14,\n",
       "         1.90189206e+15, -3.46383304e+15,  1.36095581e+15,\n",
       "         2.60260177e+15,  2.84435078e+15],\n",
       "       [ 2.95870781e+15,  3.30190576e+15, -2.07549407e+15,\n",
       "         9.39698814e+14, -7.48949343e+15, -4.36731332e+15,\n",
       "         3.77442669e+15, -4.12191179e+15, -1.97161063e+15,\n",
       "        -8.93330278e+15,  1.67152486e+15,  8.95424772e+14,\n",
       "        -6.56199766e+14,  9.77696011e+14, -9.22242748e+14,\n",
       "         2.02905814e+15, -6.41176429e+15,  2.63219282e+15,\n",
       "         4.74266496e+15,  4.31527869e+15],\n",
       "       [ 7.35281975e+14,  4.15710589e+15, -6.52470415e+15,\n",
       "        -8.63151793e+14, -4.19927239e+15, -7.00246388e+15,\n",
       "         8.65245694e+15, -2.20826411e+15,  2.97361979e+14,\n",
       "        -8.00796552e+15,  1.76462520e+15,  3.75711235e+15,\n",
       "        -1.62565325e+15, -2.72645626e+15,  1.23704113e+13,\n",
       "         3.95722825e+15, -3.14273061e+15,  3.34384617e+15,\n",
       "         5.68993091e+15,  4.72262856e+15]])"
      ]
     },
     "execution_count": 266,
     "metadata": {},
     "output_type": "execute_result"
    }
   ],
   "source": [
    "np.linalg.inv(X_8_var)"
   ]
  },
  {
   "cell_type": "markdown",
   "metadata": {},
   "source": [
    "## Test"
   ]
  },
  {
   "cell_type": "code",
   "execution_count": 267,
   "metadata": {},
   "outputs": [],
   "source": [
    "#NO CHANGE\n",
    "atest=np.loadtxt(open(\"P2a_test_data_20D.csv\", \"rb\"), delimiter=\",\")"
   ]
  },
  {
   "cell_type": "code",
   "execution_count": 303,
   "metadata": {},
   "outputs": [
    {
     "name": "stdout",
     "output_type": "stream",
     "text": [
      "581\n"
     ]
    }
   ],
   "source": [
    "scre=0\n",
    "for j in range(1000):\n",
    "    \n",
    "    amd=np.array([])\n",
    "    X_test=atest[j,0:20] ##\n",
    "    Y_test=atest[j,20] ##\n",
    "    for i in range(20):\n",
    "        amdp=np.matmul(np.matmul(X_test - X_10[i],np.linalg.inv(X_10_var)),np.transpose(X_test - X_10[i]))\n",
    "        amd=np.append(amd,amdp)\n",
    "    ar=np.argsort(amd)\n",
    "    flag=0\n",
    "    for k in range(3):\n",
    "        if ar[k]>9:\n",
    "            flag=flag-1\n",
    "        if ar[k]<10:\n",
    "            flag=flag+1\n",
    "    if flag>=0:\n",
    "        clss=1\n",
    "    else:\n",
    "        clss=-1\n",
    "    if Y_test==clss:\n",
    "        scre=scre+1\n",
    "\n",
    "    \n",
    "print(scre)"
   ]
  },
  {
   "cell_type": "code",
   "execution_count": 305,
   "metadata": {},
   "outputs": [
    {
     "name": "stdout",
     "output_type": "stream",
     "text": [
      "836\n"
     ]
    }
   ],
   "source": [
    "scre=0\n",
    "for j in range(1000):\n",
    "    \n",
    "    amd=np.array([])\n",
    "    X_test=atest[j,0:20] ##\n",
    "    Y_test=atest[j,20] ##\n",
    "    for i in range(100):\n",
    "        amdp=np.matmul(np.matmul(X_test - X_50[i],np.linalg.inv(X_50_var)),np.transpose(X_test - X_50[i]))\n",
    "        amd=np.append(amd,amdp)\n",
    "    ar=np.argsort(amd)\n",
    "    flag=0\n",
    "    for k in range(5):\n",
    "        if ar[k]>49:\n",
    "            flag=flag-1\n",
    "        if ar[k]<50:\n",
    "            flag=flag+1\n",
    "    if flag>=0:\n",
    "        clss=1\n",
    "    else:\n",
    "        clss=-1\n",
    "    if Y_test==clss:\n",
    "        scre=scre+1\n",
    "\n",
    "    \n",
    "print(scre)"
   ]
  },
  {
   "cell_type": "code",
   "execution_count": 306,
   "metadata": {},
   "outputs": [
    {
     "name": "stdout",
     "output_type": "stream",
     "text": [
      "823\n"
     ]
    }
   ],
   "source": [
    "scre=0\n",
    "for j in range(1000):\n",
    "    \n",
    "    amd=np.array([])\n",
    "    X_test=atest[j,0:20] ##\n",
    "    Y_test=atest[j,20] ##\n",
    "    for i in range(200):\n",
    "        amdp=np.matmul(np.matmul(X_test - X_100[i],np.linalg.inv(X_100_var)),np.transpose(X_test - X_100[i]))\n",
    "        amd=np.append(amd,amdp)\n",
    "    ar=np.argsort(amd)\n",
    "    flag=0\n",
    "    for k in range(5):\n",
    "        if ar[k]>99:\n",
    "            flag=flag-1\n",
    "        if ar[k]<100:\n",
    "            flag=flag+1\n",
    "    if flag>=0:\n",
    "        clss=1\n",
    "    else:\n",
    "        clss=-1\n",
    "    if Y_test==clss:\n",
    "        scre=scre+1\n",
    "\n",
    "    \n",
    "print(scre)"
   ]
  },
  {
   "cell_type": "code",
   "execution_count": 307,
   "metadata": {
    "scrolled": true
   },
   "outputs": [
    {
     "name": "stdout",
     "output_type": "stream",
     "text": [
      "874\n"
     ]
    }
   ],
   "source": [
    "scre=0\n",
    "for j in range(1000):\n",
    "    \n",
    "    amd=np.array([])\n",
    "    X_test=atest[j,0:20] ##\n",
    "    Y_test=atest[j,20] ##\n",
    "    for i in range(600):\n",
    "        amdp=np.matmul(np.matmul(X_test - X_300[i],np.linalg.inv(X_300_var)),np.transpose(X_test - X_300[i]))\n",
    "        amd=np.append(amd,amdp)\n",
    "    ar=np.argsort(amd)\n",
    "    flag=0\n",
    "    for k in range(5):\n",
    "        if ar[k]>299:\n",
    "            flag=flag-1\n",
    "        if ar[k]<300:\n",
    "            flag=flag+1\n",
    "    if flag>=0:\n",
    "        clss=1\n",
    "    else:\n",
    "        clss=-1\n",
    "    if Y_test==clss:\n",
    "        scre=scre+1\n",
    "\n",
    "    \n",
    "print(scre)"
   ]
  },
  {
   "cell_type": "code",
   "execution_count": 341,
   "metadata": {},
   "outputs": [],
   "source": [
    "# j=879\n",
    "# X_test=atest[j,0:20] ##\n",
    "# Y_test=atest[j,20] ##"
   ]
  },
  {
   "cell_type": "markdown",
   "metadata": {},
   "source": [
    "## Bayes Classifier"
   ]
  },
  {
   "cell_type": "code",
   "execution_count": 377,
   "metadata": {},
   "outputs": [
    {
     "data": {
      "text/plain": [
       "939"
      ]
     },
     "execution_count": 377,
     "metadata": {},
     "output_type": "execute_result"
    }
   ],
   "source": [
    "b_scre=0\n",
    "for j in range(1000):\n",
    "    \n",
    "    X_test=atest[j,0:20] ##\n",
    "    Y_test=atest[j,20] ##\n",
    "    f1 = pow(pow(2*math.pi,100)*np.linalg.det(X1_50_var),-0.5)*pow(math.e,-0.5*np.matmul(np.matmul(X_test - X1_50_mean,np.linalg.inv(X1_50_var)),np.transpose(X_test - X1_50_mean)))\n",
    "    f_1 = pow(pow(2*math.pi,100)*np.linalg.det(X2_50_var),-0.5)*pow(math.e,-0.5*np.matmul(np.matmul(X_test - X2_50_mean,np.linalg.inv(X2_50_var)),np.transpose(X_test - X2_50_mean)))\n",
    "    if f1>f_1:\n",
    "        b_clss=1\n",
    "    else:\n",
    "        b_clss=-1\n",
    "    if Y_test==b_clss:\n",
    "        b_scre=b_scre+1\n",
    "b_scre"
   ]
  },
  {
   "cell_type": "code",
   "execution_count": 376,
   "metadata": {},
   "outputs": [
    {
     "data": {
      "text/plain": [
       "939"
      ]
     },
     "execution_count": 376,
     "metadata": {},
     "output_type": "execute_result"
    }
   ],
   "source": [
    "b_scre=0\n",
    "for j in range(1000):\n",
    "    \n",
    "    X_test=atest[j,0:20] ##\n",
    "    Y_test=atest[j,20] ##\n",
    "    f1 = pow(pow(2*math.pi,20)*np.linalg.det(X1_50_var),-0.5)*pow(math.e,-0.5*np.matmul(np.matmul(X_test - X1_50_mean,np.linalg.inv(X1_50_var)),np.transpose(X_test - X1_50_mean)))\n",
    "    f_1 = pow(pow(2*math.pi,20)*np.linalg.det(X2_50_var),-0.5)*pow(math.e,-0.5*np.matmul(np.matmul(X_test - X2_50_mean,np.linalg.inv(X2_50_var)),np.transpose(X_test - X2_50_mean)))\n",
    "    if f1>f_1:\n",
    "        b_clss=1\n",
    "    else:\n",
    "        b_clss=-1\n",
    "    if Y_test==b_clss:\n",
    "        b_scre=b_scre+1\n",
    "b_scre"
   ]
  },
  {
   "cell_type": "code",
   "execution_count": 375,
   "metadata": {},
   "outputs": [
    {
     "data": {
      "text/plain": [
       "954"
      ]
     },
     "execution_count": 375,
     "metadata": {},
     "output_type": "execute_result"
    }
   ],
   "source": [
    "b_scre=0\n",
    "for j in range(1000):\n",
    "    \n",
    "    X_test=atest[j,0:20] ##\n",
    "    Y_test=atest[j,20] ##\n",
    "    f1 = pow(pow(2*math.pi,20)*np.linalg.det(X1_100_var),-0.5)*pow(math.e,-0.5*np.matmul(np.matmul(X_test - X1_100_mean,np.linalg.inv(X1_100_var)),np.transpose(X_test - X1_100_mean)))\n",
    "    f_1 = pow(pow(2*math.pi,20)*np.linalg.det(X2_100_var),-0.5)*pow(math.e,-0.5*np.matmul(np.matmul(X_test - X2_100_mean,np.linalg.inv(X2_100_var)),np.transpose(X_test - X2_100_mean)))\n",
    "    if f1>f_1:\n",
    "        b_clss=1\n",
    "    else:\n",
    "        b_clss=-1\n",
    "    if Y_test==b_clss:\n",
    "        b_scre=b_scre+1\n",
    "b_scre"
   ]
  },
  {
   "cell_type": "code",
   "execution_count": 374,
   "metadata": {},
   "outputs": [
    {
     "data": {
      "text/plain": [
       "980"
      ]
     },
     "execution_count": 374,
     "metadata": {},
     "output_type": "execute_result"
    }
   ],
   "source": [
    "b_scre=0\n",
    "for j in range(1000):\n",
    "    \n",
    "    X_test=atest[j,0:20] ##\n",
    "    Y_test=atest[j,20] ##\n",
    "    f1 = pow(pow(2*math.pi,20)*np.linalg.det(X1_300_var),-0.5)*pow(math.e,-0.5*np.matmul(np.matmul(X_test - X1_300_mean,np.linalg.inv(X1_300_var)),np.transpose(X_test - X1_300_mean)))\n",
    "    f_1 = pow(pow(2*math.pi,20)*np.linalg.det(X2_300_var),-0.5)*pow(math.e,-0.5*np.matmul(np.matmul(X_test - X2_300_mean,np.linalg.inv(X2_300_var)),np.transpose(X_test - X2_300_mean)))\n",
    "    if f1>f_1:\n",
    "        b_clss=1\n",
    "    else:\n",
    "        b_clss=-1\n",
    "    if Y_test==b_clss:\n",
    "        b_scre=b_scre+1\n",
    "b_scre"
   ]
  },
  {
   "cell_type": "code",
   "execution_count": 373,
   "metadata": {},
   "outputs": [
    {
     "name": "stderr",
     "output_type": "stream",
     "text": [
      "C:\\Users\\range\\.julia\\conda\\3\\lib\\site-packages\\ipykernel_launcher.py:7: RuntimeWarning: invalid value encountered in double_scalars\n",
      "  import sys\n",
      "C:\\Users\\range\\.julia\\conda\\3\\lib\\site-packages\\ipykernel_launcher.py:7: RuntimeWarning: overflow encountered in double_scalars\n",
      "  import sys\n",
      "C:\\Users\\range\\.julia\\conda\\3\\lib\\site-packages\\ipykernel_launcher.py:6: RuntimeWarning: overflow encountered in double_scalars\n",
      "  \n"
     ]
    },
    {
     "data": {
      "text/plain": [
       "500"
      ]
     },
     "execution_count": 373,
     "metadata": {},
     "output_type": "execute_result"
    }
   ],
   "source": [
    "b_scre=0\n",
    "for j in range(1000):\n",
    "    \n",
    "    X_test=atest[j,0:20] ##\n",
    "    Y_test=atest[j,20] ##\n",
    "    f1 = pow(pow(2*math.pi,20)*np.linalg.det(X1_10_var),-0.5)*pow(math.e,-0.5*np.matmul(np.matmul(X_test - X1_10_mean,np.linalg.inv(X1_10_var)),np.transpose(X_test - X1_10_mean)))\n",
    "    f_1 = pow(pow(2*math.pi,20)*np.linalg.det(X2_10_var),-0.5)*pow(math.e,-0.5*np.matmul(np.matmul(X_test - X2_10_mean,np.linalg.inv(X2_10_var)),np.transpose(X_test - X2_10_mean)))\n",
    "    if f1>f_1:\n",
    "        b_clss=1\n",
    "    else:\n",
    "        b_clss=-1\n",
    "    if Y_test==b_clss:\n",
    "        b_scre=b_scre+1\n",
    "b_scre"
   ]
  },
  {
   "cell_type": "code",
   "execution_count": 345,
   "metadata": {},
   "outputs": [
    {
     "data": {
      "text/plain": [
       "1.6124655724998189e-44"
      ]
     },
     "execution_count": 345,
     "metadata": {},
     "output_type": "execute_result"
    }
   ],
   "source": [
    "f_1"
   ]
  },
  {
   "cell_type": "code",
   "execution_count": 346,
   "metadata": {},
   "outputs": [
    {
     "data": {
      "text/plain": [
       "-1.0"
      ]
     },
     "execution_count": 346,
     "metadata": {},
     "output_type": "execute_result"
    }
   ],
   "source": [
    "Y_test"
   ]
  },
  {
   "cell_type": "markdown",
   "metadata": {},
   "source": [
    "# PROBLEM 3"
   ]
  },
  {
   "cell_type": "markdown",
   "metadata": {},
   "source": [
    "## E-M Algorithm"
   ]
  },
  {
   "cell_type": "code",
   "execution_count": null,
   "metadata": {},
   "outputs": [],
   "source": []
  }
 ],
 "metadata": {
  "kernelspec": {
   "display_name": "Python 3",
   "language": "python",
   "name": "python3"
  },
  "language_info": {
   "codemirror_mode": {
    "name": "ipython",
    "version": 3
   },
   "file_extension": ".py",
   "mimetype": "text/x-python",
   "name": "python",
   "nbconvert_exporter": "python",
   "pygments_lexer": "ipython3",
   "version": "3.6.5"
  }
 },
 "nbformat": 4,
 "nbformat_minor": 2
}
