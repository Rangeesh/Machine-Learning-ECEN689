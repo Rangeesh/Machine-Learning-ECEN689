{
 "cells": [
  {
   "cell_type": "code",
   "execution_count": 4,
   "metadata": {
    "scrolled": true
   },
   "outputs": [],
   "source": [
    "import numpy as np\n",
    "import pandas as pd\n",
    "import random as rand\n",
    "import math\n",
    "import matplotlib.pyplot as plt\n",
    "from scipy.stats import norm\n",
    "from sys import maxsize"
   ]
  },
  {
   "cell_type": "code",
   "execution_count": null,
   "metadata": {},
   "outputs": [],
   "source": []
  },
  {
   "cell_type": "markdown",
   "metadata": {},
   "source": [
    "# "
   ]
  },
  {
   "cell_type": "code",
   "execution_count": 18,
   "metadata": {},
   "outputs": [],
   "source": [
    "a=np.loadtxt(open(\"P3a_train_data.csv\", \"rb\"))\n",
    "xs=a[0:200,0]\n",
    "labels=a[0:200,1]\n",
    "data = {'x': xs, 'label': labels}\n",
    "df = pd.DataFrame(data=data)"
   ]
  },
  {
   "cell_type": "code",
   "execution_count": 48,
   "metadata": {},
   "outputs": [
    {
     "name": "stdout",
     "output_type": "stream",
     "text": [
      "0.13791153020658192 0.0034353084040882977\n",
      "0.05404045550678684 0.06676206059072193\n",
      "0.10771310168856826 0.020187144178041176\n",
      "0.04648719677541637 9.851239303391186e-06\n",
      "0.10380399146185626 0.02253062685899398\n",
      "0.0839741259760103 0.036482240467429324\n",
      "0.09823304539060893 0.02608044685782521\n",
      "0.0776062824806164 0.0418449986659369\n",
      "0.09533409591589043 0.00015102022357654907\n",
      "0.050386857498432934 0.0715097944176464\n",
      "0.12954233452462083 0.008725554288148802\n",
      "0.12120661665312213 0.0005848523080702163\n",
      "0.11149950111738423 0.00034189517956962186\n",
      "0.0991651515595675 0.00018268971976749277\n",
      "0.13119794754312736 0.0011521206158699852\n",
      "0.13400440087011173 0.0064316861053995275\n",
      "0.12264104908627452 0.0006374011436341577\n",
      "0.09464187285119494 0.02851167560392134\n",
      "0.10077278014767968 0.024430004439357927\n",
      "0.13736104449832154 0.002406997268211352\n",
      "0.1060899916360447 0.0002586526913498921\n",
      "0.10359377092275847 0.022659967037222426\n",
      "0.13233140599900436 0.00731879663301648\n",
      "0.1241617588844238 0.011385276537111482\n",
      "0.10980956722765838 0.00031303716830111697\n",
      "0.13777172840517038 0.0037301829000727055\n",
      "0.11710185363033301 0.0004624037122550155\n",
      "0.11011384745999535 0.018803057831618425\n",
      "0.12508216545498083 0.010928566924901323\n",
      "0.07508406026928567 0.044109601138919846\n",
      "0.07046642873916803 4.233073945016604e-05\n",
      "0.038650118746893815 0.08882979300443959\n",
      "0.12925724178013778 0.000990141818260947\n",
      "0.11471141733657962 0.00040565536031696484\n",
      "0.07901330872163954 0.04061736454272262\n",
      "0.11414287290195975 0.00039341397037547936\n",
      "0.08551955413135022 9.257213024675887e-05\n",
      "0.024795858948259614 1.4724911992343575e-06\n",
      "0.04352185091717638 7.963359852022739e-06\n",
      "0.09098787342575808 0.00012169249639829945\n",
      "0.016552966605190875 4.843830431258797e-07\n",
      "0.13762166544127388 0.003937600106831099\n",
      "0.13747782740578282 0.00248158933628228\n",
      "0.059039311991387095 2.21278899683081e-05\n",
      "0.13207617532953542 0.0012409398360517154\n",
      "0.13490416354901064 0.0059257700616654665\n",
      "0.13010175125225465 0.0010556809766377225\n",
      "0.10306946223990152 0.00022205883748730443\n",
      "0.13097744610654694 0.0011315500270540832\n",
      "0.03385520078145006 0.09693951557340502\n",
      "0.12998062268894817 0.0010458536074351734\n",
      "0.11568361688165711 0.01573740301940703\n",
      "0.1193408609668414 0.0138210816004413\n",
      "0.06608787932541617 3.325940935315086e-05\n",
      "0.0853237721279202 9.16640122520171e-05\n",
      "0.13583701710506366 0.005361973042502772\n",
      "0.1318149296119466 0.007584007003565672\n",
      "0.13644351850183045 0.004958239725234834\n",
      "0.030732868017685072 2.739807107976875e-06\n",
      "0.13491751835200574 0.0016439579690443384\n",
      "0.12726575434689558 0.009850382286990873\n",
      "0.13031478632694316 0.008340917743770224\n",
      "0.01315230034267694 0.13921024060460205\n",
      "0.13120039037889944 0.0011523521102637347\n",
      "0.08189506081668027 0.03817955835576351\n",
      "0.01786733460318525 5.947735029401927e-07\n",
      "0.1241933971384349 0.0007016890526111767\n",
      "0.1377990886810848 0.0036850236067762455\n",
      "0.04112128132354484 0.08489785446422676\n",
      "0.0907628816775678 0.03127441173207715\n",
      "0.10346022921446336 0.0002264634039363123\n",
      "0.0719780020938603 4.592550333925396e-05\n",
      "0.1202030873369412 0.0005514299047588652\n",
      "0.08915705286860424 0.03246203477322869\n",
      "0.13195412847602467 0.007512819776126466\n",
      "0.0468328505916941 1.0092151244382108e-05\n",
      "0.13548033440571774 0.0055838425236584485\n",
      "0.03646033796945228 4.578070259102489e-06\n",
      "0.016146540099865696 4.532862071839754e-07\n",
      "0.12277436929139443 0.01207784520795299\n",
      "0.13455634153183638 0.0015783139888643411\n",
      "0.13781198514136397 0.002794983950870914\n",
      "0.08604635136540276 9.505797309844393e-05\n",
      "0.12835931996268607 0.0009273035773675161\n",
      "0.036512054422982144 0.09236555273542399\n",
      "0.13002588796676653 0.008485069012887238\n",
      "0.033955696661796674 3.688424026699309e-06\n",
      "0.13783279736085735 0.003624011535581724\n",
      "0.13419714419784096 0.0015184443777145663\n",
      "0.1378871786640813 0.003504934874359698\n",
      "0.11989655421448303 0.01353564884618012\n",
      "0.12390226124214165 0.01151440272603151\n",
      "0.09432693691790109 0.028730561442164328\n",
      "0.0681862378040665 3.7371729606374955e-05\n",
      "0.1217532872381936 0.0006041765771583995\n",
      "0.045499091371576636 9.187264152426748e-06\n",
      "0.06747787569609594 0.051472958374040326\n",
      "0.0858506295179689 9.412713240899978e-05\n",
      "0.13511282226313717 0.0016820964867685362\n",
      "0.01564453485578284 0.1337564768808306\n",
      "0.05304630381277338 0.06802647862092973\n",
      "0.03163307259539312 0.10092393512319248\n",
      "0.0483061484801014 0.07434150411072693\n",
      "0.0010754981893884316 0.12347278352499359\n",
      "0.00010679221466052016 0.059319539303044504\n",
      "0.0006508841503601957 0.10907884486145292\n",
      "0.05297430613128519 0.06811883252553678\n",
      "0.006361915279627797 0.15070526695973066\n",
      "0.0010605288733837425 0.1230865646381542\n",
      "0.0010012750852331006 0.12149006103883057\n",
      "0.027556156714013253 0.10862275160350322\n",
      "0.031181124500092597 0.10175241556186156\n",
      "0.013458863328322185 0.1385481949500407\n",
      "0.004191982972518799 0.14995209000283113\n",
      "0.0012166567594500217 0.12681446377011263\n",
      "0.0004310262850916538 0.09691553917504381\n",
      "3.452466120461568e-05 0.03672491840393847\n",
      "5.524622057552107e-05 0.04518618614127693\n",
      "6.085036645057303e-05 0.04709132183465069\n",
      "0.0004847743531732505 0.10037935854248042\n",
      "0.0078719938680266 0.14914451722228317\n",
      "0.08769364188297547 0.03356767533376026\n",
      "0.004976903499023253 0.15083130243549306\n",
      "0.07022148803776287 0.04872015356728711\n",
      "0.007693186451382552 0.1493815316759183\n",
      "0.04813812627476751 0.07457438385594466\n",
      "0.0053153812314962025 0.15096358177979763\n",
      "0.0012421790069830764 0.12736615967553963\n",
      "0.04883273309591346 0.07361577514877768\n",
      "0.00010718846184401071 0.05940641614925335\n",
      "0.006100775814633739 0.15084916144316302\n",
      "0.003373463112317232 0.14782171149106177\n",
      "0.0003927605572069422 0.09418846712810101\n",
      "0.0010594308949229843 0.12305797369451241\n",
      "0.0006243031316415708 0.10785120768184395\n",
      "0.020481828777096953 0.12316139756551456\n",
      "0.013892872253205117 0.1376051464467557\n",
      "0.004247354346054749 0.15004549772697637\n",
      "0.06463911354000007 0.0544439679238199\n",
      "0.009684046939653005 0.14622336913709913\n",
      "3.7434711928062203e-06 0.012197553773742993\n",
      "0.00017127300796193477 0.07103569965976443\n",
      "0.0861051322464734 0.034793744579895224\n",
      "0.00019775443132792625 0.07484021910798344\n",
      "0.1379481648405503 0.0032215234550831934\n",
      "0.0005681413199900957 0.10506903262994308\n",
      "0.04815576021800301 0.0745499130997438\n",
      "1.7475928396272404e-05 0.026729215750239625\n",
      "0.00029540375916556544 0.0859559916847002\n",
      "0.033457596894977855 0.09764166927654455\n",
      "0.002143320203202982 0.14031951268456\n",
      "0.0007108478821449415 0.11166411065471833\n",
      "0.00042967656113732854 0.09682331522492647\n",
      "0.0019605742266868365 0.13844704113162487\n",
      "0.024715310457179698 0.1142875732572651\n",
      "9.501212213063055e-06 0.019798334667253777\n",
      "0.03071212527691708 0.10261869362141787\n",
      "0.0533439133997608 0.06764585212696256\n",
      "0.0007124292410995258 0.1117290963725181\n",
      "0.02087044665769901 0.12232731631889779\n",
      "0.0002083488048306805 0.07624628084978198\n",
      "0.008914218009371346 0.14756307171914948\n",
      "0.0010857969873265957 0.1237346889406201\n",
      "0.00842702840992343 0.14834097508951433\n",
      "0.13594027637931033 0.005295890169171544\n",
      "0.05893571123063766 0.060818798334947875\n",
      "0.016739565375890948 0.13133787176412487\n",
      "5.171935551941617e-05 0.04391829757324464\n",
      "0.0002594876059407225 0.08229360867933436\n",
      "0.016955918051197214 0.13086032040165005\n",
      "0.008504417901654205 0.14822158358331167\n",
      "0.0024699840391707757 0.1430539190441536\n",
      "4.9405894078827764e-05 0.04305437081891685\n",
      "2.500385779235561e-06 0.009802619190214712\n",
      "0.05091171014625916 0.07081047013012062\n",
      "0.00015076231743323636 0.06774956153603734\n",
      "0.05170368680466112 0.06976638023553709\n",
      "2.6242246285934572e-05 0.03238940531641328\n",
      "0.03353418369274975 0.09750605750303128\n",
      "0.001967664457315895 0.13852504722556516\n",
      "0.004519254295603594 0.15042951148682182\n",
      "5.288728948854783e-05 0.04434451333553589\n",
      "5.0580482450091176e-05 0.04349634714579339\n",
      "0.06326758963781268 0.05592612985679333\n",
      "2.157867514027546e-06 0.009039744527077984\n",
      "0.019034363042222446 0.1262969440472807\n",
      "6.924530136277672e-07 0.004740563604161437\n",
      "0.042092462810074865 0.0833964618490923\n",
      "0.011584696484002338 0.14251770142573858\n",
      "0.01606716475031397 0.13282306272232478\n",
      "0.02117572418009854 0.12167462701874708\n",
      "0.007026502117756772 0.15015275930737204\n",
      "0.028964738405230245 0.10590528596035302\n",
      "5.409173830357374e-05 0.044777395228530116\n",
      "0.056040058709109775 0.0642786997657949\n",
      "6.811078542377377e-05 0.04938648499093156\n",
      "7.98404163182282e-05 0.052754715562925145\n",
      "0.04499387022281025 0.07905271787780042\n",
      "7.587191574803124e-05 0.05165706526519225\n",
      "0.012212704368447251 0.1412114093112224\n",
      "0.925\n"
     ]
    }
   ],
   "source": [
    "X1=a[0:100,0]\n",
    "X2=a[100:200,0]\n",
    "#Y1=a[0:100,0]\n",
    "#X2=a[100:200,0]\n",
    "\n",
    "X1_m=np.mean(X1)\n",
    "X2_m=np.mean(X2)\n",
    "X1_s=np.std(X1)\n",
    "X2_s=np.std(X2)\n",
    "\n",
    "\n",
    "clss=[]\n",
    "test=np.loadtxt(open(\"P3a_test_data.csv\", \"rb\"))\n",
    "\n",
    "xt=test[:,0]\n",
    "yt=test[:,1]\n",
    "\n",
    "flag=0\n",
    "for i in range(len(xt)):\n",
    "    f1=norm.pdf(xt[i],X1_m,X1_s)\n",
    "    f2=norm.pdf(xt[i],X2_m,X2_s)\n",
    "    print(f1,f2)\n",
    "    \n",
    "    if f1>f2:\n",
    "        clss.append(1)\n",
    "    else:\n",
    "        clss.append(-1)\n",
    "    \n",
    "    if clss[i]==yt[i]:\n",
    "        flag=flag+1\n",
    "\n",
    "print(flag/len(xt))\n",
    "\n",
    "\n",
    "\n",
    "\n",
    "\n"
   ]
  },
  {
   "cell_type": "markdown",
   "metadata": {},
   "source": [
    "# Mixture Gaussian Bayes Classifier"
   ]
  },
  {
   "cell_type": "code",
   "execution_count": 29,
   "metadata": {},
   "outputs": [],
   "source": [
    "params = { 'mu1': [-0.291311],\n",
    "          'sig1': [1.782934] ,\n",
    "          'mu2': [4.332953],\n",
    "          'sig2': [1.77231],\n",
    "          'lambda1': [0.44],\n",
    "          'lambda2': [0.56]\n",
    "        }"
   ]
  },
  {
   "cell_type": "code",
   "execution_count": 30,
   "metadata": {},
   "outputs": [],
   "source": [
    "# params1 = { 'mu1': [7.703065],\n",
    "#           'sig1': [1.662945] ,\n",
    "#           'mu2': [12.089492],\n",
    "#           'sig2': [1.293634],\n",
    "#           'lambda1': [0.56],\n",
    "#           'lambda2': [0.44]\n",
    "#         }"
   ]
  },
  {
   "cell_type": "code",
   "execution_count": null,
   "metadata": {},
   "outputs": [],
   "source": [
    "params1 = { 'mu1': [7.703065],\n",
    "          'sig1': [1.662945] ,\n",
    "          'mu2': [12.089492],\n",
    "          'sig2': [1.293634],\n",
    "          'lambda1': [0.56],\n",
    "          'lambda2': [0.44]\n",
    "        }"
   ]
  },
  {
   "cell_type": "code",
   "execution_count": 11,
   "metadata": {
    "scrolled": true
   },
   "outputs": [
    {
     "ename": "NameError",
     "evalue": "name 'xt' is not defined",
     "output_type": "error",
     "traceback": [
      "\u001b[1;31m---------------------------------------------------------------------------\u001b[0m",
      "\u001b[1;31mNameError\u001b[0m                                 Traceback (most recent call last)",
      "\u001b[1;32m<ipython-input-11-fa5455b37615>\u001b[0m in \u001b[0;36m<module>\u001b[1;34m\u001b[0m\n\u001b[0;32m      1\u001b[0m \u001b[0mflag\u001b[0m\u001b[1;33m=\u001b[0m\u001b[1;36m0\u001b[0m\u001b[1;33m\u001b[0m\u001b[0m\n\u001b[0;32m      2\u001b[0m \u001b[0mclss1\u001b[0m\u001b[1;33m=\u001b[0m\u001b[1;33m[\u001b[0m\u001b[1;33m]\u001b[0m\u001b[1;33m\u001b[0m\u001b[0m\n\u001b[1;32m----> 3\u001b[1;33m \u001b[1;32mfor\u001b[0m \u001b[0mi\u001b[0m \u001b[1;32min\u001b[0m \u001b[0mrange\u001b[0m\u001b[1;33m(\u001b[0m\u001b[0mlen\u001b[0m\u001b[1;33m(\u001b[0m\u001b[0mxt\u001b[0m\u001b[1;33m)\u001b[0m\u001b[1;33m)\u001b[0m\u001b[1;33m:\u001b[0m\u001b[1;33m\u001b[0m\u001b[0m\n\u001b[0m\u001b[0;32m      4\u001b[0m     \u001b[0mf_1\u001b[0m\u001b[1;33m=\u001b[0m\u001b[0mparams\u001b[0m\u001b[1;33m[\u001b[0m\u001b[1;34m'lambda1'\u001b[0m\u001b[1;33m]\u001b[0m\u001b[1;33m[\u001b[0m\u001b[1;36m0\u001b[0m\u001b[1;33m]\u001b[0m\u001b[1;33m*\u001b[0m\u001b[0mnorm\u001b[0m\u001b[1;33m.\u001b[0m\u001b[0mpdf\u001b[0m\u001b[1;33m(\u001b[0m\u001b[0mxt\u001b[0m\u001b[1;33m[\u001b[0m\u001b[0mi\u001b[0m\u001b[1;33m]\u001b[0m\u001b[1;33m,\u001b[0m\u001b[0mparams\u001b[0m\u001b[1;33m[\u001b[0m\u001b[1;34m'mu1'\u001b[0m\u001b[1;33m]\u001b[0m\u001b[1;33m[\u001b[0m\u001b[1;36m0\u001b[0m\u001b[1;33m]\u001b[0m\u001b[1;33m,\u001b[0m\u001b[0mparams\u001b[0m\u001b[1;33m[\u001b[0m\u001b[1;34m'sig1'\u001b[0m\u001b[1;33m]\u001b[0m\u001b[1;33m[\u001b[0m\u001b[1;36m0\u001b[0m\u001b[1;33m]\u001b[0m\u001b[1;33m)\u001b[0m\u001b[1;33m+\u001b[0m\u001b[0mparams\u001b[0m\u001b[1;33m[\u001b[0m\u001b[1;34m'lambda2'\u001b[0m\u001b[1;33m]\u001b[0m\u001b[1;33m[\u001b[0m\u001b[1;36m0\u001b[0m\u001b[1;33m]\u001b[0m\u001b[1;33m*\u001b[0m\u001b[0mnorm\u001b[0m\u001b[1;33m.\u001b[0m\u001b[0mpdf\u001b[0m\u001b[1;33m(\u001b[0m\u001b[0mxt\u001b[0m\u001b[1;33m[\u001b[0m\u001b[0mi\u001b[0m\u001b[1;33m]\u001b[0m\u001b[1;33m,\u001b[0m\u001b[0mparams\u001b[0m\u001b[1;33m[\u001b[0m\u001b[1;34m'mu2'\u001b[0m\u001b[1;33m]\u001b[0m\u001b[1;33m[\u001b[0m\u001b[1;36m0\u001b[0m\u001b[1;33m]\u001b[0m\u001b[1;33m,\u001b[0m\u001b[0mparams\u001b[0m\u001b[1;33m[\u001b[0m\u001b[1;34m'sig2'\u001b[0m\u001b[1;33m]\u001b[0m\u001b[1;33m[\u001b[0m\u001b[1;36m0\u001b[0m\u001b[1;33m]\u001b[0m\u001b[1;33m)\u001b[0m\u001b[1;33m\u001b[0m\u001b[0m\n\u001b[0;32m      5\u001b[0m     \u001b[0mf_2\u001b[0m\u001b[1;33m=\u001b[0m\u001b[0mparams1\u001b[0m\u001b[1;33m[\u001b[0m\u001b[1;34m'lambda1'\u001b[0m\u001b[1;33m]\u001b[0m\u001b[1;33m[\u001b[0m\u001b[1;36m0\u001b[0m\u001b[1;33m]\u001b[0m\u001b[1;33m*\u001b[0m\u001b[0mnorm\u001b[0m\u001b[1;33m.\u001b[0m\u001b[0mpdf\u001b[0m\u001b[1;33m(\u001b[0m\u001b[0mxt\u001b[0m\u001b[1;33m[\u001b[0m\u001b[0mi\u001b[0m\u001b[1;33m]\u001b[0m\u001b[1;33m,\u001b[0m\u001b[0mparams1\u001b[0m\u001b[1;33m[\u001b[0m\u001b[1;34m'mu1'\u001b[0m\u001b[1;33m]\u001b[0m\u001b[1;33m[\u001b[0m\u001b[1;36m0\u001b[0m\u001b[1;33m]\u001b[0m\u001b[1;33m,\u001b[0m\u001b[0mparams1\u001b[0m\u001b[1;33m[\u001b[0m\u001b[1;34m'sig1'\u001b[0m\u001b[1;33m]\u001b[0m\u001b[1;33m[\u001b[0m\u001b[1;36m0\u001b[0m\u001b[1;33m]\u001b[0m\u001b[1;33m)\u001b[0m\u001b[1;33m+\u001b[0m\u001b[0mparams1\u001b[0m\u001b[1;33m[\u001b[0m\u001b[1;34m'lambda2'\u001b[0m\u001b[1;33m]\u001b[0m\u001b[1;33m[\u001b[0m\u001b[1;36m0\u001b[0m\u001b[1;33m]\u001b[0m\u001b[1;33m*\u001b[0m\u001b[0mnorm\u001b[0m\u001b[1;33m.\u001b[0m\u001b[0mpdf\u001b[0m\u001b[1;33m(\u001b[0m\u001b[0mxt\u001b[0m\u001b[1;33m[\u001b[0m\u001b[0mi\u001b[0m\u001b[1;33m]\u001b[0m\u001b[1;33m,\u001b[0m\u001b[0mparams1\u001b[0m\u001b[1;33m[\u001b[0m\u001b[1;34m'mu2'\u001b[0m\u001b[1;33m]\u001b[0m\u001b[1;33m[\u001b[0m\u001b[1;36m0\u001b[0m\u001b[1;33m]\u001b[0m\u001b[1;33m,\u001b[0m\u001b[0mparams1\u001b[0m\u001b[1;33m[\u001b[0m\u001b[1;34m'sig2'\u001b[0m\u001b[1;33m]\u001b[0m\u001b[1;33m[\u001b[0m\u001b[1;36m0\u001b[0m\u001b[1;33m]\u001b[0m\u001b[1;33m)\u001b[0m\u001b[1;33m\u001b[0m\u001b[0m\n",
      "\u001b[1;31mNameError\u001b[0m: name 'xt' is not defined"
     ]
    }
   ],
   "source": [
    "flag=0\n",
    "clss1=[]\n",
    "for i in range(len(xt)):\n",
    "    f_1=params['lambda1'][0]*norm.pdf(xt[i],params['mu1'][0],params['sig1'][0])+params['lambda2'][0]*norm.pdf(xt[i],params['mu2'][0],params['sig2'][0])\n",
    "    f_2=params1['lambda1'][0]*norm.pdf(xt[i],params1['mu1'][0],params1['sig1'][0])+params1['lambda2'][0]*norm.pdf(xt[i],params1['mu2'][0],params1['sig2'][0])\n",
    "    #print(f_1,f_2)\n",
    "    \n",
    "    if f_1>f_2:\n",
    "        clss1.append(1)\n",
    "    else:\n",
    "        clss1.append(-1)\n",
    "    \n",
    "    if clss1[i]==yt[i]:\n",
    "        flag=flag+1\n",
    "\n",
    "print(flag/len(xt))\n",
    "#0.925"
   ]
  },
  {
   "cell_type": "markdown",
   "metadata": {},
   "source": [
    "# NN Classifier"
   ]
  },
  {
   "cell_type": "code",
   "execution_count": 10,
   "metadata": {
    "scrolled": true
   },
   "outputs": [
    {
     "data": {
      "text/plain": [
       "0.905"
      ]
     },
     "execution_count": 10,
     "metadata": {},
     "output_type": "execute_result"
    }
   ],
   "source": [
    "a=np.loadtxt(open(\"P3a_train_data.csv\", \"rb\"))\n",
    "Y=a[0:200,1]\n",
    "X=a[0:200,0]\n",
    "X1=a[0:100,0]\n",
    "Y1=a[0:100,1]\n",
    "X2=a[100:200,0]\n",
    "Y2=a[100:200,1]\n",
    "\n",
    "test=np.loadtxt(open(\"P3a_test_data.csv\", \"rb\"))\n",
    "Xt=test[:,0]\n",
    "Yt=test[:,1]\n",
    "\n",
    "ct=0\n",
    "clss2=[]\n",
    "for i in range(len(Xt)):\n",
    "    d=abs(X-Xt[i])\n",
    "    ar=np.argsort(d)\n",
    "    flag=0\n",
    "    for j in range(7):\n",
    "        flag=flag+Y[ar[j]]\n",
    "    \n",
    "    if flag>0:\n",
    "        clss2.append(1)\n",
    "    else:\n",
    "        clss2.append(-1)\n",
    "        \n",
    "    if clss2[i]==Yt[i]:\n",
    "        ct=ct+1\n",
    "ct/len(Xt)    "
   ]
  },
  {
   "cell_type": "markdown",
   "metadata": {},
   "source": [
    "# END!"
   ]
  },
  {
   "cell_type": "code",
   "execution_count": 3,
   "metadata": {},
   "outputs": [],
   "source": [
    "# ### Setup\n",
    "# # set random seed\n",
    "# rand.seed(42)\n",
    "\n",
    "# # 2 clusters\n",
    "# # not that both covariance matrices are diagonal\n",
    "# mu1 = [0, 5]\n",
    "# sig1 = [ [2, 0], [0, 3] ]\n",
    "\n",
    "# mu2 = [5, 0]\n",
    "# sig2 = [ [4, 0], [0, 1] ]"
   ]
  },
  {
   "cell_type": "code",
   "execution_count": 4,
   "metadata": {},
   "outputs": [],
   "source": [
    "# # generate samples\n",
    "# x1, y1 = np.random.multivariate_normal(mu1, sig1, 100).T\n",
    "# x2, y2 = np.random.multivariate_normal(mu2, sig2, 100).T\n",
    "\n",
    "# xs = np.concatenate((x1, x2))\n",
    "# ys = np.concatenate((y1, y2))\n",
    "# labels = ([1] * 100) + ([2] * 100)\n",
    "\n",
    "# data = {'x': xs, 'y': ys, 'label': labels}\n",
    "# df = pd.DataFrame(data=data)"
   ]
  },
  {
   "cell_type": "code",
   "execution_count": 5,
   "metadata": {
    "scrolled": true
   },
   "outputs": [],
   "source": [
    "# # inspect the data\n",
    "# df.head()\n",
    "# df.tail()\n",
    "\n",
    "# fig = plt.figure()\n",
    "# plt.scatter(data['x'], data['y'], 24, c=data['label'])\n",
    "# fig.savefig(\"true-values.png\")"
   ]
  },
  {
   "cell_type": "code",
   "execution_count": 6,
   "metadata": {},
   "outputs": [],
   "source": [
    "### Expectation-maximization\n",
    "\n",
    "# initial guesses - intentionally bad\n",
    "guess = { 'mu1': [-1],\n",
    "          'sig1': [4] ,\n",
    "          'mu2': [3],\n",
    "          'sig2': [1],\n",
    "          'lambda1': [0.3],\n",
    "          'lambda2': [0.7]\n",
    "        }"
   ]
  },
  {
   "cell_type": "code",
   "execution_count": 7,
   "metadata": {},
   "outputs": [],
   "source": [
    "# probability that a point came from a Guassian with given parameters\n",
    "# note that the covariance must be diagonal for this to work\n",
    "def prob(val, mu, sig, lam):\n",
    "  p =lam* norm.pdf(val, mu, sig)\n",
    "  return p"
   ]
  },
  {
   "cell_type": "code",
   "execution_count": 8,
   "metadata": {},
   "outputs": [
    {
     "data": {
      "text/plain": [
       "0.503177636923991"
      ]
     },
     "execution_count": 8,
     "metadata": {},
     "output_type": "execute_result"
    }
   ],
   "source": [
    "prob(1,2,3,4)"
   ]
  },
  {
   "cell_type": "markdown",
   "metadata": {},
   "source": [
    "#  Expectation"
   ]
  },
  {
   "cell_type": "code",
   "execution_count": 9,
   "metadata": {},
   "outputs": [],
   "source": [
    "## assign every data point to its most likely cluster\n",
    "# Classification\n",
    "def expectation(dataFrame, parameters):\n",
    "  for i in range(dataFrame.shape[0]):\n",
    "    x = dataFrame['x'][i]\n",
    "    #y = dataFrame['y'][i]\n",
    "    #print( i , '\\n')\n",
    "    p_cluster1 = prob(x, parameters['mu1'][0], parameters['sig1'][0], parameters['lambda1'][0])\n",
    "    p_cluster1\n",
    "    p_cluster2 = prob(x, parameters['mu2'][0], parameters['sig2'][0], parameters['lambda2'][0])\n",
    "    if p_cluster1 > p_cluster2:\n",
    "      dataFrame['label'][i] = 1\n",
    "    else:\n",
    "      dataFrame['label'][i] = 2\n",
    "  return dataFrame"
   ]
  },
  {
   "cell_type": "code",
   "execution_count": 10,
   "metadata": {},
   "outputs": [
    {
     "data": {
      "text/plain": [
       "1.0"
      ]
     },
     "execution_count": 10,
     "metadata": {},
     "output_type": "execute_result"
    }
   ],
   "source": [
    "norm.pdf(2,2,pow(2*math.pi,-0.5))"
   ]
  },
  {
   "cell_type": "markdown",
   "metadata": {},
   "source": [
    "# Maximization"
   ]
  },
  {
   "cell_type": "code",
   "execution_count": 11,
   "metadata": {},
   "outputs": [],
   "source": [
    "# update estimates of lambda, mu and sigma\n",
    "\n",
    "def maximization(dataFrame, parameters):\n",
    "  points_assigned_to_cluster1 = dataFrame[dataFrame['label'] == 1]\n",
    "  points_assigned_to_cluster2 = dataFrame[dataFrame['label'] == 2]\n",
    "  percent_assigned_to_cluster1 = len(points_assigned_to_cluster1) / float(len(dataFrame))\n",
    "  percent_assigned_to_cluster2 = 1 - percent_assigned_to_cluster1\n",
    "  parameters['lambda1'] = [percent_assigned_to_cluster1]\n",
    "  parameters['lambda2'] = [percent_assigned_to_cluster2]\n",
    "  parameters['mu1'] = [points_assigned_to_cluster1['x'].mean()]\n",
    "  parameters['mu2'] = [points_assigned_to_cluster2['x'].mean()]\n",
    "  parameters['sig1'] =  [points_assigned_to_cluster1['x'].std()]\n",
    "  parameters['sig2'] =  [points_assigned_to_cluster2['x'].std()] \n",
    "  return parameters"
   ]
  },
  {
   "cell_type": "code",
   "execution_count": 12,
   "metadata": {},
   "outputs": [],
   "source": [
    "# get the distance between points\n",
    "# used for determining if params have converged\n",
    "def distance(old_params, new_params):\n",
    "  dist = 0\n",
    "  for param in ['mu1', 'mu2']:\n",
    "    for i in range(len(old_params)):\n",
    "      dist += (old_params[param][i] - new_params[param][i]) ** 2\n",
    "  return dist ** 0.5"
   ]
  },
  {
   "cell_type": "code",
   "execution_count": 13,
   "metadata": {},
   "outputs": [
    {
     "name": "stderr",
     "output_type": "stream",
     "text": [
      "C:\\Users\\range\\.julia\\conda\\3\\lib\\site-packages\\ipykernel_launcher.py:12: SettingWithCopyWarning: \n",
      "A value is trying to be set on a copy of a slice from a DataFrame\n",
      "\n",
      "See the caveats in the documentation: http://pandas.pydata.org/pandas-docs/stable/indexing.html#indexing-view-versus-copy\n",
      "  if sys.path[0] == '':\n",
      "C:\\Users\\range\\.julia\\conda\\3\\lib\\site-packages\\ipykernel_launcher.py:14: SettingWithCopyWarning: \n",
      "A value is trying to be set on a copy of a slice from a DataFrame\n",
      "\n",
      "See the caveats in the documentation: http://pandas.pydata.org/pandas-docs/stable/indexing.html#indexing-view-versus-copy\n",
      "  \n"
     ]
    },
    {
     "name": "stdout",
     "output_type": "stream",
     "text": [
      "iteration 1, shift 11.329482903757365\n",
      "         mu1      sig1       mu2      sig2  lambda1  lambda2\n",
      "0  10.142102  2.280416  5.052009  0.487663      0.9      0.1\n",
      "iteration 2, shift 0.0\n",
      "         mu1      sig1       mu2      sig2  lambda1  lambda2\n",
      "0  10.142102  2.280416  5.052009  0.487663      0.9      0.1\n"
     ]
    }
   ],
   "source": [
    "# loop until parameters converge\n",
    "shift = maxsize\n",
    "epsilon = 0.01\n",
    "iters = 0\n",
    "df_copy = df.copy()\n",
    "# randomly assign points to their initial clusters\n",
    "df_copy['label'] = map(lambda x: x+1, np.random.choice(2, len(df)))\n",
    "params = pd.DataFrame(guess)\n",
    "\n",
    "while shift > epsilon:\n",
    "  iters += 1\n",
    "  # E-step\n",
    "  updated_labels = expectation(df_copy.copy(), params)\n",
    "\n",
    "  # M-step\n",
    "  updated_parameters = maximization(updated_labels, params.copy())\n",
    "\n",
    "  # see if our estimates of mu have changed\n",
    "  # could incorporate all params, or overall log-likelihood\n",
    "  shift = distance(params, updated_parameters)\n",
    "\n",
    "  # logging\n",
    "  print(\"iteration {}, shift {}\".format(iters, shift))\n",
    "\n",
    "  # update labels and params for the next iteration\n",
    "  df_copy = updated_labels\n",
    "  params = updated_parameters\n",
    "  print(params)\n",
    "\n",
    "\n",
    "#   fig = plt.figure()\n",
    "#   plt.scatter(df_copy['x'], df_copy['y'], 24, c=df_copy['label'])\n",
    "#   fig.savefig(\"iteration{}.png\".format(iters))"
   ]
  }
 ],
 "metadata": {
  "kernelspec": {
   "display_name": "Python 3",
   "language": "python",
   "name": "python3"
  },
  "language_info": {
   "codemirror_mode": {
    "name": "ipython",
    "version": 3
   },
   "file_extension": ".py",
   "mimetype": "text/x-python",
   "name": "python",
   "nbconvert_exporter": "python",
   "pygments_lexer": "ipython3",
   "version": "3.6.5"
  }
 },
 "nbformat": 4,
 "nbformat_minor": 2
}
