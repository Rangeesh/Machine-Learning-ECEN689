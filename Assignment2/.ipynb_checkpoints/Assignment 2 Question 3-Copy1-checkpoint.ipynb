{
 "cells": [
  {
   "cell_type": "code",
   "execution_count": 2,
   "metadata": {},
   "outputs": [],
   "source": [
    "import numpy as np\n",
    "import random\n",
    "import math"
   ]
  },
  {
   "cell_type": "code",
   "execution_count": 3,
   "metadata": {},
   "outputs": [],
   "source": [
    "a=np.loadtxt(open(\"P3a_train_data.csv\", \"rb\"))\n"
   ]
  },
  {
   "cell_type": "code",
   "execution_count": 4,
   "metadata": {},
   "outputs": [],
   "source": [
    "X=a[0:100,0]\n",
    "Y=a[0:100,1]"
   ]
  },
  {
   "cell_type": "code",
   "execution_count": 42,
   "metadata": {},
   "outputs": [],
   "source": [
    "# GUESS\n",
    "mu1=3\n",
    "mu2=4\n",
    "var1=4\n",
    "var2=5\n",
    "lam1=0.5\n",
    "lam2=1-lam1"
   ]
  },
  {
   "cell_type": "code",
   "execution_count": 43,
   "metadata": {},
   "outputs": [],
   "source": [
    "def lamphi(x,mu,var,lam):\n",
    "    r = lam*pow(2*math.pi*var,-0.5)*pow(math.e,-pow((x-mu),2)/var)\n",
    "    return r"
   ]
  },
  {
   "cell_type": "code",
   "execution_count": 44,
   "metadata": {},
   "outputs": [
    {
     "name": "stdout",
     "output_type": "stream",
     "text": [
      "-322.0296670542657\n"
     ]
    },
    {
     "data": {
      "text/plain": [
       "16"
      ]
     },
     "execution_count": 44,
     "metadata": {},
     "output_type": "execute_result"
    }
   ],
   "source": [
    "#gam1= lamphi(x,mu1,var1,lam1)/(lamphi(x,mu1,var1,lam1)+lamphi(x,mu2,var2,lam2))\n",
    "#gam2= lamphi(x,mu2,var2,lam2)/(lamphi(x,mu1,var1,lam1)+lamphi(x,mu2,var2,lam2))\n",
    "epsi= 1e-2\n",
    "ct=0\n",
    "\n",
    "while 1:\n",
    "    gam1=np.array([])\n",
    "    gam2=np.array([])\n",
    "    for i in range(0,len(X)):\n",
    "        x=X[i]\n",
    "        temp1= lamphi(x,mu1,var1,lam1)/(lamphi(x,mu1,var1,lam1)+lamphi(x,mu2,var2,lam2))\n",
    "        temp2= lamphi(x,mu2,var2,lam2)/(lamphi(x,mu1,var1,lam1)+lamphi(x,mu2,var2,lam2))\n",
    "        gam1=np.append(gam1,temp1)\n",
    "        gam2=np.append(gam2,temp2)\n",
    "        \n",
    "    \n",
    "\n",
    "    mu1_new = np.dot(gam1,X)/np.sum(gam1)\n",
    "    mu2_new = np.dot(gam2,X)/np.sum(gam2)\n",
    "    lam1_new=np.sum(gam1)/len(X)\n",
    "    lam2_new=np.sum(gam2)/len(X)\n",
    "    var1_new=np.dot(gam1,(X-mu1)**2)/np.sum(gam1)\n",
    "    var2_new=np.dot(gam2,(X-mu2)**2)/np.sum(gam2)\n",
    "    \n",
    "    if abs(mu1-mu1_new)<=epsi and abs(mu2-mu2_new)<=epsi and abs(var1-var1_new)<=epsi and abs(var2-var2_new)<=epsi and abs(lam1-lam1_new)<=0.1*epsi and abs(lam2-lam2_new)<=0.1*epsi:\n",
    "        break\n",
    "    mu1=mu1_new\n",
    "    mu2=mu2_new\n",
    "    var1=var1_new\n",
    "    var2=var2_new\n",
    "    lam1=lam1_new\n",
    "    lam2=lam2_new\n",
    "    ct=ct+1\n",
    "\n",
    "Q=0\n",
    "for i in range(0,len(X)):\n",
    "        Q=Q+gam1[i]*math.log(lamphi(X[i],mu1,var1,lam1))+gam2[i]*math.log(lamphi(X[i],mu2,var2,lam2))\n",
    "        \n",
    "print(Q)        \n",
    "ct"
   ]
  },
  {
   "cell_type": "code",
   "execution_count": 29,
   "metadata": {},
   "outputs": [
    {
     "data": {
      "text/plain": [
       "0.010950788963860023"
      ]
     },
     "execution_count": 29,
     "metadata": {},
     "output_type": "execute_result"
    }
   ],
   "source": [
    "i=1\n",
    "\n",
    "op=(lamphi(X[i],mu1,var1,lam1))\n",
    "op"
   ]
  },
  {
   "cell_type": "code",
   "execution_count": 131,
   "metadata": {},
   "outputs": [
    {
     "name": "stdout",
     "output_type": "stream",
     "text": [
      "-5.761689921447172 \n",
      " 2.2982767 \n",
      " 0.006402539581466432 \n",
      " 8.363474851028109 \n",
      " 2.4007094672565396e-118 \n",
      " 1.0 \n",
      "\n"
     ]
    }
   ],
   "source": [
    "print(mu1,'\\n',\n",
    "mu2,'\\n',\n",
    "var1,'\\n',\n",
    "var2,'\\n',\n",
    "lam1,'\\n',\n",
    "lam2,'\\n')"
   ]
  },
  {
   "cell_type": "code",
   "execution_count": null,
   "metadata": {},
   "outputs": [],
   "source": []
  }
 ],
 "metadata": {
  "kernelspec": {
   "display_name": "Python 3",
   "language": "python",
   "name": "python3"
  },
  "language_info": {
   "codemirror_mode": {
    "name": "ipython",
    "version": 3
   },
   "file_extension": ".py",
   "mimetype": "text/x-python",
   "name": "python",
   "nbconvert_exporter": "python",
   "pygments_lexer": "ipython3",
   "version": "3.6.5"
  }
 },
 "nbformat": 4,
 "nbformat_minor": 2
}
