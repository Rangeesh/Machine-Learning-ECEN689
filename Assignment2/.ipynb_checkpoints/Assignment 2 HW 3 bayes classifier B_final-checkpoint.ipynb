{
 "cells": [
  {
   "cell_type": "code",
   "execution_count": 12,
   "metadata": {
    "scrolled": true
   },
   "outputs": [],
   "source": [
    "import numpy as np\n",
    "import pandas as pd\n",
    "import random as rand\n",
    "import math\n",
    "import matplotlib.pyplot as plt\n",
    "from scipy.stats import norm\n",
    "from sys import maxsize"
   ]
  },
  {
   "cell_type": "markdown",
   "metadata": {},
   "source": [
    "# Bayes Claasifier"
   ]
  },
  {
   "cell_type": "code",
   "execution_count": 13,
   "metadata": {},
   "outputs": [],
   "source": [
    "a=np.loadtxt(open(\"P3a_train_data.csv\", \"rb\"))\n",
    "xs=a[0:200,0]\n",
    "labels=a[0:200,1]\n",
    "data = {'x': xs, 'label': labels}\n",
    "df = pd.DataFrame(data=data)"
   ]
  },
  {
   "cell_type": "code",
   "execution_count": 14,
   "metadata": {},
   "outputs": [
    {
     "name": "stdout",
     "output_type": "stream",
     "text": [
      "0.925\n"
     ]
    }
   ],
   "source": [
    "X1=a[0:100,0]\n",
    "X2=a[100:200,0]\n",
    "#Y1=a[0:100,0]\n",
    "#X2=a[100:200,0]\n",
    "\n",
    "X1_m=np.mean(X1)\n",
    "X2_m=np.mean(X2)\n",
    "X1_s=np.std(X1)\n",
    "X2_s=np.std(X2)\n",
    "\n",
    "\n",
    "clss=[]\n",
    "test=np.loadtxt(open(\"P3a_test_data.csv\", \"rb\"))\n",
    "\n",
    "xt=test[:,0]\n",
    "yt=test[:,1]\n",
    "\n",
    "flag=0\n",
    "for i in range(len(xt)):\n",
    "    f1=norm.pdf(xt[i],X1_m,X1_s)\n",
    "    f2=norm.pdf(xt[i],X2_m,X2_s)\n",
    "    #print(f1,f2)\n",
    "    \n",
    "    if f1>f2:\n",
    "        clss.append(1)\n",
    "    else:\n",
    "        clss.append(-1)\n",
    "    \n",
    "    if clss[i]==yt[i]:\n",
    "        flag=flag+1\n",
    "\n",
    "print(flag/len(xt))\n",
    "\n",
    "\n",
    "\n",
    "\n",
    "\n"
   ]
  },
  {
   "cell_type": "markdown",
   "metadata": {},
   "source": [
    "# Mixture Gaussian Bayes Classifier"
   ]
  },
  {
   "cell_type": "code",
   "execution_count": 15,
   "metadata": {},
   "outputs": [],
   "source": [
    "params = { 'mu1': [-0.291311],\n",
    "          'sig1': [1.782934] ,\n",
    "          'mu2': [4.332953],\n",
    "          'sig2': [1.77231],\n",
    "          'lambda1': [0.44],\n",
    "          'lambda2': [0.56]\n",
    "        }"
   ]
  },
  {
   "cell_type": "code",
   "execution_count": 16,
   "metadata": {},
   "outputs": [],
   "source": [
    "# params1 = { 'mu1': [7.703065],\n",
    "#           'sig1': [1.662945] ,\n",
    "#           'mu2': [12.089492],\n",
    "#           'sig2': [1.293634],\n",
    "#           'lambda1': [0.56],\n",
    "#           'lambda2': [0.44]\n",
    "#         }"
   ]
  },
  {
   "cell_type": "code",
   "execution_count": 17,
   "metadata": {},
   "outputs": [],
   "source": [
    "params1 = { 'mu1': [7.703065],\n",
    "          'sig1': [1.662945] ,\n",
    "          'mu2': [12.089492],\n",
    "          'sig2': [1.293634],\n",
    "          'lambda1': [0.56],\n",
    "          'lambda2': [0.44]\n",
    "        }"
   ]
  },
  {
   "cell_type": "code",
   "execution_count": 18,
   "metadata": {
    "scrolled": true
   },
   "outputs": [
    {
     "name": "stdout",
     "output_type": "stream",
     "text": [
      "0.925\n"
     ]
    }
   ],
   "source": [
    "flag=0\n",
    "clss1=[]\n",
    "for i in range(len(xt)):\n",
    "    f_1=params['lambda1'][0]*norm.pdf(xt[i],params['mu1'][0],params['sig1'][0])+params['lambda2'][0]*norm.pdf(xt[i],params['mu2'][0],params['sig2'][0])\n",
    "    f_2=params1['lambda1'][0]*norm.pdf(xt[i],params1['mu1'][0],params1['sig1'][0])+params1['lambda2'][0]*norm.pdf(xt[i],params1['mu2'][0],params1['sig2'][0])\n",
    "    #print(f_1,f_2)\n",
    "    \n",
    "    if f_1>f_2:\n",
    "        clss1.append(1)\n",
    "    else:\n",
    "        clss1.append(-1)\n",
    "    \n",
    "    if clss1[i]==yt[i]:\n",
    "        flag=flag+1\n",
    "\n",
    "print(flag/len(xt))\n",
    "#0.925"
   ]
  },
  {
   "cell_type": "markdown",
   "metadata": {},
   "source": [
    "# NN Classifier"
   ]
  },
  {
   "cell_type": "code",
   "execution_count": 19,
   "metadata": {
    "scrolled": true
   },
   "outputs": [
    {
     "data": {
      "text/plain": [
       "0.905"
      ]
     },
     "execution_count": 19,
     "metadata": {},
     "output_type": "execute_result"
    }
   ],
   "source": [
    "a=np.loadtxt(open(\"P3a_train_data.csv\", \"rb\"))\n",
    "Y=a[0:200,1]\n",
    "X=a[0:200,0]\n",
    "X1=a[0:100,0]\n",
    "Y1=a[0:100,1]\n",
    "X2=a[100:200,0]\n",
    "Y2=a[100:200,1]\n",
    "\n",
    "test=np.loadtxt(open(\"P3a_test_data.csv\", \"rb\"))\n",
    "Xt=test[:,0]\n",
    "Yt=test[:,1]\n",
    "\n",
    "ct=0\n",
    "clss2=[]\n",
    "for i in range(len(Xt)):\n",
    "    d=abs(X-Xt[i])\n",
    "    ar=np.argsort(d)\n",
    "    flag=0\n",
    "    for j in range(7):\n",
    "        flag=flag+Y[ar[j]]\n",
    "    \n",
    "    if flag>0:\n",
    "        clss2.append(1)\n",
    "    else:\n",
    "        clss2.append(-1)\n",
    "        \n",
    "    if clss2[i]==Yt[i]:\n",
    "        ct=ct+1\n",
    "ct/len(Xt)    "
   ]
  },
  {
   "cell_type": "markdown",
   "metadata": {},
   "source": [
    "# END!"
   ]
  },
  {
   "cell_type": "code",
   "execution_count": 20,
   "metadata": {},
   "outputs": [],
   "source": [
    "# ### Setup\n",
    "# # set random seed\n",
    "# rand.seed(42)\n",
    "\n",
    "# # 2 clusters\n",
    "# # not that both covariance matrices are diagonal\n",
    "# mu1 = [0, 5]\n",
    "# sig1 = [ [2, 0], [0, 3] ]\n",
    "\n",
    "# mu2 = [5, 0]\n",
    "# sig2 = [ [4, 0], [0, 1] ]"
   ]
  },
  {
   "cell_type": "code",
   "execution_count": 21,
   "metadata": {},
   "outputs": [],
   "source": [
    "# # generate samples\n",
    "# x1, y1 = np.random.multivariate_normal(mu1, sig1, 100).T\n",
    "# x2, y2 = np.random.multivariate_normal(mu2, sig2, 100).T\n",
    "\n",
    "# xs = np.concatenate((x1, x2))\n",
    "# ys = np.concatenate((y1, y2))\n",
    "# labels = ([1] * 100) + ([2] * 100)\n",
    "\n",
    "# data = {'x': xs, 'y': ys, 'label': labels}\n",
    "# df = pd.DataFrame(data=data)"
   ]
  },
  {
   "cell_type": "code",
   "execution_count": 22,
   "metadata": {
    "scrolled": true
   },
   "outputs": [],
   "source": [
    "# # inspect the data\n",
    "# df.head()\n",
    "# df.tail()\n",
    "\n",
    "# fig = plt.figure()\n",
    "# plt.scatter(data['x'], data['y'], 24, c=data['label'])\n",
    "# fig.savefig(\"true-values.png\")"
   ]
  },
  {
   "cell_type": "code",
   "execution_count": 23,
   "metadata": {},
   "outputs": [],
   "source": [
    "### Expectation-maximization\n",
    "\n",
    "# initial guesses - intentionally bad\n",
    "guess = { 'mu1': [-1],\n",
    "          'sig1': [4] ,\n",
    "          'mu2': [3],\n",
    "          'sig2': [1],\n",
    "          'lambda1': [0.3],\n",
    "          'lambda2': [0.7]\n",
    "        }"
   ]
  },
  {
   "cell_type": "code",
   "execution_count": 24,
   "metadata": {},
   "outputs": [],
   "source": [
    "# probability that a point came from a Guassian with given parameters\n",
    "# note that the covariance must be diagonal for this to work\n",
    "def prob(val, mu, sig, lam):\n",
    "  p =lam* norm.pdf(val, mu, sig)\n",
    "  return p"
   ]
  },
  {
   "cell_type": "code",
   "execution_count": 25,
   "metadata": {},
   "outputs": [
    {
     "data": {
      "text/plain": [
       "0.503177636923991"
      ]
     },
     "execution_count": 25,
     "metadata": {},
     "output_type": "execute_result"
    }
   ],
   "source": [
    "prob(1,2,3,4)"
   ]
  },
  {
   "cell_type": "markdown",
   "metadata": {},
   "source": [
    "#  Expectation"
   ]
  },
  {
   "cell_type": "code",
   "execution_count": 26,
   "metadata": {},
   "outputs": [],
   "source": [
    "## assign every data point to its most likely cluster\n",
    "# Classification\n",
    "def expectation(dataFrame, parameters):\n",
    "  for i in range(dataFrame.shape[0]):\n",
    "    x = dataFrame['x'][i]\n",
    "    #y = dataFrame['y'][i]\n",
    "    #print( i , '\\n')\n",
    "    p_cluster1 = prob(x, parameters['mu1'][0], parameters['sig1'][0], parameters['lambda1'][0])\n",
    "    p_cluster1\n",
    "    p_cluster2 = prob(x, parameters['mu2'][0], parameters['sig2'][0], parameters['lambda2'][0])\n",
    "    if p_cluster1 > p_cluster2:\n",
    "      dataFrame['label'][i] = 1\n",
    "    else:\n",
    "      dataFrame['label'][i] = 2\n",
    "  return dataFrame"
   ]
  },
  {
   "cell_type": "code",
   "execution_count": 27,
   "metadata": {},
   "outputs": [
    {
     "data": {
      "text/plain": [
       "1.0"
      ]
     },
     "execution_count": 27,
     "metadata": {},
     "output_type": "execute_result"
    }
   ],
   "source": [
    "norm.pdf(2,2,pow(2*math.pi,-0.5))"
   ]
  },
  {
   "cell_type": "markdown",
   "metadata": {},
   "source": [
    "# Maximization"
   ]
  },
  {
   "cell_type": "code",
   "execution_count": 28,
   "metadata": {},
   "outputs": [],
   "source": [
    "# update estimates of lambda, mu and sigma\n",
    "\n",
    "def maximization(dataFrame, parameters):\n",
    "  points_assigned_to_cluster1 = dataFrame[dataFrame['label'] == 1]\n",
    "  points_assigned_to_cluster2 = dataFrame[dataFrame['label'] == 2]\n",
    "  percent_assigned_to_cluster1 = len(points_assigned_to_cluster1) / float(len(dataFrame))\n",
    "  percent_assigned_to_cluster2 = 1 - percent_assigned_to_cluster1\n",
    "  parameters['lambda1'] = [percent_assigned_to_cluster1]\n",
    "  parameters['lambda2'] = [percent_assigned_to_cluster2]\n",
    "  parameters['mu1'] = [points_assigned_to_cluster1['x'].mean()]\n",
    "  parameters['mu2'] = [points_assigned_to_cluster2['x'].mean()]\n",
    "  parameters['sig1'] =  [points_assigned_to_cluster1['x'].std()]\n",
    "  parameters['sig2'] =  [points_assigned_to_cluster2['x'].std()] \n",
    "  return parameters"
   ]
  },
  {
   "cell_type": "code",
   "execution_count": 29,
   "metadata": {},
   "outputs": [],
   "source": [
    "# get the distance between points\n",
    "# used for determining if params have converged\n",
    "def distance(old_params, new_params):\n",
    "  dist = 0\n",
    "  for param in ['mu1', 'mu2']:\n",
    "    for i in range(len(old_params)):\n",
    "      dist += (old_params[param][i] - new_params[param][i]) ** 2\n",
    "  return dist ** 0.5"
   ]
  }
 ],
 "metadata": {
  "kernelspec": {
   "display_name": "Python 3",
   "language": "python",
   "name": "python3"
  },
  "language_info": {
   "codemirror_mode": {
    "name": "ipython",
    "version": 3
   },
   "file_extension": ".py",
   "mimetype": "text/x-python",
   "name": "python",
   "nbconvert_exporter": "python",
   "pygments_lexer": "ipython3",
   "version": "3.6.5"
  }
 },
 "nbformat": 4,
 "nbformat_minor": 2
}
