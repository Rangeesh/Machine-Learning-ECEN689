{
 "cells": [
  {
   "cell_type": "code",
   "execution_count": 2,
   "metadata": {},
   "outputs": [],
   "source": [
    "import numpy as np\n",
    "import random\n",
    "import math"
   ]
  },
  {
   "cell_type": "code",
   "execution_count": 6,
   "metadata": {},
   "outputs": [],
   "source": [
    "a=np.loadtxt(open(\"P3a_train_data.csv\", \"rb\"))\n"
   ]
  },
  {
   "cell_type": "code",
   "execution_count": 10,
   "metadata": {},
   "outputs": [],
   "source": [
    "X=a[:,0]\n",
    "Y=a[:,1]"
   ]
  },
  {
   "cell_type": "code",
   "execution_count": 11,
   "metadata": {},
   "outputs": [],
   "source": [
    "# GUESS\n",
    "mu1=2\n",
    "mu2=2\n",
    "var1=2\n",
    "var2=2\n",
    "lam1=0.3\n",
    "lam2=0.7"
   ]
  },
  {
   "cell_type": "code",
   "execution_count": 27,
   "metadata": {},
   "outputs": [],
   "source": [
    "def lamphi(x,mu,var,lam):\n",
    "    r = lam*pow(2*math.pi*var,-0.5)*pow(math.e,-pow((x-mu),2)/var)\n",
    "    return r"
   ]
  },
  {
   "cell_type": "code",
   "execution_count": 29,
   "metadata": {},
   "outputs": [
    {
     "data": {
      "text/plain": [
       "200"
      ]
     },
     "execution_count": 29,
     "metadata": {},
     "output_type": "execute_result"
    }
   ],
   "source": [
    "len(X)"
   ]
  },
  {
   "cell_type": "code",
   "execution_count": null,
   "metadata": {},
   "outputs": [],
   "source": []
  },
  {
   "cell_type": "code",
   "execution_count": 39,
   "metadata": {},
   "outputs": [
    {
     "ename": "NameError",
     "evalue": "name 'var1' is not defined",
     "output_type": "error",
     "traceback": [
      "\u001b[1;31m---------------------------------------------------------------------------\u001b[0m",
      "\u001b[1;31mNameError\u001b[0m                                 Traceback (most recent call last)",
      "\u001b[1;32m<ipython-input-39-bf432e182dba>\u001b[0m in \u001b[0;36m<module>\u001b[1;34m\u001b[0m\n\u001b[0;32m      5\u001b[0m \u001b[1;32mfor\u001b[0m \u001b[0mi\u001b[0m \u001b[1;32min\u001b[0m \u001b[0mrange\u001b[0m\u001b[1;33m(\u001b[0m\u001b[1;36m0\u001b[0m\u001b[1;33m,\u001b[0m\u001b[0mlen\u001b[0m\u001b[1;33m(\u001b[0m\u001b[0mX\u001b[0m\u001b[1;33m)\u001b[0m\u001b[1;33m)\u001b[0m\u001b[1;33m:\u001b[0m\u001b[1;33m\u001b[0m\u001b[0m\n\u001b[0;32m      6\u001b[0m     \u001b[0mx\u001b[0m\u001b[1;33m=\u001b[0m\u001b[0mX\u001b[0m\u001b[1;33m[\u001b[0m\u001b[0mi\u001b[0m\u001b[1;33m]\u001b[0m\u001b[1;33m\u001b[0m\u001b[0m\n\u001b[1;32m----> 7\u001b[1;33m     \u001b[0mtemp1\u001b[0m\u001b[1;33m=\u001b[0m \u001b[0mlamphi\u001b[0m\u001b[1;33m(\u001b[0m\u001b[0mx\u001b[0m\u001b[1;33m,\u001b[0m\u001b[0mmu1\u001b[0m\u001b[1;33m,\u001b[0m\u001b[0mvar1\u001b[0m\u001b[1;33m,\u001b[0m\u001b[0mlam1\u001b[0m\u001b[1;33m)\u001b[0m\u001b[1;33m/\u001b[0m\u001b[1;33m(\u001b[0m\u001b[0mlamphi\u001b[0m\u001b[1;33m(\u001b[0m\u001b[0mx\u001b[0m\u001b[1;33m,\u001b[0m\u001b[0mmu1\u001b[0m\u001b[1;33m,\u001b[0m\u001b[0mvar1\u001b[0m\u001b[1;33m,\u001b[0m\u001b[0mlam1\u001b[0m\u001b[1;33m)\u001b[0m\u001b[1;33m+\u001b[0m\u001b[0mlamphi\u001b[0m\u001b[1;33m(\u001b[0m\u001b[0mx\u001b[0m\u001b[1;33m,\u001b[0m\u001b[0mmu2\u001b[0m\u001b[1;33m,\u001b[0m\u001b[0mvar2\u001b[0m\u001b[1;33m,\u001b[0m\u001b[0mlam2\u001b[0m\u001b[1;33m)\u001b[0m\u001b[1;33m)\u001b[0m\u001b[1;33m\u001b[0m\u001b[0m\n\u001b[0m\u001b[0;32m      8\u001b[0m     \u001b[0mtemp2\u001b[0m\u001b[1;33m=\u001b[0m \u001b[0mlamphi\u001b[0m\u001b[1;33m(\u001b[0m\u001b[0mx\u001b[0m\u001b[1;33m,\u001b[0m\u001b[0mmu2\u001b[0m\u001b[1;33m,\u001b[0m\u001b[0mvar2\u001b[0m\u001b[1;33m,\u001b[0m\u001b[0mlam2\u001b[0m\u001b[1;33m)\u001b[0m\u001b[1;33m/\u001b[0m\u001b[1;33m(\u001b[0m\u001b[0mlamphi\u001b[0m\u001b[1;33m(\u001b[0m\u001b[0mx\u001b[0m\u001b[1;33m,\u001b[0m\u001b[0mmu1\u001b[0m\u001b[1;33m,\u001b[0m\u001b[0mvar1\u001b[0m\u001b[1;33m,\u001b[0m\u001b[0mlam1\u001b[0m\u001b[1;33m)\u001b[0m\u001b[1;33m+\u001b[0m\u001b[0mlamphi\u001b[0m\u001b[1;33m(\u001b[0m\u001b[0mx\u001b[0m\u001b[1;33m,\u001b[0m\u001b[0mmu2\u001b[0m\u001b[1;33m,\u001b[0m\u001b[0mvar2\u001b[0m\u001b[1;33m,\u001b[0m\u001b[0mlam2\u001b[0m\u001b[1;33m)\u001b[0m\u001b[1;33m)\u001b[0m\u001b[1;33m\u001b[0m\u001b[0m\n\u001b[0;32m      9\u001b[0m     \u001b[0mgam1\u001b[0m\u001b[1;33m=\u001b[0m\u001b[0mnp\u001b[0m\u001b[1;33m.\u001b[0m\u001b[0mappend\u001b[0m\u001b[1;33m(\u001b[0m\u001b[0mgam1\u001b[0m\u001b[1;33m,\u001b[0m\u001b[0mtemp1\u001b[0m\u001b[1;33m)\u001b[0m\u001b[1;33m\u001b[0m\u001b[0m\n",
      "\u001b[1;31mNameError\u001b[0m: name 'var1' is not defined"
     ]
    }
   ],
   "source": [
    "#gam1= lamphi(x,mu1,var1,lam1)/(lamphi(x,mu1,var1,lam1)+lamphi(x,mu2,var2,lam2))\n",
    "#gam2= lamphi(x,mu2,var2,lam2)/(lamphi(x,mu1,var1,lam1)+lamphi(x,mu2,var2,lam2))\n",
    "epsi= 0.01\n",
    "\n",
    "\n",
    "while \n",
    "    gam1=np.array([])\n",
    "    gam2=np.array([])\n",
    "    for i in range(0,len(X)):\n",
    "        x=X[i]\n",
    "        temp1= lamphi(x,mu1,var1,lam1)/(lamphi(x,mu1,var1,lam1)+lamphi(x,mu2,var2,lam2))\n",
    "        temp2= lamphi(x,mu2,var2,lam2)/(lamphi(x,mu1,var1,lam1)+lamphi(x,mu2,var2,lam2))\n",
    "        gam1=np.append(gam1,temp1)\n",
    "        gam2=np.append(gam2,temp2)\n",
    "\n",
    "    mu1_new = np.dot(gam1,X)/np.sum(gam1)\n",
    "    mu2_new = np.dot(gam2,X)/np.sum(gam2)\n",
    "    lam1_new=np.sum(gam1)/len(X)\n",
    "    lam2_new=np.sum(gam2)/len(X)\n",
    "    var1_new=np.dot(gam1,(X-mu1)**2)/np.sum(gam1)\n",
    "    var2_new=np.dot(gam2,(X-mu2)**2)/np.sum(gam2)\n",
    "    \n",
    "    if abs(mu1-mu1_new)<=epsi and abs(mu2-mu2_new)<=epsi and abs(var1-var1_new)<=epsi and abs(var2-var2_new)<=epsi and abs(lam1-lam1_new)<=0.1*epsi and abs(lam2-lam2_new)<=0.1*epsi\n",
    "\n"
   ]
  },
  {
   "cell_type": "code",
   "execution_count": 32,
   "metadata": {},
   "outputs": [
    {
     "data": {
      "text/plain": [
       "0.0"
      ]
     },
     "execution_count": 32,
     "metadata": {},
     "output_type": "execute_result"
    }
   ],
   "source": [
    "np.sum(Y)"
   ]
  }
 ],
 "metadata": {
  "kernelspec": {
   "display_name": "Python 3",
   "language": "python",
   "name": "python3"
  },
  "language_info": {
   "codemirror_mode": {
    "name": "ipython",
    "version": 3
   },
   "file_extension": ".py",
   "mimetype": "text/x-python",
   "name": "python",
   "nbconvert_exporter": "python",
   "pygments_lexer": "ipython3",
   "version": "3.6.5"
  }
 },
 "nbformat": 4,
 "nbformat_minor": 2
}
