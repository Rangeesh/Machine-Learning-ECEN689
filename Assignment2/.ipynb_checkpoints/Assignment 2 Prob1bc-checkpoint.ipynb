{
 "cells": [
  {
   "cell_type": "code",
   "execution_count": 632,
   "metadata": {
    "scrolled": true
   },
   "outputs": [],
   "source": [
    "import numpy as np\n",
    "import pandas as pd\n",
    "import random \n",
    "import matplotlib.pyplot as plt\n",
    "from scipy.stats import norm\n",
    "from sys import maxsize\n",
    "import math"
   ]
  },
  {
   "cell_type": "code",
   "execution_count": 569,
   "metadata": {},
   "outputs": [
    {
     "data": {
      "text/plain": [
       "(200, 2)"
      ]
     },
     "execution_count": 569,
     "metadata": {},
     "output_type": "execute_result"
    }
   ],
   "source": [
    "#a=np.loadtxt(open(\"P1b_train_data_2D.csv\", \"rb\"), delimiter=\",\")\n",
    "\n",
    "X.shape"
   ]
  },
  {
   "cell_type": "code",
   "execution_count": 570,
   "metadata": {},
   "outputs": [],
   "source": [
    "a=np.loadtxt(open(\"P1b_train_data_2D.csv\", \"rb\"), delimiter=\",\")\n",
    "xs=a[:,0]\n",
    "ys=a[:,1]\n",
    "labels=a[:,2]\n",
    "data = {'x': xs, 'y': ys, 'label': labels}\n",
    "df = pd.DataFrame(data=data)"
   ]
  },
  {
   "cell_type": "code",
   "execution_count": 571,
   "metadata": {},
   "outputs": [],
   "source": [
    "#Random Sampling\n"
   ]
  },
  {
   "cell_type": "code",
   "execution_count": 572,
   "metadata": {},
   "outputs": [],
   "source": [
    "# ### Setup\n",
    "# # set random seed\n",
    "# rand.seed(42)\n",
    "\n",
    "# # 2 clusters\n",
    "# # not that both covariance matrices are diagonal\n",
    "# mu1 = [0, 5]\n",
    "# sig1 = [ [2, 0], [0, 3] ]\n",
    "\n",
    "# mu2 = [5, 0]\n",
    "# sig2 = [ [4, 0], [0, 1] ]"
   ]
  },
  {
   "cell_type": "code",
   "execution_count": 573,
   "metadata": {},
   "outputs": [],
   "source": [
    "# # generate samples\n",
    "# x1, y1 = np.random.multivariate_normal(mu1, sig1, 100).T\n",
    "# x2, y2 = np.random.multivariate_normal(mu2, sig2, 100).T\n",
    "\n",
    "# xs = np.concatenate((x1, x2))\n",
    "# ys = np.concatenate((y1, y2))\n",
    "# labels = ([1] * 100) + ([2] * 100)\n",
    "\n",
    "# data = {'x': xs, 'y': ys, 'label': labels}\n",
    "# df = pd.DataFrame(data=data)"
   ]
  },
  {
   "cell_type": "code",
   "execution_count": 574,
   "metadata": {
    "scrolled": true
   },
   "outputs": [],
   "source": [
    "# # inspect the data\n",
    "# df.head()\n",
    "# df.tail()\n",
    "\n",
    "# fig = plt.figure()\n",
    "# plt.scatter(data['x'], data['y'], 24, c=data['label'])\n",
    "# fig.savefig(\"true-values.png\")"
   ]
  },
  {
   "cell_type": "code",
   "execution_count": 575,
   "metadata": {},
   "outputs": [],
   "source": [
    "### Expectation-maximization\n",
    "\n",
    "# initial guesses - intentionally bad\n",
    "guess = { 'mu1': [-1,-1],\n",
    "          'sig1': [ [1.5, 0.5], [0.5, 1.5] ],\n",
    "          'mu2': [5,3],\n",
    "          'sig2': [ [2, 0], [0, 2] ],\n",
    "          'lambda': [0.4, 0.6]\n",
    "        }"
   ]
  },
  {
   "cell_type": "code",
   "execution_count": 576,
   "metadata": {},
   "outputs": [
    {
     "data": {
      "text/plain": [
       "array([list([1.5, 0.5]), list([0.5, 1.5])], dtype=object)"
      ]
     },
     "execution_count": 576,
     "metadata": {},
     "output_type": "execute_result"
    }
   ],
   "source": [
    "pq=pd.DataFrame(guess)\n",
    "np.array(pq['sig1'])"
   ]
  },
  {
   "cell_type": "code",
   "execution_count": 577,
   "metadata": {
    "scrolled": false
   },
   "outputs": [],
   "source": [
    "# type(np.asarray([[parameters['sig1'][0][0],parameters['sig1'][0][1]], [parameters['sig1'][1][0],parameters['sig1'][1][1]]]))"
   ]
  },
  {
   "cell_type": "code",
   "execution_count": 578,
   "metadata": {},
   "outputs": [],
   "source": [
    "# probability that a point came from a Guassian with given parameters\n",
    "# note that the covariance must be diagonal for this to work\n",
    "def prob(X_test, mean, var, lam):\n",
    "    p =lam* pow(pow(2*math.pi,2)*np.linalg.det(var),-0.5)*pow(math.e,-0.5*np.matmul(np.matmul(X_test - mean,np.linalg.inv(var)),np.transpose(X_test - mean)))\n",
    "    #print(p)\n",
    "    return p"
   ]
  },
  {
   "cell_type": "code",
   "execution_count": 579,
   "metadata": {},
   "outputs": [],
   "source": [
    "# assign every data point to its most likely cluster\n",
    "# Classification\n",
    "def expectation(dataFrame, parameters):\n",
    "  for i in range(dataFrame.shape[0]):\n",
    "    x = dataFrame['x'][i]\n",
    "    y = dataFrame['y'][i]\n",
    "    np.array([x,y])\n",
    "    np.array([parameters['mu1'][0],parameters['mu1'][1]])\n",
    "    np.array(parameters['lambda'][0])\n",
    "    np.array([[parameters['sig1'][0][0],parameters['sig1'][0][1]], [parameters['sig1'][1][0],parameters['sig1'][1][1]]])\n",
    "    \n",
    "    p_cluster1 = prob(np.array([x,y]), np.array([parameters['mu1'][0],parameters['mu1'][1]]) , np.array([[parameters['sig1'][0][0],parameters['sig1'][0][1]], [parameters['sig1'][1][0],parameters['sig1'][1][1]]]), np.array(parameters['lambda'][0]) )\n",
    "    p_cluster2 = prob(np.array([x,y]), [parameters['mu2'][0],parameters['mu2'][1]] ,np.array([[parameters['sig2'][0][0],parameters['sig2'][0][1]], [parameters['sig2'][1][0],parameters['sig2'][1][1]]]), parameters['lambda'][1] )\n",
    "    if p_cluster1 > p_cluster2:\n",
    "      dataFrame['label'][i] = 1\n",
    "    else:\n",
    "      dataFrame['label'][i] = 2\n",
    "  return dataFrame"
   ]
  },
  {
   "cell_type": "code",
   "execution_count": 580,
   "metadata": {},
   "outputs": [],
   "source": [
    "# update estimates of lambda, mu and sigma\n",
    "\n",
    "def maximization(dataFrame, parameters):\n",
    "  points_assigned_to_cluster1 = dataFrame[dataFrame['label'] == 1]\n",
    "  #print('points_assigned_to_cluster1', points_assigned_to_cluster1)\n",
    "  points_assigned_to_cluster2 = dataFrame[dataFrame['label'] == 2]\n",
    "  #print('points_assigned_to_cluster2', points_assigned_to_cluster2)\n",
    "  percent_assigned_to_cluster1 = len(points_assigned_to_cluster1) / float(len(dataFrame))\n",
    "  percent_assigned_to_cluster2 = 1 - percent_assigned_to_cluster1\n",
    "  parameters['lambda'] = [percent_assigned_to_cluster1, percent_assigned_to_cluster2 ]\n",
    "  parameters['mu1'] = [points_assigned_to_cluster1['x'].mean(), points_assigned_to_cluster1['y'].mean()]\n",
    "  #print(\"parameters['mu1']\",parameters['mu1'])  \n",
    "  parameters['mu2'] = [points_assigned_to_cluster2['x'].mean(), points_assigned_to_cluster2['y'].mean()]\n",
    "  parameters['sig1'] = np.cov(points_assigned_to_cluster1['x'],points_assigned_to_cluster1['y']).tolist()\n",
    "  #print(\"points_assigned_to_cluster1['x']\\n\")\n",
    "  #print(\"parameters['sig1']\\n\",parameters['sig1']) \n",
    "  parameters['sig2'] = np.cov(points_assigned_to_cluster2['x'],points_assigned_to_cluster2['y']).tolist() \n",
    "  return parameters,points_assigned_to_cluster1['x'],points_assigned_to_cluster1['y']"
   ]
  },
  {
   "cell_type": "code",
   "execution_count": 581,
   "metadata": {},
   "outputs": [],
   "source": [
    "# get the distance between points\n",
    "# used for determining if params have converged\n",
    "def distance(old_params, new_params):\n",
    "  dist = 0\n",
    "  for param in ['mu1', 'mu2']:\n",
    "    for i in range(len(old_params)):\n",
    "      dist += (old_params[param][i] - new_params[param][i]) ** 2\n",
    "  return dist ** 0.5"
   ]
  },
  {
   "cell_type": "code",
   "execution_count": 582,
   "metadata": {
    "scrolled": true
   },
   "outputs": [
    {
     "name": "stderr",
     "output_type": "stream",
     "text": [
      "C:\\Users\\range\\.julia\\conda\\3\\lib\\site-packages\\ipykernel_launcher.py:15: SettingWithCopyWarning: \n",
      "A value is trying to be set on a copy of a slice from a DataFrame\n",
      "\n",
      "See the caveats in the documentation: http://pandas.pydata.org/pandas-docs/stable/indexing.html#indexing-view-versus-copy\n",
      "  from ipykernel import kernelapp as app\n",
      "C:\\Users\\range\\.julia\\conda\\3\\lib\\site-packages\\ipykernel_launcher.py:17: SettingWithCopyWarning: \n",
      "A value is trying to be set on a copy of a slice from a DataFrame\n",
      "\n",
      "See the caveats in the documentation: http://pandas.pydata.org/pandas-docs/stable/indexing.html#indexing-view-versus-copy\n"
     ]
    },
    {
     "name": "stdout",
     "output_type": "stream",
     "text": [
      "iteration 1, shift 2.426806809751528\n",
      "        mu1                                      sig1       mu2  \\\n",
      "0 -0.045485   [1.025231650381864, 0.3620614113928044]  2.996989   \n",
      "1 -0.092037  [0.3620614113928044, 0.9214867173995376]  3.376620   \n",
      "\n",
      "                                         sig2  lambda  \n",
      "0  [0.9537728997835376, -0.14952339315278593]    0.49  \n",
      "1  [-0.14952339315278593, 2.5091563507008336]    0.51  \n",
      "iteration 2, shift 0.08647745466027754\n",
      "        mu1                                       sig1       mu2  \\\n",
      "0 -0.086675  [0.9297345722105262, 0.43999921305263173]  2.976502   \n",
      "1 -0.085308  [0.43999921305263173, 0.8565601765614033]  3.303704   \n",
      "\n",
      "                                         sig2  lambda  \n",
      "0  [0.9873688475690808, -0.12189106117251675]    0.48  \n",
      "1   [-0.12189106117251675, 2.809928645421958]    0.52  \n",
      "iteration 3, shift 0.0\n",
      "        mu1                                       sig1       mu2  \\\n",
      "0 -0.086675  [0.9297345722105262, 0.43999921305263173]  2.976502   \n",
      "1 -0.085308  [0.43999921305263173, 0.8565601765614033]  3.303704   \n",
      "\n",
      "                                         sig2  lambda  \n",
      "0  [0.9873688475690808, -0.12189106117251675]    0.48  \n",
      "1   [-0.12189106117251675, 2.809928645421958]    0.52  \n"
     ]
    }
   ],
   "source": [
    "# loop until parameters converge\n",
    "shift = maxsize\n",
    "epsilon = 0.01\n",
    "iters = 0\n",
    "df_copy = df.copy()\n",
    "# randomly assign points to their initial clusters\n",
    "df_copy['label'] = map(lambda x: x+1, np.random.choice(2, len(df)))\n",
    "params = pd.DataFrame(guess)\n",
    "\n",
    "while shift > epsilon:\n",
    "  iters += 1\n",
    "  # E-step\n",
    "  updated_labels = expectation(df_copy.copy(), params)\n",
    "\n",
    "  # M-step\n",
    "  updated_parameters,xx,yy = maximization(updated_labels, params.copy())\n",
    "\n",
    "  # see if our estimates of mu have changed\n",
    "  # could incorporate all params, or overall log-likelihood\n",
    "  shift = distance(params, updated_parameters)\n",
    "\n",
    "  # logging\n",
    "  print(\"iteration {}, shift {}\".format(iters, shift))\n",
    "  #print(345)\n",
    "\n",
    "  # update labels and params for the next iteration\n",
    "  df_copy = updated_labels\n",
    "  #print(4)\n",
    "  params = updated_parameters\n",
    "  print(params)\n",
    "  #print(5)\n",
    "  params\n",
    "  #print(4)\n",
    "\n",
    "#   fig = plt.figure()\n",
    "#   plt.scatter(df_copy['x'], df_copy['y'], 24, c=df_copy['label'])\n",
    "#   fig.savefig(\"iteration{}.png\".format(iters))"
   ]
  },
  {
   "cell_type": "markdown",
   "metadata": {},
   "source": [
    "# Testing"
   ]
  },
  {
   "cell_type": "code",
   "execution_count": 583,
   "metadata": {
    "scrolled": true
   },
   "outputs": [
    {
     "data": {
      "text/html": [
       "<div>\n",
       "<style scoped>\n",
       "    .dataframe tbody tr th:only-of-type {\n",
       "        vertical-align: middle;\n",
       "    }\n",
       "\n",
       "    .dataframe tbody tr th {\n",
       "        vertical-align: top;\n",
       "    }\n",
       "\n",
       "    .dataframe thead th {\n",
       "        text-align: right;\n",
       "    }\n",
       "</style>\n",
       "<table border=\"1\" class=\"dataframe\">\n",
       "  <thead>\n",
       "    <tr style=\"text-align: right;\">\n",
       "      <th></th>\n",
       "      <th>mu1</th>\n",
       "      <th>sig1</th>\n",
       "      <th>mu2</th>\n",
       "      <th>sig2</th>\n",
       "      <th>lambda</th>\n",
       "    </tr>\n",
       "  </thead>\n",
       "  <tbody>\n",
       "    <tr>\n",
       "      <th>0</th>\n",
       "      <td>-0.086675</td>\n",
       "      <td>[0.9297345722105262, 0.43999921305263173]</td>\n",
       "      <td>2.976502</td>\n",
       "      <td>[0.9873688475690808, -0.12189106117251675]</td>\n",
       "      <td>0.48</td>\n",
       "    </tr>\n",
       "    <tr>\n",
       "      <th>1</th>\n",
       "      <td>-0.085308</td>\n",
       "      <td>[0.43999921305263173, 0.8565601765614033]</td>\n",
       "      <td>3.303704</td>\n",
       "      <td>[-0.12189106117251675, 2.809928645421958]</td>\n",
       "      <td>0.52</td>\n",
       "    </tr>\n",
       "  </tbody>\n",
       "</table>\n",
       "</div>"
      ],
      "text/plain": [
       "        mu1                                       sig1       mu2  \\\n",
       "0 -0.086675  [0.9297345722105262, 0.43999921305263173]  2.976502   \n",
       "1 -0.085308  [0.43999921305263173, 0.8565601765614033]  3.303704   \n",
       "\n",
       "                                         sig2  lambda  \n",
       "0  [0.9873688475690808, -0.12189106117251675]    0.48  \n",
       "1   [-0.12189106117251675, 2.809928645421958]    0.52  "
      ]
     },
     "execution_count": 583,
     "metadata": {},
     "output_type": "execute_result"
    }
   ],
   "source": [
    "params"
   ]
  },
  {
   "cell_type": "code",
   "execution_count": 584,
   "metadata": {
    "scrolled": true
   },
   "outputs": [
    {
     "data": {
      "text/plain": [
       "[[0.9297345722105262, 0.43999921305263173],\n",
       " [0.43999921305263173, 0.8565601765614033]]"
      ]
     },
     "execution_count": 584,
     "metadata": {},
     "output_type": "execute_result"
    }
   ],
   "source": [
    "np.cov(xx,yy).tolist()"
   ]
  },
  {
   "cell_type": "code",
   "execution_count": 585,
   "metadata": {},
   "outputs": [
    {
     "data": {
      "text/plain": [
       "[[2, 0], [0, 2]]"
      ]
     },
     "execution_count": 585,
     "metadata": {},
     "output_type": "execute_result"
    }
   ],
   "source": [
    "abc=pd.DataFrame(guess)\n",
    "np.matrix(abc['sig1'])\n",
    "type([abc['sig2'][0],abc['sig2'][1]])\n",
    "[abc['sig2'][0],abc['sig2'][1]]"
   ]
  },
  {
   "cell_type": "code",
   "execution_count": 586,
   "metadata": {},
   "outputs": [
    {
     "data": {
      "text/plain": [
       "[[2, 0], [0, 2]]"
      ]
     },
     "execution_count": 586,
     "metadata": {},
     "output_type": "execute_result"
    }
   ],
   "source": [
    "guess['sig2']"
   ]
  },
  {
   "cell_type": "code",
   "execution_count": 587,
   "metadata": {},
   "outputs": [
    {
     "data": {
      "text/plain": [
       "0    [0.9297345722105262, 0.43999921305263173]\n",
       "1    [0.43999921305263173, 0.8565601765614033]\n",
       "Name: sig1, dtype: object"
      ]
     },
     "execution_count": 587,
     "metadata": {},
     "output_type": "execute_result"
    }
   ],
   "source": [
    "params['sig1']"
   ]
  },
  {
   "cell_type": "code",
   "execution_count": 588,
   "metadata": {},
   "outputs": [
    {
     "data": {
      "text/plain": [
       "array([[0.92973457, 0.43999921],\n",
       "       [0.43999921, 0.85656018]])"
      ]
     },
     "execution_count": 588,
     "metadata": {},
     "output_type": "execute_result"
    }
   ],
   "source": [
    "np.array([params['sig1'][0],params['sig1'][1]])"
   ]
  },
  {
   "cell_type": "code",
   "execution_count": 589,
   "metadata": {
    "scrolled": true
   },
   "outputs": [
    {
     "data": {
      "text/plain": [
       "list"
      ]
     },
     "execution_count": 589,
     "metadata": {},
     "output_type": "execute_result"
    }
   ],
   "source": [
    "type([[2,3],[4,5]])"
   ]
  },
  {
   "cell_type": "code",
   "execution_count": 590,
   "metadata": {},
   "outputs": [],
   "source": [
    "lam=0.5\n",
    "var=np.array([[2,3],[4,5]])\n",
    "mean=np.array([6,5])\n",
    "X_test=np.array([5,6])\n"
   ]
  },
  {
   "cell_type": "code",
   "execution_count": 591,
   "metadata": {},
   "outputs": [
    {
     "data": {
      "text/plain": [
       "128.0"
      ]
     },
     "execution_count": 591,
     "metadata": {},
     "output_type": "execute_result"
    }
   ],
   "source": [
    "X_test-mean\n",
    "np.linalg.inv(var)\n",
    "np.matmul(X_test - mean,np.linalg.inv(var))\n",
    "np.transpose(X_test - mean)\n",
    "pow(0.5,np.matmul(np.matmul(X_test - mean,np.linalg.inv(var)),np.transpose(X_test - mean)))"
   ]
  },
  {
   "cell_type": "code",
   "execution_count": 592,
   "metadata": {},
   "outputs": [
    {
     "name": "stderr",
     "output_type": "stream",
     "text": [
      "C:\\Users\\range\\.julia\\conda\\3\\lib\\site-packages\\ipykernel_launcher.py:1: RuntimeWarning: invalid value encountered in double_scalars\n",
      "  \"\"\"Entry point for launching an IPython kernel.\n"
     ]
    }
   ],
   "source": [
    "p =lam* pow(pow(2*math.pi,2)*np.linalg.det(var),-0.5)*pow(math.e,-0.5*np.matmul(np.matmul(X_test - mean,np.linalg.inv(var)),np.transpose(X_test - mean)))\n",
    "    "
   ]
  },
  {
   "cell_type": "code",
   "execution_count": 593,
   "metadata": {},
   "outputs": [
    {
     "data": {
      "text/plain": [
       "array([list([0.9297345722105262, 0.43999921305263173]),\n",
       "       list([0.43999921305263173, 0.8565601765614033])], dtype=object)"
      ]
     },
     "execution_count": 593,
     "metadata": {},
     "output_type": "execute_result"
    }
   ],
   "source": [
    "np.array(params['sig1'])"
   ]
  },
  {
   "cell_type": "code",
   "execution_count": 594,
   "metadata": {
    "scrolled": true
   },
   "outputs": [
    {
     "data": {
      "text/plain": [
       "array([[0.92973457, 0.43999921],\n",
       "       [0.43999921, 0.85656018]])"
      ]
     },
     "execution_count": 594,
     "metadata": {},
     "output_type": "execute_result"
    }
   ],
   "source": [
    "np.array([[params['sig1'][0][0],params['sig1'][0][1]], [params['sig1'][1][0],params['sig1'][1][1]]])\n",
    "   "
   ]
  },
  {
   "cell_type": "markdown",
   "metadata": {},
   "source": [
    "# EM Bayes Classifier"
   ]
  },
  {
   "cell_type": "code",
   "execution_count": 595,
   "metadata": {
    "scrolled": true
   },
   "outputs": [
    {
     "data": {
      "text/html": [
       "<div>\n",
       "<style scoped>\n",
       "    .dataframe tbody tr th:only-of-type {\n",
       "        vertical-align: middle;\n",
       "    }\n",
       "\n",
       "    .dataframe tbody tr th {\n",
       "        vertical-align: top;\n",
       "    }\n",
       "\n",
       "    .dataframe thead th {\n",
       "        text-align: right;\n",
       "    }\n",
       "</style>\n",
       "<table border=\"1\" class=\"dataframe\">\n",
       "  <thead>\n",
       "    <tr style=\"text-align: right;\">\n",
       "      <th></th>\n",
       "      <th>mu1</th>\n",
       "      <th>sig1</th>\n",
       "      <th>mu2</th>\n",
       "      <th>sig2</th>\n",
       "      <th>lambda</th>\n",
       "    </tr>\n",
       "  </thead>\n",
       "  <tbody>\n",
       "    <tr>\n",
       "      <th>0</th>\n",
       "      <td>-0.086675</td>\n",
       "      <td>[0.9297345722105262, 0.43999921305263173]</td>\n",
       "      <td>2.976502</td>\n",
       "      <td>[0.9873688475690808, -0.12189106117251675]</td>\n",
       "      <td>0.48</td>\n",
       "    </tr>\n",
       "    <tr>\n",
       "      <th>1</th>\n",
       "      <td>-0.085308</td>\n",
       "      <td>[0.43999921305263173, 0.8565601765614033]</td>\n",
       "      <td>3.303704</td>\n",
       "      <td>[-0.12189106117251675, 2.809928645421958]</td>\n",
       "      <td>0.52</td>\n",
       "    </tr>\n",
       "  </tbody>\n",
       "</table>\n",
       "</div>"
      ],
      "text/plain": [
       "        mu1                                       sig1       mu2  \\\n",
       "0 -0.086675  [0.9297345722105262, 0.43999921305263173]  2.976502   \n",
       "1 -0.085308  [0.43999921305263173, 0.8565601765614033]  3.303704   \n",
       "\n",
       "                                         sig2  lambda  \n",
       "0  [0.9873688475690808, -0.12189106117251675]    0.48  \n",
       "1   [-0.12189106117251675, 2.809928645421958]    0.52  "
      ]
     },
     "execution_count": 595,
     "metadata": {},
     "output_type": "execute_result"
    }
   ],
   "source": [
    "params"
   ]
  },
  {
   "cell_type": "code",
   "execution_count": 603,
   "metadata": {},
   "outputs": [
    {
     "data": {
      "text/plain": [
       "97.5"
      ]
     },
     "execution_count": 603,
     "metadata": {},
     "output_type": "execute_result"
    }
   ],
   "source": [
    "b_scre=0\n",
    "atest=np.loadtxt(open(\"P1b_test_data_2D.csv\", \"rb\"), delimiter=\",\")\n",
    "\n",
    "for j in range(200):\n",
    "    \n",
    "    X_test=atest[j,0:2] ##\n",
    "    Y_test=atest[j,2] ##\n",
    "    f1 = prob(X_test, np.array([params['mu1'][0],params['mu1'][1]]) , np.array([[params['sig1'][0][0],params['sig1'][0][1]], [params['sig1'][1][0],params['sig1'][1][1]]]),1)\n",
    "    f_1 = prob(X_test, np.array([params['mu2'][0],params['mu2'][1]]) , np.array([[params['sig2'][0][0],params['sig2'][0][1]], [params['sig2'][1][0],params['sig2'][1][1]]]), 1) \n",
    "    if f1>f_1:\n",
    "        b_clss=1\n",
    "    else:\n",
    "        b_clss=-1\n",
    "    if Y_test==b_clss:\n",
    "        b_scre=b_scre+1\n",
    "b_scre/len(X_test)"
   ]
  },
  {
   "cell_type": "code",
   "execution_count": null,
   "metadata": {},
   "outputs": [],
   "source": []
  },
  {
   "cell_type": "markdown",
   "metadata": {},
   "source": [
    "# Bayes Classifier"
   ]
  },
  {
   "cell_type": "code",
   "execution_count": 621,
   "metadata": {},
   "outputs": [
    {
     "data": {
      "text/plain": [
       "97.5"
      ]
     },
     "execution_count": 621,
     "metadata": {},
     "output_type": "execute_result"
    }
   ],
   "source": [
    "b_scre=0\n",
    "atest=np.loadtxt(open(\"P1b_test_data_2D.csv\", \"rb\"), delimiter=\",\")\n",
    "X_mean1 = np.mean(a[0:100,0:2],axis=0)\n",
    "X_mean2 = np.mean(a[100:200,0:2],axis=0)\n",
    "X_var1 = np.cov(a[0:100,0],a[0:100,1]).tolist()\n",
    "X_var2 = np.cov(a[100:200,0],a[100:200,1]).tolist()\n",
    "for j in range(200):\n",
    "    \n",
    "    X_test=atest[j,0:2] ##\n",
    "    Y_test=atest[j,2] ##\n",
    "    f1 = prob(X_test, X_mean1, X_var1,1)\n",
    "    f_1 = prob(X_test, X_mean2, X_var2,1)\n",
    "    if f1>f_1:\n",
    "        b_clss=1\n",
    "    else:\n",
    "        b_clss=-1\n",
    "    if Y_test==b_clss:\n",
    "        b_scre=b_scre+1\n",
    "b_scre/len(X_test)"
   ]
  },
  {
   "cell_type": "code",
   "execution_count": 626,
   "metadata": {},
   "outputs": [
    {
     "data": {
      "text/plain": [
       "array([2.994606, 0.938746])"
      ]
     },
     "execution_count": 626,
     "metadata": {},
     "output_type": "execute_result"
    }
   ],
   "source": [
    "\n",
    "X_test-X_mean2\n"
   ]
  },
  {
   "cell_type": "code",
   "execution_count": 609,
   "metadata": {
    "scrolled": false
   },
   "outputs": [],
   "source": [
    "c=np.loadtxt(open(\"P1c_test_data_2D.csv\", \"rb\"), delimiter=\",\")\n",
    "Xc1=a[0:100,0:2]\n",
    "Xc2=a[100:200,0:2]\n"
   ]
  },
  {
   "cell_type": "code",
   "execution_count": 628,
   "metadata": {},
   "outputs": [
    {
     "data": {
      "text/plain": [
       "81.0"
      ]
     },
     "execution_count": 628,
     "metadata": {},
     "output_type": "execute_result"
    }
   ],
   "source": [
    "b_scre=0\n",
    "atest=np.loadtxt(open(\"P1b_test_data_2D.csv\", \"rb\"), delimiter=\",\")\n",
    "X_mean1 = np.mean(c[0:100,0:2],axis=0)\n",
    "X_mean2 = np.mean(c[100:200,0:2],axis=0)\n",
    "X_var1 = np.cov(c[0:100,0],c[0:100,1]).tolist()\n",
    "lamc1=1/X_mean2[0]\n",
    "lamc2=1/X_mean2[1]\n",
    "for j in range(200):\n",
    "    \n",
    "    X_test=atest[j,0:2] ##\n",
    "    Y_test=atest[j,2] ##\n",
    "    f1 = prob(X_test, X_mean1, X_var1,1)\n",
    "    f_1 = lamc1*lamc2*pow(math.e,-lamc1*X_test[0]-lamc2*X_test[1])\n",
    "    if f1>f_1:\n",
    "        b_clss=1\n",
    "    else:\n",
    "        b_clss=-1\n",
    "    if Y_test==b_clss:\n",
    "        b_scre=b_scre+1\n",
    "b_scre/len(X_test)"
   ]
  },
  {
   "cell_type": "markdown",
   "metadata": {},
   "source": [
    "# Varying Sample"
   ]
  },
  {
   "cell_type": "code",
   "execution_count": 636,
   "metadata": {},
   "outputs": [],
   "source": [
    "c1=list(range(0,100))\n",
    "c2=list(range(100,200))\n",
    "X1_5=X[random.sample(c1,5)]\n",
    "X2_5=X[random.sample(c2,5)]\n",
    "X1_5_mean=np.mean(X1_5,axis=0)\n",
    "X2_5_mean=np.mean(X2_5,axis=0)\n",
    "X1_5_var=np.matmul(np.transpose(X1_5-np.ones((5,1))*X1_5_mean),(X1_5-np.ones((5,1))*X1_5_mean))/5\n",
    "X2_5_var=np.matmul(np.transpose(X2_5-np.ones((5,1))*X1_5_mean),(X2_5-np.ones((5,1))*X2_5_mean))/5\n",
    "X_5=np.concatenate((X1_5,X2_5))\n",
    "atest=np.loadtxt(open(\"P1c_test_data_2D.csv\", \"rb\"), delimiter=\",\")\n"
   ]
  },
  {
   "cell_type": "code",
   "execution_count": 637,
   "metadata": {},
   "outputs": [
    {
     "data": {
      "text/plain": [
       "69.0"
      ]
     },
     "execution_count": 637,
     "metadata": {},
     "output_type": "execute_result"
    }
   ],
   "source": [
    "b_scre=0\n",
    "atest=np.loadtxt(open(\"P1b_test_data_2D.csv\", \"rb\"), delimiter=\",\")\n",
    "#X_mean1 = np.mean(a[0:100,0:2],axis=0)\n",
    "#X_mean2 = np.mean(a[100:200,0:2],axis=0)\n",
    "#X_var1 = np.cov(a[0:100,0],a[0:100,1]).tolist()\n",
    "#X_var2 = np.cov(a[100:200,0],a[100:200,1]).tolist()\n",
    "for j in range(200):\n",
    "    \n",
    "    X_test=atest[j,0:2] ##\n",
    "    Y_test=atest[j,2] ##\n",
    "    f1 = prob(X_test, X1_5_mean, X1_5_var,1)\n",
    "    f_1 = prob(X_test, X2_5_mean, X2_5_var,1)\n",
    "    if f1>f_1:\n",
    "        b_clss=1\n",
    "    else:\n",
    "        b_clss=-1\n",
    "    if Y_test==b_clss:\n",
    "        b_scre=b_scre+1\n",
    "b_scre/len(X_test)"
   ]
  },
  {
   "cell_type": "code",
   "execution_count": 651,
   "metadata": {},
   "outputs": [],
   "source": [
    "c1=list(range(0,100))\n",
    "c2=list(range(100,200))\n",
    "X1_10=X[random.sample(c1,10)]\n",
    "X2_10=X[random.sample(c2,10)]\n",
    "X1_10_mean=np.mean(X1_10,axis=0)\n",
    "X2_10_mean=np.mean(X2_10,axis=0)\n",
    "X1_10_var=np.matmul(np.transpose(X1_10-np.ones((10,1))*X1_10_mean),(X1_10-np.ones((10,1))*X1_10_mean))/10\n",
    "X2_10_var=np.matmul(np.transpose(X2_10-np.ones((10,1))*X1_10_mean),(X2_10-np.ones((10,1))*X2_10_mean))/10\n",
    "X_10=np.concatenate((X1_10,X2_10))\n",
    "atest=np.loadtxt(open(\"P1c_test_data_2D.csv\", \"rb\"), delimiter=\",\")"
   ]
  },
  {
   "cell_type": "code",
   "execution_count": 652,
   "metadata": {},
   "outputs": [
    {
     "data": {
      "text/plain": [
       "88.5"
      ]
     },
     "execution_count": 652,
     "metadata": {},
     "output_type": "execute_result"
    }
   ],
   "source": [
    "b_scre=0\n",
    "atest=np.loadtxt(open(\"P1b_test_data_2D.csv\", \"rb\"), delimiter=\",\")\n",
    "#X_mean1 = np.mean(a[0:100,0:2],axis=0)\n",
    "#X_mean2 = np.mean(a[100:200,0:2],axis=0)\n",
    "#X_var1 = np.cov(a[0:100,0],a[0:100,1]).tolist()\n",
    "#X_var2 = np.cov(a[100:200,0],a[100:200,1]).tolist()\n",
    "for j in range(200):\n",
    "    \n",
    "    X_test=atest[j,0:2] ##\n",
    "    Y_test=atest[j,2] ##\n",
    "    f1 = prob(X_test, X1_10_mean, X1_10_var,1)\n",
    "    f_1 = prob(X_test, X2_10_mean, X2_10_var,1)\n",
    "    if f1>f_1:\n",
    "        b_clss=1\n",
    "    else:\n",
    "        b_clss=-1\n",
    "    if Y_test==b_clss:\n",
    "        b_scre=b_scre+1\n",
    "b_scre/len(X_test)"
   ]
  },
  {
   "cell_type": "code",
   "execution_count": 659,
   "metadata": {},
   "outputs": [],
   "source": [
    "c1=list(range(0,100))\n",
    "c2=list(range(100,200))\n",
    "X1_25=X[random.sample(c1,25)]\n",
    "X2_25=X[random.sample(c2,25)]\n",
    "X1_25_mean=np.mean(X1_25,axis=0)\n",
    "X2_25_mean=np.mean(X2_25,axis=0)\n",
    "X1_25_var=np.matmul(np.transpose(X1_25-np.ones((25,1))*X1_25_mean),(X1_25-np.ones((25,1))*X1_25_mean))/25\n",
    "X2_25_var=np.matmul(np.transpose(X2_25-np.ones((25,1))*X1_25_mean),(X2_25-np.ones((25,1))*X2_25_mean))/25\n",
    "X_25=np.concatenate((X1_25,X2_25))\n",
    "atest=np.loadtxt(open(\"P1c_test_data_2D.csv\", \"rb\"), delimiter=\",\")"
   ]
  },
  {
   "cell_type": "code",
   "execution_count": 660,
   "metadata": {},
   "outputs": [
    {
     "data": {
      "text/plain": [
       "96.5"
      ]
     },
     "execution_count": 660,
     "metadata": {},
     "output_type": "execute_result"
    }
   ],
   "source": [
    "b_scre=0\n",
    "atest=np.loadtxt(open(\"P1b_test_data_2D.csv\", \"rb\"), delimiter=\",\")\n",
    "#X_mean1 = np.mean(a[0:100,0:2],axis=0)\n",
    "#X_mean2 = np.mean(a[100:200,0:2],axis=0)\n",
    "#X_var1 = np.cov(a[0:100,0],a[0:100,1]).tolist()\n",
    "#X_var2 = np.cov(a[100:200,0],a[100:200,1]).tolist()\n",
    "for j in range(200):\n",
    "    \n",
    "    X_test=atest[j,0:2] ##\n",
    "    Y_test=atest[j,2] ##\n",
    "    f1 = prob(X_test, X1_25_mean, X1_25_var,1)\n",
    "    f_1 = prob(X_test, X2_25_mean, X2_25_var,1)\n",
    "    if f1>f_1:\n",
    "        b_clss=1\n",
    "    else:\n",
    "        b_clss=-1\n",
    "    if Y_test==b_clss:\n",
    "        b_scre=b_scre+1\n",
    "b_scre/len(X_test)"
   ]
  },
  {
   "cell_type": "code",
   "execution_count": 657,
   "metadata": {},
   "outputs": [],
   "source": [
    "c1=list(range(0,100))\n",
    "c2=list(range(100,200))\n",
    "X1_75=X[random.sample(c1,75)]\n",
    "X2_75=X[random.sample(c2,75)]\n",
    "X1_75_mean=np.mean(X1_75,axis=0)\n",
    "X2_75_mean=np.mean(X2_75,axis=0)\n",
    "X1_75_var=np.matmul(np.transpose(X1_75-np.ones((75,1))*X1_75_mean),(X1_75-np.ones((75,1))*X1_75_mean))/75\n",
    "X2_75_var=np.matmul(np.transpose(X2_75-np.ones((75,1))*X1_75_mean),(X2_75-np.ones((75,1))*X2_75_mean))/75\n",
    "X_75=np.concatenate((X1_75,X2_75))\n",
    "atest=np.loadtxt(open(\"P1c_test_data_2D.csv\", \"rb\"), delimiter=\",\")"
   ]
  },
  {
   "cell_type": "code",
   "execution_count": 658,
   "metadata": {},
   "outputs": [
    {
     "data": {
      "text/plain": [
       "97.5"
      ]
     },
     "execution_count": 658,
     "metadata": {},
     "output_type": "execute_result"
    }
   ],
   "source": [
    "b_scre=0\n",
    "atest=np.loadtxt(open(\"P1b_test_data_2D.csv\", \"rb\"), delimiter=\",\")\n",
    "#X_mean1 = np.mean(a[0:100,0:2],axis=0)\n",
    "#X_mean2 = np.mean(a[100:200,0:2],axis=0)\n",
    "#X_var1 = np.cov(a[0:100,0],a[0:100,1]).tolist()\n",
    "#X_var2 = np.cov(a[100:200,0],a[100:200,1]).tolist()\n",
    "for j in range(200):\n",
    "    \n",
    "    X_test=atest[j,0:2] ##\n",
    "    Y_test=atest[j,2] ##\n",
    "    f1 = prob(X_test, X1_75_mean, X1_75_var,1)\n",
    "    f_1 = prob(X_test, X2_75_mean, X2_75_var,1)\n",
    "    if f1>f_1:\n",
    "        b_clss=1\n",
    "    else:\n",
    "        b_clss=-1\n",
    "    if Y_test==b_clss:\n",
    "        b_scre=b_scre+1\n",
    "b_scre/len(X_test)"
   ]
  },
  {
   "cell_type": "code",
   "execution_count": null,
   "metadata": {},
   "outputs": [],
   "source": []
  },
  {
   "cell_type": "code",
   "execution_count": null,
   "metadata": {},
   "outputs": [],
   "source": []
  }
 ],
 "metadata": {
  "kernelspec": {
   "display_name": "Python 3",
   "language": "python",
   "name": "python3"
  },
  "language_info": {
   "codemirror_mode": {
    "name": "ipython",
    "version": 3
   },
   "file_extension": ".py",
   "mimetype": "text/x-python",
   "name": "python",
   "nbconvert_exporter": "python",
   "pygments_lexer": "ipython3",
   "version": "3.6.5"
  }
 },
 "nbformat": 4,
 "nbformat_minor": 2
}
