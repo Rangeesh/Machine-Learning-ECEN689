{
 "cells": [
  {
   "cell_type": "code",
   "execution_count": 389,
   "metadata": {
    "scrolled": true
   },
   "outputs": [],
   "source": [
    "import numpy as np\n",
    "import pandas as pd\n",
    "import random as rand\n",
    "import math\n",
    "import matplotlib.pyplot as plt\n",
    "from scipy.stats import norm\n",
    "from sys import maxsize"
   ]
  },
  {
   "cell_type": "code",
   "execution_count": 390,
   "metadata": {},
   "outputs": [],
   "source": [
    "a=np.loadtxt(open(\"P3a_train_data.csv\", \"rb\"))\n",
    "xs=a[0:100,0]\n",
    "labels=a[0:100,1]\n",
    "data = {'x': xs, 'label': labels}\n",
    "df = pd.DataFrame(data=data)"
   ]
  },
  {
   "cell_type": "code",
   "execution_count": 391,
   "metadata": {},
   "outputs": [],
   "source": [
    "# ### Setup\n",
    "# # set random seed\n",
    "# rand.seed(42)\n",
    "\n",
    "# # 2 clusters\n",
    "# # not that both covariance matrices are diagonal\n",
    "# mu1 = [0, 5]\n",
    "# sig1 = [ [2, 0], [0, 3] ]\n",
    "\n",
    "# mu2 = [5, 0]\n",
    "# sig2 = [ [4, 0], [0, 1] ]"
   ]
  },
  {
   "cell_type": "code",
   "execution_count": 392,
   "metadata": {},
   "outputs": [],
   "source": [
    "# # generate samples\n",
    "# x1, y1 = np.random.multivariate_normal(mu1, sig1, 100).T\n",
    "# x2, y2 = np.random.multivariate_normal(mu2, sig2, 100).T\n",
    "\n",
    "# xs = np.concatenate((x1, x2))\n",
    "# ys = np.concatenate((y1, y2))\n",
    "# labels = ([1] * 100) + ([2] * 100)\n",
    "\n",
    "# data = {'x': xs, 'y': ys, 'label': labels}\n",
    "# df = pd.DataFrame(data=data)"
   ]
  },
  {
   "cell_type": "code",
   "execution_count": 393,
   "metadata": {
    "scrolled": true
   },
   "outputs": [],
   "source": [
    "# # inspect the data\n",
    "# df.head()\n",
    "# df.tail()\n",
    "\n",
    "# fig = plt.figure()\n",
    "# plt.scatter(data['x'], data['y'], 24, c=data['label'])\n",
    "# fig.savefig(\"true-values.png\")"
   ]
  },
  {
   "cell_type": "code",
   "execution_count": 394,
   "metadata": {},
   "outputs": [],
   "source": [
    "### Expectation-maximization\n",
    "\n",
    "# initial guesses - intentionally bad\n",
    "guess = { 'mu1': [-1],\n",
    "          'sig1': [4] ,\n",
    "          'mu2': [3],\n",
    "          'sig2': [1],\n",
    "          'lambda1': [0.3],\n",
    "          'lambda2': [0.7]\n",
    "        }"
   ]
  },
  {
   "cell_type": "code",
   "execution_count": 395,
   "metadata": {},
   "outputs": [],
   "source": [
    "# probability that a point came from a Guassian with given parameters\n",
    "# note that the covariance must be diagonal for this to work\n",
    "def prob(val, mu, sig, lam):\n",
    "  p =lam* norm.pdf(val, mu, sig)\n",
    "  return p"
   ]
  },
  {
   "cell_type": "code",
   "execution_count": 396,
   "metadata": {},
   "outputs": [
    {
     "data": {
      "text/plain": [
       "0.503177636923991"
      ]
     },
     "execution_count": 396,
     "metadata": {},
     "output_type": "execute_result"
    }
   ],
   "source": [
    "prob(1,2,3,4)"
   ]
  },
  {
   "cell_type": "markdown",
   "metadata": {},
   "source": [
    "#  Expectation"
   ]
  },
  {
   "cell_type": "code",
   "execution_count": 397,
   "metadata": {},
   "outputs": [],
   "source": [
    "## assign every data point to its most likely cluster\n",
    "# Classification\n",
    "def expectation(dataFrame, parameters):\n",
    "  for i in range(dataFrame.shape[0]):\n",
    "    x = dataFrame['x'][i]\n",
    "    #y = dataFrame['y'][i]\n",
    "    #print( i , '\\n')\n",
    "    p_cluster1 = prob(x, parameters['mu1'][0], parameters['sig1'][0], parameters['lambda1'][0])\n",
    "    p_cluster1\n",
    "    p_cluster2 = prob(x, parameters['mu2'][0], parameters['sig2'][0], parameters['lambda2'][0])\n",
    "    if p_cluster1 > p_cluster2:\n",
    "      dataFrame['label'][i] = 1\n",
    "    else:\n",
    "      dataFrame['label'][i] = 2\n",
    "  return dataFrame"
   ]
  },
  {
   "cell_type": "code",
   "execution_count": 398,
   "metadata": {},
   "outputs": [
    {
     "data": {
      "text/plain": [
       "1.0"
      ]
     },
     "execution_count": 398,
     "metadata": {},
     "output_type": "execute_result"
    }
   ],
   "source": [
    "norm.pdf(2,2,pow(2*math.pi,-0.5))"
   ]
  },
  {
   "cell_type": "markdown",
   "metadata": {},
   "source": [
    "# Maximization"
   ]
  },
  {
   "cell_type": "code",
   "execution_count": 399,
   "metadata": {},
   "outputs": [],
   "source": [
    "# update estimates of lambda, mu and sigma\n",
    "\n",
    "def maximization(dataFrame, parameters):\n",
    "  points_assigned_to_cluster1 = dataFrame[dataFrame['label'] == 1]\n",
    "  points_assigned_to_cluster2 = dataFrame[dataFrame['label'] == 2]\n",
    "  percent_assigned_to_cluster1 = len(points_assigned_to_cluster1) / float(len(dataFrame))\n",
    "  percent_assigned_to_cluster2 = 1 - percent_assigned_to_cluster1\n",
    "  parameters['lambda1'] = [percent_assigned_to_cluster1]\n",
    "  parameters['lambda2'] = [percent_assigned_to_cluster2]\n",
    "  parameters['mu1'] = [points_assigned_to_cluster1['x'].mean()]\n",
    "  parameters['mu2'] = [points_assigned_to_cluster2['x'].mean()]\n",
    "  parameters['sig1'] =  [points_assigned_to_cluster1['x'].std()]\n",
    "  parameters['sig2'] =  [points_assigned_to_cluster2['x'].std()] \n",
    "  return parameters"
   ]
  },
  {
   "cell_type": "code",
   "execution_count": 400,
   "metadata": {},
   "outputs": [],
   "source": [
    "# get the distance between points\n",
    "# used for determining if params have converged\n",
    "def distance(old_params, new_params):\n",
    "  dist = 0\n",
    "  for param in ['mu1', 'mu2']:\n",
    "    for i in range(len(old_params)):\n",
    "      dist += (old_params[param][i] - new_params[param][i]) ** 2\n",
    "  return dist ** 0.5"
   ]
  },
  {
   "cell_type": "code",
   "execution_count": 401,
   "metadata": {},
   "outputs": [
    {
     "name": "stderr",
     "output_type": "stream",
     "text": [
      "C:\\Users\\range\\.julia\\conda\\3\\lib\\site-packages\\ipykernel_launcher.py:14: SettingWithCopyWarning: \n",
      "A value is trying to be set on a copy of a slice from a DataFrame\n",
      "\n",
      "See the caveats in the documentation: http://pandas.pydata.org/pandas-docs/stable/indexing.html#indexing-view-versus-copy\n",
      "  \n",
      "C:\\Users\\range\\.julia\\conda\\3\\lib\\site-packages\\ipykernel_launcher.py:12: SettingWithCopyWarning: \n",
      "A value is trying to be set on a copy of a slice from a DataFrame\n",
      "\n",
      "See the caveats in the documentation: http://pandas.pydata.org/pandas-docs/stable/indexing.html#indexing-view-versus-copy\n",
      "  if sys.path[0] == '':\n"
     ]
    },
    {
     "name": "stdout",
     "output_type": "stream",
     "text": [
      "iteration 1, shift 2.0062555288340493\n",
      "        mu1      sig1       mu2      sig2  lambda1  lambda2\n",
      "0  1.002239  4.037605  3.126891  1.350741     0.39     0.61\n",
      "iteration 2, shift 0.26795702815881317\n",
      "        mu1      sig1       mu2      sig2  lambda1  lambda2\n",
      "0  0.738731  4.035254  3.175521  1.434399     0.36     0.64\n",
      "iteration 3, shift 0.3553022854149856\n",
      "        mu1      sig1       mu2     sig2  lambda1  lambda2\n",
      "0  0.383843  4.097023  3.158385  1.57236     0.31     0.69\n",
      "iteration 4, shift 0.48189239654957483\n",
      "        mu1      sig1       mu2      sig2  lambda1  lambda2\n",
      "0 -0.097703  4.077827  3.140107  1.731773     0.26     0.74\n",
      "iteration 5, shift 0.08373207614573462\n",
      "        mu1      sig1       mu2      sig2  lambda1  lambda2\n",
      "0 -0.102875  4.251386  3.056535  1.783516     0.24     0.76\n",
      "iteration 6, shift 0.13553165369051584\n",
      "        mu1      sig1       mu2      sig2  lambda1  lambda2\n",
      "0 -0.064846  4.557677  2.926448  1.868958     0.21     0.79\n",
      "iteration 7, shift 0.17646231551284264\n",
      "        mu1      sig1       mu2      sig2  lambda1  lambda2\n",
      "0  0.049373  4.933623  2.791938  1.961157     0.18     0.82\n",
      "iteration 8, shift 0.22717135859646123\n",
      "        mu1      sig1       mu2      sig2  lambda1  lambda2\n",
      "0 -0.137095  5.325645  2.662183  2.176441     0.13     0.87\n",
      "iteration 9, shift 1.4678480183916414\n",
      "        mu1      sig1      mu2      sig2  lambda1  lambda2\n",
      "0 -1.600427  5.666019  2.54713  2.494743     0.06     0.94\n",
      "iteration 10, shift 4.164630661828108\n",
      "       mu1  sig1       mu2      sig2  lambda1  lambda2\n",
      "0 -5.76169   NaN  2.379691  2.804385     0.01     0.99\n",
      "iteration 11, shift nan\n",
      "   mu1  sig1       mu2      sig2  lambda1  lambda2\n",
      "0  NaN   NaN  2.298277  2.906536      0.0      1.0\n"
     ]
    }
   ],
   "source": [
    "# loop until parameters converge\n",
    "shift = maxsize\n",
    "epsilon = 0.01\n",
    "iters = 0\n",
    "df_copy = df.copy()\n",
    "# randomly assign points to their initial clusters\n",
    "df_copy['label'] = map(lambda x: x+1, np.random.choice(2, len(df)))\n",
    "params = pd.DataFrame(guess)\n",
    "\n",
    "while shift > epsilon:\n",
    "  iters += 1\n",
    "  # E-step\n",
    "  updated_labels = expectation(df_copy.copy(), params)\n",
    "\n",
    "  # M-step\n",
    "  updated_parameters = maximization(updated_labels, params.copy())\n",
    "\n",
    "  # see if our estimates of mu have changed\n",
    "  # could incorporate all params, or overall log-likelihood\n",
    "  shift = distance(params, updated_parameters)\n",
    "\n",
    "  # logging\n",
    "  print(\"iteration {}, shift {}\".format(iters, shift))\n",
    "\n",
    "  # update labels and params for the next iteration\n",
    "  df_copy = updated_labels\n",
    "  params = updated_parameters\n",
    "  print(params)\n",
    "\n",
    "\n",
    "#   fig = plt.figure()\n",
    "#   plt.scatter(df_copy['x'], df_copy['y'], 24, c=df_copy['label'])\n",
    "#   fig.savefig(\"iteration{}.png\".format(iters))"
   ]
  },
  {
   "cell_type": "code",
   "execution_count": 403,
   "metadata": {},
   "outputs": [
    {
     "data": {
      "text/html": [
       "<div>\n",
       "<style scoped>\n",
       "    .dataframe tbody tr th:only-of-type {\n",
       "        vertical-align: middle;\n",
       "    }\n",
       "\n",
       "    .dataframe tbody tr th {\n",
       "        vertical-align: top;\n",
       "    }\n",
       "\n",
       "    .dataframe thead th {\n",
       "        text-align: right;\n",
       "    }\n",
       "</style>\n",
       "<table border=\"1\" class=\"dataframe\">\n",
       "  <thead>\n",
       "    <tr style=\"text-align: right;\">\n",
       "      <th></th>\n",
       "      <th>mu1</th>\n",
       "      <th>sig1</th>\n",
       "      <th>mu2</th>\n",
       "      <th>sig2</th>\n",
       "      <th>lambda1</th>\n",
       "      <th>lambda2</th>\n",
       "    </tr>\n",
       "  </thead>\n",
       "  <tbody>\n",
       "    <tr>\n",
       "      <th>0</th>\n",
       "      <td>4.332953</td>\n",
       "      <td>1.77231</td>\n",
       "      <td>-0.291311</td>\n",
       "      <td>1.782934</td>\n",
       "      <td>0.56</td>\n",
       "      <td>0.44</td>\n",
       "    </tr>\n",
       "  </tbody>\n",
       "</table>\n",
       "</div>"
      ],
      "text/plain": [
       "        mu1     sig1       mu2      sig2  lambda1  lambda2\n",
       "0  4.332953  1.77231 -0.291311  1.782934     0.56     0.44"
      ]
     },
     "execution_count": 403,
     "metadata": {},
     "output_type": "execute_result"
    }
   ],
   "source": [
    "params3"
   ]
  },
  {
   "cell_type": "code",
   "execution_count": 404,
   "metadata": {},
   "outputs": [
    {
     "data": {
      "text/html": [
       "<div>\n",
       "<style scoped>\n",
       "    .dataframe tbody tr th:only-of-type {\n",
       "        vertical-align: middle;\n",
       "    }\n",
       "\n",
       "    .dataframe tbody tr th {\n",
       "        vertical-align: top;\n",
       "    }\n",
       "\n",
       "    .dataframe thead th {\n",
       "        text-align: right;\n",
       "    }\n",
       "</style>\n",
       "<table border=\"1\" class=\"dataframe\">\n",
       "  <thead>\n",
       "    <tr style=\"text-align: right;\">\n",
       "      <th></th>\n",
       "      <th>mu1</th>\n",
       "      <th>sig1</th>\n",
       "      <th>mu2</th>\n",
       "      <th>sig2</th>\n",
       "      <th>lambda1</th>\n",
       "      <th>lambda2</th>\n",
       "    </tr>\n",
       "  </thead>\n",
       "  <tbody>\n",
       "    <tr>\n",
       "      <th>0</th>\n",
       "      <td>4.911437</td>\n",
       "      <td>1.617764</td>\n",
       "      <td>0.326946</td>\n",
       "      <td>1.942414</td>\n",
       "      <td>0.43</td>\n",
       "      <td>0.57</td>\n",
       "    </tr>\n",
       "  </tbody>\n",
       "</table>\n",
       "</div>"
      ],
      "text/plain": [
       "        mu1      sig1       mu2      sig2  lambda1  lambda2\n",
       "0  4.911437  1.617764  0.326946  1.942414     0.43     0.57"
      ]
     },
     "execution_count": 404,
     "metadata": {},
     "output_type": "execute_result"
    }
   ],
   "source": [
    "params2"
   ]
  },
  {
   "cell_type": "code",
   "execution_count": 405,
   "metadata": {},
   "outputs": [
    {
     "data": {
      "text/html": [
       "<div>\n",
       "<style scoped>\n",
       "    .dataframe tbody tr th:only-of-type {\n",
       "        vertical-align: middle;\n",
       "    }\n",
       "\n",
       "    .dataframe tbody tr th {\n",
       "        vertical-align: top;\n",
       "    }\n",
       "\n",
       "    .dataframe thead th {\n",
       "        text-align: right;\n",
       "    }\n",
       "</style>\n",
       "<table border=\"1\" class=\"dataframe\">\n",
       "  <thead>\n",
       "    <tr style=\"text-align: right;\">\n",
       "      <th></th>\n",
       "      <th>mu1</th>\n",
       "      <th>sig1</th>\n",
       "      <th>mu2</th>\n",
       "      <th>sig2</th>\n",
       "      <th>lambda1</th>\n",
       "      <th>lambda2</th>\n",
       "    </tr>\n",
       "  </thead>\n",
       "  <tbody>\n",
       "    <tr>\n",
       "      <th>0</th>\n",
       "      <td>-2.438239</td>\n",
       "      <td>1.308578</td>\n",
       "      <td>3.069337</td>\n",
       "      <td>2.298011</td>\n",
       "      <td>0.14</td>\n",
       "      <td>0.86</td>\n",
       "    </tr>\n",
       "  </tbody>\n",
       "</table>\n",
       "</div>"
      ],
      "text/plain": [
       "        mu1      sig1       mu2      sig2  lambda1  lambda2\n",
       "0 -2.438239  1.308578  3.069337  2.298011     0.14     0.86"
      ]
     },
     "execution_count": 405,
     "metadata": {},
     "output_type": "execute_result"
    }
   ],
   "source": [
    "params1"
   ]
  }
 ],
 "metadata": {
  "kernelspec": {
   "display_name": "Python 3",
   "language": "python",
   "name": "python3"
  },
  "language_info": {
   "codemirror_mode": {
    "name": "ipython",
    "version": 3
   },
   "file_extension": ".py",
   "mimetype": "text/x-python",
   "name": "python",
   "nbconvert_exporter": "python",
   "pygments_lexer": "ipython3",
   "version": "3.6.5"
  }
 },
 "nbformat": 4,
 "nbformat_minor": 2
}
