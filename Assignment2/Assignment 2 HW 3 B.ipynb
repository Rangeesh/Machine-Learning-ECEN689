{
 "cells": [
  {
   "cell_type": "code",
   "execution_count": 1,
   "metadata": {
    "scrolled": true
   },
   "outputs": [],
   "source": [
    "import numpy as np\n",
    "import pandas as pd\n",
    "import random as rand\n",
    "import math\n",
    "import matplotlib.pyplot as plt\n",
    "from scipy.stats import norm\n",
    "from sys import maxsize"
   ]
  },
  {
   "cell_type": "code",
   "execution_count": 2,
   "metadata": {},
   "outputs": [],
   "source": [
    "a=np.loadtxt(open(\"P3b_train_data.csv\", \"rb\"))\n",
    "xs=a[0:100,0]\n",
    "labels=a[0:100,1]\n",
    "data = {'x': xs, 'label': labels}\n",
    "df = pd.DataFrame(data=data)"
   ]
  },
  {
   "cell_type": "code",
   "execution_count": 3,
   "metadata": {},
   "outputs": [],
   "source": [
    "# ### Setup\n",
    "# # set random seed\n",
    "# rand.seed(42)\n",
    "\n",
    "# # 2 clusters\n",
    "# # not that both covariance matrices are diagonal\n",
    "# mu1 = [0, 5]\n",
    "# sig1 = [ [2, 0], [0, 3] ]\n",
    "\n",
    "# mu2 = [5, 0]\n",
    "# sig2 = [ [4, 0], [0, 1] ]"
   ]
  },
  {
   "cell_type": "code",
   "execution_count": 4,
   "metadata": {},
   "outputs": [],
   "source": [
    "# # generate samples\n",
    "# x1, y1 = np.random.multivariate_normal(mu1, sig1, 100).T\n",
    "# x2, y2 = np.random.multivariate_normal(mu2, sig2, 100).T\n",
    "\n",
    "# xs = np.concatenate((x1, x2))\n",
    "# ys = np.concatenate((y1, y2))\n",
    "# labels = ([1] * 100) + ([2] * 100)\n",
    "\n",
    "# data = {'x': xs, 'y': ys, 'label': labels}\n",
    "# df = pd.DataFrame(data=data)"
   ]
  },
  {
   "cell_type": "code",
   "execution_count": 5,
   "metadata": {
    "scrolled": true
   },
   "outputs": [],
   "source": [
    "# # inspect the data\n",
    "# df.head()\n",
    "# df.tail()\n",
    "\n",
    "# fig = plt.figure()\n",
    "# plt.scatter(data['x'], data['y'], 24, c=data['label'])\n",
    "# fig.savefig(\"true-values.png\")"
   ]
  },
  {
   "cell_type": "code",
   "execution_count": 6,
   "metadata": {},
   "outputs": [],
   "source": [
    "### Expectation-maximization\n",
    "\n",
    "# initial guesses - intentionally bad\n",
    "guess = { 'mu1': [-1],\n",
    "          'sig1': [2] ,\n",
    "          'mu2': [5],\n",
    "          'sig2': [2],\n",
    "          'lambda1': [0.6],\n",
    "          'lambda2': [0.4]\n",
    "        }"
   ]
  },
  {
   "cell_type": "code",
   "execution_count": 7,
   "metadata": {},
   "outputs": [],
   "source": [
    "# probability that a point came from a Guassian with given parameters\n",
    "# note that the covariance must be diagonal for this to work\n",
    "def prob(val, mu, sig, lam):\n",
    "  p =lam* norm.pdf(val, mu, sig)\n",
    "  return p"
   ]
  },
  {
   "cell_type": "code",
   "execution_count": 8,
   "metadata": {},
   "outputs": [
    {
     "data": {
      "text/plain": [
       "0.503177636923991"
      ]
     },
     "execution_count": 8,
     "metadata": {},
     "output_type": "execute_result"
    }
   ],
   "source": [
    "prob(1,2,3,4)"
   ]
  },
  {
   "cell_type": "markdown",
   "metadata": {},
   "source": [
    "#  Expectation"
   ]
  },
  {
   "cell_type": "code",
   "execution_count": 9,
   "metadata": {},
   "outputs": [],
   "source": [
    "## assign every data point to its most likely cluster\n",
    "# Classification\n",
    "def expectation(dataFrame, parameters):\n",
    "  for i in range(dataFrame.shape[0]):\n",
    "    x = dataFrame['x'][i]\n",
    "    #y = dataFrame['y'][i]\n",
    "    #print( i , '\\n')\n",
    "    p_cluster1 = prob(x, parameters['mu1'][0], parameters['sig1'][0], parameters['lambda1'][0])\n",
    "    p_cluster1\n",
    "    p_cluster2 = prob(x, parameters['mu2'][0], parameters['sig2'][0], parameters['lambda2'][0])\n",
    "    if p_cluster1 > p_cluster2:\n",
    "      dataFrame['label'][i] = 1\n",
    "    else:\n",
    "      dataFrame['label'][i] = 2\n",
    "  return dataFrame"
   ]
  },
  {
   "cell_type": "code",
   "execution_count": 10,
   "metadata": {},
   "outputs": [
    {
     "data": {
      "text/plain": [
       "1.0"
      ]
     },
     "execution_count": 10,
     "metadata": {},
     "output_type": "execute_result"
    }
   ],
   "source": [
    "norm.pdf(2,2,pow(2*math.pi,-0.5))"
   ]
  },
  {
   "cell_type": "markdown",
   "metadata": {},
   "source": [
    "# Maximization"
   ]
  },
  {
   "cell_type": "code",
   "execution_count": 11,
   "metadata": {},
   "outputs": [],
   "source": [
    "# update estimates of lambda, mu and sigma\n",
    "\n",
    "def maximization(dataFrame, parameters):\n",
    "  points_assigned_to_cluster1 = dataFrame[dataFrame['label'] == 1]\n",
    "  points_assigned_to_cluster2 = dataFrame[dataFrame['label'] == 2]\n",
    "  percent_assigned_to_cluster1 = len(points_assigned_to_cluster1) / float(len(dataFrame))\n",
    "  percent_assigned_to_cluster2 = 1 - percent_assigned_to_cluster1\n",
    "  parameters['lambda1'] = [percent_assigned_to_cluster1]\n",
    "  parameters['lambda2'] = [percent_assigned_to_cluster2]\n",
    "  parameters['mu1'] = [points_assigned_to_cluster1['x'].mean()]\n",
    "  parameters['mu2'] = [points_assigned_to_cluster2['x'].mean()]\n",
    "  parameters['sig1'] =  [points_assigned_to_cluster1['x'].std()]\n",
    "  parameters['sig2'] =  [points_assigned_to_cluster2['x'].std()] \n",
    "  return parameters"
   ]
  },
  {
   "cell_type": "code",
   "execution_count": 12,
   "metadata": {},
   "outputs": [],
   "source": [
    "# get the distance between points\n",
    "# used for determining if params have converged\n",
    "def distance(old_params, new_params):\n",
    "  dist = 0\n",
    "  for param in ['mu1', 'mu2']:\n",
    "    for i in range(len(old_params)):\n",
    "      dist += (old_params[param][i] - new_params[param][i]) ** 2\n",
    "  return dist ** 0.5"
   ]
  },
  {
   "cell_type": "code",
   "execution_count": 13,
   "metadata": {},
   "outputs": [
    {
     "name": "stderr",
     "output_type": "stream",
     "text": [
      "C:\\Users\\range\\.julia\\conda\\3\\lib\\site-packages\\ipykernel_launcher.py:12: SettingWithCopyWarning: \n",
      "A value is trying to be set on a copy of a slice from a DataFrame\n",
      "\n",
      "See the caveats in the documentation: http://pandas.pydata.org/pandas-docs/stable/indexing.html#indexing-view-versus-copy\n",
      "  if sys.path[0] == '':\n",
      "C:\\Users\\range\\.julia\\conda\\3\\lib\\site-packages\\ipykernel_launcher.py:14: SettingWithCopyWarning: \n",
      "A value is trying to be set on a copy of a slice from a DataFrame\n",
      "\n",
      "See the caveats in the documentation: http://pandas.pydata.org/pandas-docs/stable/indexing.html#indexing-view-versus-copy\n",
      "  \n"
     ]
    },
    {
     "name": "stdout",
     "output_type": "stream",
     "text": [
      "iteration 1, shift 2.652543167015592\n",
      "        mu1      sig1       mu2      sig2  lambda1  lambda2\n",
      "0 -0.021017  1.331231  7.465274  2.350548      0.4      0.6\n",
      "iteration 2, shift 0.20937561621856404\n",
      "        mu1      sig1       mu2      sig2  lambda1  lambda2\n",
      "0  0.110546  1.428409  7.628152  2.215648     0.42     0.58\n",
      "iteration 3, shift 0.10538414229072439\n",
      "        mu1      sig1       mu2      sig2  lambda1  lambda2\n",
      "0  0.177544  1.478103  7.709498  2.146186     0.43     0.57\n",
      "iteration 4, shift 0.0\n",
      "        mu1      sig1       mu2      sig2  lambda1  lambda2\n",
      "0  0.177544  1.478103  7.709498  2.146186     0.43     0.57\n"
     ]
    }
   ],
   "source": [
    "# loop until parameters converge\n",
    "shift = maxsize\n",
    "epsilon = 0.01\n",
    "iters = 0\n",
    "df_copy = df.copy()\n",
    "# randomly assign points to their initial clusters\n",
    "df_copy['label'] = map(lambda x: x+1, np.random.choice(2, len(df)))\n",
    "params = pd.DataFrame(guess)\n",
    "\n",
    "while shift > epsilon:\n",
    "  iters += 1\n",
    "  # E-step\n",
    "  updated_labels = expectation(df_copy.copy(), params)\n",
    "\n",
    "  # M-step\n",
    "  updated_parameters = maximization(updated_labels, params.copy())\n",
    "\n",
    "  # see if our estimates of mu have changed\n",
    "  # could incorporate all params, or overall log-likelihood\n",
    "  shift = distance(params, updated_parameters)\n",
    "\n",
    "  # logging\n",
    "  print(\"iteration {}, shift {}\".format(iters, shift))\n",
    "\n",
    "  # update labels and params for the next iteration\n",
    "  df_copy = updated_labels\n",
    "  params = updated_parameters\n",
    "  print(params)\n",
    "\n",
    "\n",
    "#   fig = plt.figure()\n",
    "#   plt.scatter(df_copy['x'], df_copy['y'], 24, c=df_copy['label'])\n",
    "#   fig.savefig(\"iteration{}.png\".format(iters))"
   ]
  },
  {
   "cell_type": "code",
   "execution_count": 14,
   "metadata": {},
   "outputs": [
    {
     "ename": "NameError",
     "evalue": "name 'params3' is not defined",
     "output_type": "error",
     "traceback": [
      "\u001b[1;31m---------------------------------------------------------------------------\u001b[0m",
      "\u001b[1;31mNameError\u001b[0m                                 Traceback (most recent call last)",
      "\u001b[1;32m<ipython-input-14-ca0de12ed8dc>\u001b[0m in \u001b[0;36m<module>\u001b[1;34m\u001b[0m\n\u001b[1;32m----> 1\u001b[1;33m \u001b[0mparams3\u001b[0m\u001b[1;33m\u001b[0m\u001b[0m\n\u001b[0m",
      "\u001b[1;31mNameError\u001b[0m: name 'params3' is not defined"
     ]
    }
   ],
   "source": [
    "params3"
   ]
  },
  {
   "cell_type": "code",
   "execution_count": null,
   "metadata": {},
   "outputs": [],
   "source": [
    "params2"
   ]
  },
  {
   "cell_type": "code",
   "execution_count": null,
   "metadata": {},
   "outputs": [],
   "source": [
    "params1"
   ]
  }
 ],
 "metadata": {
  "kernelspec": {
   "display_name": "Python 3",
   "language": "python",
   "name": "python3"
  },
  "language_info": {
   "codemirror_mode": {
    "name": "ipython",
    "version": 3
   },
   "file_extension": ".py",
   "mimetype": "text/x-python",
   "name": "python",
   "nbconvert_exporter": "python",
   "pygments_lexer": "ipython3",
   "version": "3.6.5"
  }
 },
 "nbformat": 4,
 "nbformat_minor": 2
}
