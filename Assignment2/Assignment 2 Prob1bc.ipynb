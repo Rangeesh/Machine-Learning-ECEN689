{
 "cells": [
  {
   "cell_type": "code",
   "execution_count": 661,
   "metadata": {
    "scrolled": true
   },
   "outputs": [],
   "source": [
    "import numpy as np\n",
    "import pandas as pd\n",
    "import random \n",
    "import matplotlib.pyplot as plt\n",
    "from scipy.stats import norm\n",
    "from sys import maxsize\n",
    "import math"
   ]
  },
  {
   "cell_type": "code",
   "execution_count": 704,
   "metadata": {},
   "outputs": [
    {
     "data": {
      "text/plain": [
       "(200, 2)"
      ]
     },
     "execution_count": 704,
     "metadata": {},
     "output_type": "execute_result"
    }
   ],
   "source": [
    "#a=np.loadtxt(open(\"P1b_train_data_2D.csv\", \"rb\"), delimiter=\",\")\n",
    "a=np.loadtxt(open(\"P1b_train_data_2D.csv\", \"rb\"), delimiter=\",\")\n",
    "X=a[:,0:2]\n",
    "X.shape"
   ]
  },
  {
   "cell_type": "code",
   "execution_count": 663,
   "metadata": {},
   "outputs": [],
   "source": [
    "a=np.loadtxt(open(\"P1b_train_data_2D.csv\", \"rb\"), delimiter=\",\")\n",
    "xs=a[:,0]\n",
    "ys=a[:,1]\n",
    "labels=a[:,2]\n",
    "data = {'x': xs, 'y': ys, 'label': labels}\n",
    "df = pd.DataFrame(data=data)"
   ]
  },
  {
   "cell_type": "code",
   "execution_count": 664,
   "metadata": {},
   "outputs": [],
   "source": [
    "#Random Sampling\n"
   ]
  },
  {
   "cell_type": "code",
   "execution_count": 665,
   "metadata": {},
   "outputs": [],
   "source": [
    "# ### Setup\n",
    "# # set random seed\n",
    "# rand.seed(42)\n",
    "\n",
    "# # 2 clusters\n",
    "# # not that both covariance matrices are diagonal\n",
    "# mu1 = [0, 5]\n",
    "# sig1 = [ [2, 0], [0, 3] ]\n",
    "\n",
    "# mu2 = [5, 0]\n",
    "# sig2 = [ [4, 0], [0, 1] ]"
   ]
  },
  {
   "cell_type": "code",
   "execution_count": 666,
   "metadata": {},
   "outputs": [],
   "source": [
    "# # generate samples\n",
    "# x1, y1 = np.random.multivariate_normal(mu1, sig1, 100).T\n",
    "# x2, y2 = np.random.multivariate_normal(mu2, sig2, 100).T\n",
    "\n",
    "# xs = np.concatenate((x1, x2))\n",
    "# ys = np.concatenate((y1, y2))\n",
    "# labels = ([1] * 100) + ([2] * 100)\n",
    "\n",
    "# data = {'x': xs, 'y': ys, 'label': labels}\n",
    "# df = pd.DataFrame(data=data)"
   ]
  },
  {
   "cell_type": "code",
   "execution_count": 667,
   "metadata": {
    "scrolled": true
   },
   "outputs": [],
   "source": [
    "# # inspect the data\n",
    "# df.head()\n",
    "# df.tail()\n",
    "\n",
    "# fig = plt.figure()\n",
    "# plt.scatter(data['x'], data['y'], 24, c=data['label'])\n",
    "# fig.savefig(\"true-values.png\")"
   ]
  },
  {
   "cell_type": "code",
   "execution_count": 668,
   "metadata": {},
   "outputs": [],
   "source": [
    "### Expectation-maximization\n",
    "\n",
    "# initial guesses - intentionally bad\n",
    "guess = { 'mu1': [-1,-1],\n",
    "          'sig1': [ [1.5, 0.5], [0.5, 1.5] ],\n",
    "          'mu2': [5,3],\n",
    "          'sig2': [ [2, 0], [0, 2] ],\n",
    "          'lambda': [0.4, 0.6]\n",
    "        }"
   ]
  },
  {
   "cell_type": "code",
   "execution_count": 669,
   "metadata": {
    "scrolled": true
   },
   "outputs": [
    {
     "data": {
      "text/plain": [
       "array([list([1.5, 0.5]), list([0.5, 1.5])], dtype=object)"
      ]
     },
     "execution_count": 669,
     "metadata": {},
     "output_type": "execute_result"
    }
   ],
   "source": [
    "pq=pd.DataFrame(guess)\n",
    "np.array(pq['sig1'])"
   ]
  },
  {
   "cell_type": "code",
   "execution_count": 670,
   "metadata": {
    "scrolled": false
   },
   "outputs": [],
   "source": [
    "# type(np.asarray([[parameters['sig1'][0][0],parameters['sig1'][0][1]], [parameters['sig1'][1][0],parameters['sig1'][1][1]]]))"
   ]
  },
  {
   "cell_type": "code",
   "execution_count": 671,
   "metadata": {},
   "outputs": [],
   "source": [
    "# probability that a point came from a Guassian with given parameters\n",
    "# note that the covariance must be diagonal for this to work\n",
    "def prob(X_test, mean, var, lam):\n",
    "    p =lam* pow(pow(2*math.pi,2)*np.linalg.det(var),-0.5)*pow(math.e,-0.5*np.matmul(np.matmul(X_test - mean,np.linalg.inv(var)),np.transpose(X_test - mean)))\n",
    "    #print(p)\n",
    "    return p"
   ]
  },
  {
   "cell_type": "code",
   "execution_count": 672,
   "metadata": {},
   "outputs": [],
   "source": [
    "# assign every data point to its most likely cluster\n",
    "# Classification\n",
    "def expectation(dataFrame, parameters):\n",
    "  for i in range(dataFrame.shape[0]):\n",
    "    x = dataFrame['x'][i]\n",
    "    y = dataFrame['y'][i]\n",
    "    np.array([x,y])\n",
    "    np.array([parameters['mu1'][0],parameters['mu1'][1]])\n",
    "    np.array(parameters['lambda'][0])\n",
    "    np.array([[parameters['sig1'][0][0],parameters['sig1'][0][1]], [parameters['sig1'][1][0],parameters['sig1'][1][1]]])\n",
    "    \n",
    "    p_cluster1 = prob(np.array([x,y]), np.array([parameters['mu1'][0],parameters['mu1'][1]]) , np.array([[parameters['sig1'][0][0],parameters['sig1'][0][1]], [parameters['sig1'][1][0],parameters['sig1'][1][1]]]), np.array(parameters['lambda'][0]) )\n",
    "    p_cluster2 = prob(np.array([x,y]), [parameters['mu2'][0],parameters['mu2'][1]] ,np.array([[parameters['sig2'][0][0],parameters['sig2'][0][1]], [parameters['sig2'][1][0],parameters['sig2'][1][1]]]), parameters['lambda'][1] )\n",
    "    if p_cluster1 > p_cluster2:\n",
    "      dataFrame['label'][i] = 1\n",
    "    else:\n",
    "      dataFrame['label'][i] = 2\n",
    "  return dataFrame"
   ]
  },
  {
   "cell_type": "code",
   "execution_count": 673,
   "metadata": {},
   "outputs": [],
   "source": [
    "# update estimates of lambda, mu and sigma\n",
    "\n",
    "def maximization(dataFrame, parameters):\n",
    "  points_assigned_to_cluster1 = dataFrame[dataFrame['label'] == 1]\n",
    "  #print('points_assigned_to_cluster1', points_assigned_to_cluster1)\n",
    "  points_assigned_to_cluster2 = dataFrame[dataFrame['label'] == 2]\n",
    "  #print('points_assigned_to_cluster2', points_assigned_to_cluster2)\n",
    "  percent_assigned_to_cluster1 = len(points_assigned_to_cluster1) / float(len(dataFrame))\n",
    "  percent_assigned_to_cluster2 = 1 - percent_assigned_to_cluster1\n",
    "  parameters['lambda'] = [percent_assigned_to_cluster1, percent_assigned_to_cluster2 ]\n",
    "  parameters['mu1'] = [points_assigned_to_cluster1['x'].mean(), points_assigned_to_cluster1['y'].mean()]\n",
    "  #print(\"parameters['mu1']\",parameters['mu1'])  \n",
    "  parameters['mu2'] = [points_assigned_to_cluster2['x'].mean(), points_assigned_to_cluster2['y'].mean()]\n",
    "  parameters['sig1'] = np.cov(points_assigned_to_cluster1['x'],points_assigned_to_cluster1['y']).tolist()\n",
    "  #print(\"points_assigned_to_cluster1['x']\\n\")\n",
    "  #print(\"parameters['sig1']\\n\",parameters['sig1']) \n",
    "  parameters['sig2'] = np.cov(points_assigned_to_cluster2['x'],points_assigned_to_cluster2['y']).tolist() \n",
    "  return parameters,points_assigned_to_cluster1['x'],points_assigned_to_cluster1['y']"
   ]
  },
  {
   "cell_type": "code",
   "execution_count": 674,
   "metadata": {},
   "outputs": [],
   "source": [
    "# get the distance between points\n",
    "# used for determining if params have converged\n",
    "def distance(old_params, new_params):\n",
    "  dist = 0\n",
    "  for param in ['mu1', 'mu2']:\n",
    "    for i in range(len(old_params)):\n",
    "      dist += (old_params[param][i] - new_params[param][i]) ** 2\n",
    "  return dist ** 0.5"
   ]
  },
  {
   "cell_type": "code",
   "execution_count": 675,
   "metadata": {
    "scrolled": true
   },
   "outputs": [
    {
     "name": "stderr",
     "output_type": "stream",
     "text": [
      "C:\\Users\\range\\.julia\\conda\\3\\lib\\site-packages\\ipykernel_launcher.py:15: SettingWithCopyWarning: \n",
      "A value is trying to be set on a copy of a slice from a DataFrame\n",
      "\n",
      "See the caveats in the documentation: http://pandas.pydata.org/pandas-docs/stable/indexing.html#indexing-view-versus-copy\n",
      "  from ipykernel import kernelapp as app\n",
      "C:\\Users\\range\\.julia\\conda\\3\\lib\\site-packages\\ipykernel_launcher.py:17: SettingWithCopyWarning: \n",
      "A value is trying to be set on a copy of a slice from a DataFrame\n",
      "\n",
      "See the caveats in the documentation: http://pandas.pydata.org/pandas-docs/stable/indexing.html#indexing-view-versus-copy\n"
     ]
    },
    {
     "name": "stdout",
     "output_type": "stream",
     "text": [
      "iteration 1, shift 2.426806809751528\n",
      "        mu1                                      sig1       mu2  \\\n",
      "0 -0.045485   [1.025231650381864, 0.3620614113928044]  2.996989   \n",
      "1 -0.092037  [0.3620614113928044, 0.9214867173995376]  3.376620   \n",
      "\n",
      "                                         sig2  lambda  \n",
      "0  [0.9537728997835376, -0.14952339315278593]    0.49  \n",
      "1  [-0.14952339315278593, 2.5091563507008336]    0.51  \n",
      "iteration 2, shift 0.08647745466027754\n",
      "        mu1                                       sig1       mu2  \\\n",
      "0 -0.086675  [0.9297345722105262, 0.43999921305263173]  2.976502   \n",
      "1 -0.085308  [0.43999921305263173, 0.8565601765614033]  3.303704   \n",
      "\n",
      "                                         sig2  lambda  \n",
      "0  [0.9873688475690808, -0.12189106117251675]    0.48  \n",
      "1   [-0.12189106117251675, 2.809928645421958]    0.52  \n",
      "iteration 3, shift 0.0\n",
      "        mu1                                       sig1       mu2  \\\n",
      "0 -0.086675  [0.9297345722105262, 0.43999921305263173]  2.976502   \n",
      "1 -0.085308  [0.43999921305263173, 0.8565601765614033]  3.303704   \n",
      "\n",
      "                                         sig2  lambda  \n",
      "0  [0.9873688475690808, -0.12189106117251675]    0.48  \n",
      "1   [-0.12189106117251675, 2.809928645421958]    0.52  \n"
     ]
    }
   ],
   "source": [
    "# loop until parameters converge\n",
    "shift = maxsize\n",
    "epsilon = 0.01\n",
    "iters = 0\n",
    "df_copy = df.copy()\n",
    "# randomly assign points to their initial clusters\n",
    "df_copy['label'] = map(lambda x: x+1, np.random.choice(2, len(df)))\n",
    "params = pd.DataFrame(guess)\n",
    "\n",
    "while shift > epsilon:\n",
    "  iters += 1\n",
    "  # E-step\n",
    "  updated_labels = expectation(df_copy.copy(), params)\n",
    "\n",
    "  # M-step\n",
    "  updated_parameters,xx,yy = maximization(updated_labels, params.copy())\n",
    "\n",
    "  # see if our estimates of mu have changed\n",
    "  # could incorporate all params, or overall log-likelihood\n",
    "  shift = distance(params, updated_parameters)\n",
    "\n",
    "  # logging\n",
    "  print(\"iteration {}, shift {}\".format(iters, shift))\n",
    "  #print(345)\n",
    "\n",
    "  # update labels and params for the next iteration\n",
    "  df_copy = updated_labels\n",
    "  #print(4)\n",
    "  params = updated_parameters\n",
    "  print(params)\n",
    "  #print(5)\n",
    "  params\n",
    "  #print(4)\n",
    "\n",
    "#   fig = plt.figure()\n",
    "#   plt.scatter(df_copy['x'], df_copy['y'], 24, c=df_copy['label'])\n",
    "#   fig.savefig(\"iteration{}.png\".format(iters))"
   ]
  },
  {
   "cell_type": "markdown",
   "metadata": {},
   "source": [
    "# Testing"
   ]
  },
  {
   "cell_type": "code",
   "execution_count": 676,
   "metadata": {
    "scrolled": true
   },
   "outputs": [
    {
     "data": {
      "text/html": [
       "<div>\n",
       "<style scoped>\n",
       "    .dataframe tbody tr th:only-of-type {\n",
       "        vertical-align: middle;\n",
       "    }\n",
       "\n",
       "    .dataframe tbody tr th {\n",
       "        vertical-align: top;\n",
       "    }\n",
       "\n",
       "    .dataframe thead th {\n",
       "        text-align: right;\n",
       "    }\n",
       "</style>\n",
       "<table border=\"1\" class=\"dataframe\">\n",
       "  <thead>\n",
       "    <tr style=\"text-align: right;\">\n",
       "      <th></th>\n",
       "      <th>mu1</th>\n",
       "      <th>sig1</th>\n",
       "      <th>mu2</th>\n",
       "      <th>sig2</th>\n",
       "      <th>lambda</th>\n",
       "    </tr>\n",
       "  </thead>\n",
       "  <tbody>\n",
       "    <tr>\n",
       "      <th>0</th>\n",
       "      <td>-0.086675</td>\n",
       "      <td>[0.9297345722105262, 0.43999921305263173]</td>\n",
       "      <td>2.976502</td>\n",
       "      <td>[0.9873688475690808, -0.12189106117251675]</td>\n",
       "      <td>0.48</td>\n",
       "    </tr>\n",
       "    <tr>\n",
       "      <th>1</th>\n",
       "      <td>-0.085308</td>\n",
       "      <td>[0.43999921305263173, 0.8565601765614033]</td>\n",
       "      <td>3.303704</td>\n",
       "      <td>[-0.12189106117251675, 2.809928645421958]</td>\n",
       "      <td>0.52</td>\n",
       "    </tr>\n",
       "  </tbody>\n",
       "</table>\n",
       "</div>"
      ],
      "text/plain": [
       "        mu1                                       sig1       mu2  \\\n",
       "0 -0.086675  [0.9297345722105262, 0.43999921305263173]  2.976502   \n",
       "1 -0.085308  [0.43999921305263173, 0.8565601765614033]  3.303704   \n",
       "\n",
       "                                         sig2  lambda  \n",
       "0  [0.9873688475690808, -0.12189106117251675]    0.48  \n",
       "1   [-0.12189106117251675, 2.809928645421958]    0.52  "
      ]
     },
     "execution_count": 676,
     "metadata": {},
     "output_type": "execute_result"
    }
   ],
   "source": [
    "params"
   ]
  },
  {
   "cell_type": "code",
   "execution_count": 677,
   "metadata": {
    "scrolled": true
   },
   "outputs": [
    {
     "data": {
      "text/plain": [
       "[[0.9297345722105262, 0.43999921305263173],\n",
       " [0.43999921305263173, 0.8565601765614033]]"
      ]
     },
     "execution_count": 677,
     "metadata": {},
     "output_type": "execute_result"
    }
   ],
   "source": [
    "np.cov(xx,yy).tolist()"
   ]
  },
  {
   "cell_type": "code",
   "execution_count": 678,
   "metadata": {},
   "outputs": [
    {
     "data": {
      "text/plain": [
       "[[2, 0], [0, 2]]"
      ]
     },
     "execution_count": 678,
     "metadata": {},
     "output_type": "execute_result"
    }
   ],
   "source": [
    "abc=pd.DataFrame(guess)\n",
    "np.matrix(abc['sig1'])\n",
    "type([abc['sig2'][0],abc['sig2'][1]])\n",
    "[abc['sig2'][0],abc['sig2'][1]]"
   ]
  },
  {
   "cell_type": "code",
   "execution_count": 679,
   "metadata": {},
   "outputs": [
    {
     "data": {
      "text/plain": [
       "[[2, 0], [0, 2]]"
      ]
     },
     "execution_count": 679,
     "metadata": {},
     "output_type": "execute_result"
    }
   ],
   "source": [
    "guess['sig2']"
   ]
  },
  {
   "cell_type": "code",
   "execution_count": 680,
   "metadata": {},
   "outputs": [
    {
     "data": {
      "text/plain": [
       "0    [0.9297345722105262, 0.43999921305263173]\n",
       "1    [0.43999921305263173, 0.8565601765614033]\n",
       "Name: sig1, dtype: object"
      ]
     },
     "execution_count": 680,
     "metadata": {},
     "output_type": "execute_result"
    }
   ],
   "source": [
    "params['sig1']"
   ]
  },
  {
   "cell_type": "code",
   "execution_count": 681,
   "metadata": {},
   "outputs": [
    {
     "data": {
      "text/plain": [
       "array([[0.92973457, 0.43999921],\n",
       "       [0.43999921, 0.85656018]])"
      ]
     },
     "execution_count": 681,
     "metadata": {},
     "output_type": "execute_result"
    }
   ],
   "source": [
    "np.array([params['sig1'][0],params['sig1'][1]])"
   ]
  },
  {
   "cell_type": "code",
   "execution_count": 682,
   "metadata": {
    "scrolled": true
   },
   "outputs": [
    {
     "data": {
      "text/plain": [
       "list"
      ]
     },
     "execution_count": 682,
     "metadata": {},
     "output_type": "execute_result"
    }
   ],
   "source": [
    "type([[2,3],[4,5]])"
   ]
  },
  {
   "cell_type": "code",
   "execution_count": 683,
   "metadata": {},
   "outputs": [],
   "source": [
    "lam=0.5\n",
    "var=np.array([[2,3],[4,5]])\n",
    "mean=np.array([6,5])\n",
    "X_test=np.array([5,6])\n"
   ]
  },
  {
   "cell_type": "code",
   "execution_count": 684,
   "metadata": {},
   "outputs": [
    {
     "data": {
      "text/plain": [
       "128.0"
      ]
     },
     "execution_count": 684,
     "metadata": {},
     "output_type": "execute_result"
    }
   ],
   "source": [
    "X_test-mean\n",
    "np.linalg.inv(var)\n",
    "np.matmul(X_test - mean,np.linalg.inv(var))\n",
    "np.transpose(X_test - mean)\n",
    "pow(0.5,np.matmul(np.matmul(X_test - mean,np.linalg.inv(var)),np.transpose(X_test - mean)))"
   ]
  },
  {
   "cell_type": "code",
   "execution_count": 685,
   "metadata": {},
   "outputs": [
    {
     "name": "stderr",
     "output_type": "stream",
     "text": [
      "C:\\Users\\range\\.julia\\conda\\3\\lib\\site-packages\\ipykernel_launcher.py:1: RuntimeWarning: invalid value encountered in double_scalars\n",
      "  \"\"\"Entry point for launching an IPython kernel.\n"
     ]
    }
   ],
   "source": [
    "p =lam* pow(pow(2*math.pi,2)*np.linalg.det(var),-0.5)*pow(math.e,-0.5*np.matmul(np.matmul(X_test - mean,np.linalg.inv(var)),np.transpose(X_test - mean)))\n",
    "    "
   ]
  },
  {
   "cell_type": "code",
   "execution_count": 686,
   "metadata": {},
   "outputs": [
    {
     "data": {
      "text/plain": [
       "array([list([0.9297345722105262, 0.43999921305263173]),\n",
       "       list([0.43999921305263173, 0.8565601765614033])], dtype=object)"
      ]
     },
     "execution_count": 686,
     "metadata": {},
     "output_type": "execute_result"
    }
   ],
   "source": [
    "np.array(params['sig1'])"
   ]
  },
  {
   "cell_type": "code",
   "execution_count": 687,
   "metadata": {
    "scrolled": true
   },
   "outputs": [
    {
     "data": {
      "text/plain": [
       "array([[0.92973457, 0.43999921],\n",
       "       [0.43999921, 0.85656018]])"
      ]
     },
     "execution_count": 687,
     "metadata": {},
     "output_type": "execute_result"
    }
   ],
   "source": [
    "np.array([[params['sig1'][0][0],params['sig1'][0][1]], [params['sig1'][1][0],params['sig1'][1][1]]])\n",
    "   "
   ]
  },
  {
   "cell_type": "markdown",
   "metadata": {},
   "source": [
    "# EM Bayes Classifier"
   ]
  },
  {
   "cell_type": "code",
   "execution_count": 688,
   "metadata": {
    "scrolled": true
   },
   "outputs": [
    {
     "data": {
      "text/html": [
       "<div>\n",
       "<style scoped>\n",
       "    .dataframe tbody tr th:only-of-type {\n",
       "        vertical-align: middle;\n",
       "    }\n",
       "\n",
       "    .dataframe tbody tr th {\n",
       "        vertical-align: top;\n",
       "    }\n",
       "\n",
       "    .dataframe thead th {\n",
       "        text-align: right;\n",
       "    }\n",
       "</style>\n",
       "<table border=\"1\" class=\"dataframe\">\n",
       "  <thead>\n",
       "    <tr style=\"text-align: right;\">\n",
       "      <th></th>\n",
       "      <th>mu1</th>\n",
       "      <th>sig1</th>\n",
       "      <th>mu2</th>\n",
       "      <th>sig2</th>\n",
       "      <th>lambda</th>\n",
       "    </tr>\n",
       "  </thead>\n",
       "  <tbody>\n",
       "    <tr>\n",
       "      <th>0</th>\n",
       "      <td>-0.086675</td>\n",
       "      <td>[0.9297345722105262, 0.43999921305263173]</td>\n",
       "      <td>2.976502</td>\n",
       "      <td>[0.9873688475690808, -0.12189106117251675]</td>\n",
       "      <td>0.48</td>\n",
       "    </tr>\n",
       "    <tr>\n",
       "      <th>1</th>\n",
       "      <td>-0.085308</td>\n",
       "      <td>[0.43999921305263173, 0.8565601765614033]</td>\n",
       "      <td>3.303704</td>\n",
       "      <td>[-0.12189106117251675, 2.809928645421958]</td>\n",
       "      <td>0.52</td>\n",
       "    </tr>\n",
       "  </tbody>\n",
       "</table>\n",
       "</div>"
      ],
      "text/plain": [
       "        mu1                                       sig1       mu2  \\\n",
       "0 -0.086675  [0.9297345722105262, 0.43999921305263173]  2.976502   \n",
       "1 -0.085308  [0.43999921305263173, 0.8565601765614033]  3.303704   \n",
       "\n",
       "                                         sig2  lambda  \n",
       "0  [0.9873688475690808, -0.12189106117251675]    0.48  \n",
       "1   [-0.12189106117251675, 2.809928645421958]    0.52  "
      ]
     },
     "execution_count": 688,
     "metadata": {},
     "output_type": "execute_result"
    }
   ],
   "source": [
    "params"
   ]
  },
  {
   "cell_type": "code",
   "execution_count": 724,
   "metadata": {},
   "outputs": [
    {
     "data": {
      "text/plain": [
       "97.5"
      ]
     },
     "execution_count": 724,
     "metadata": {},
     "output_type": "execute_result"
    }
   ],
   "source": [
    "b_scre=0\n",
    "atest=np.loadtxt(open(\"P1b_test_data_2D.csv\", \"rb\"), delimiter=\",\")\n",
    "\n",
    "for j in range(200):\n",
    "    \n",
    "    X_test=atest[j,0:2] ##\n",
    "    Y_test=atest[j,2] ##\n",
    "    f1 = prob(X_test, np.array([params['mu1'][0],params['mu1'][1]]) , np.array([[params['sig1'][0][0],params['sig1'][0][1]], [params['sig1'][1][0],params['sig1'][1][1]]]),1)\n",
    "    f_1 = prob(X_test, np.array([params['mu2'][0],params['mu2'][1]]) , np.array([[params['sig2'][0][0],params['sig2'][0][1]], [params['sig2'][1][0],params['sig2'][1][1]]]), 1) \n",
    "    if f1>f_1:\n",
    "        b_clss=1\n",
    "    else:\n",
    "        b_clss=-1\n",
    "    if Y_test==b_clss:\n",
    "        b_scre=b_scre+1\n",
    "b_scre/len(X_test)"
   ]
  },
  {
   "cell_type": "code",
   "execution_count": null,
   "metadata": {},
   "outputs": [],
   "source": []
  },
  {
   "cell_type": "markdown",
   "metadata": {},
   "source": [
    "# Bayes Classifier"
   ]
  },
  {
   "cell_type": "code",
   "execution_count": 718,
   "metadata": {},
   "outputs": [
    {
     "data": {
      "text/plain": [
       "97.5"
      ]
     },
     "execution_count": 718,
     "metadata": {},
     "output_type": "execute_result"
    }
   ],
   "source": [
    "b_scre=0\n",
    "a=np.loadtxt(open(\"P1b_train_data_2D.csv\", \"rb\"), delimiter=\",\")\n",
    "atest=np.loadtxt(open(\"P1b_test_data_2D.csv\", \"rb\"), delimiter=\",\")\n",
    "X_mean1 = np.mean(a[0:100,0:2],axis=0)\n",
    "X_mean2 = np.mean(a[100:200,0:2],axis=0)\n",
    "X_var1 = np.cov(a[0:100,0],a[0:100,1]).tolist()\n",
    "X_var2 = np.cov(a[100:200,0],a[100:200,1]).tolist()\n",
    "for j in range(200):\n",
    "    \n",
    "    X_test=atest[j,0:2] ##\n",
    "    Y_test=atest[j,2] ##\n",
    "    f1 = prob(X_test, X_mean1, X_var1,1)\n",
    "    f_1 = prob(X_test, X_mean2, X_var2,1)\n",
    "    if f1>f_1:\n",
    "        b_clss=1\n",
    "    else:\n",
    "        b_clss=-1\n",
    "    if Y_test==b_clss:\n",
    "        b_scre=b_scre+1\n",
    "b_scre/len(X_test)"
   ]
  },
  {
   "cell_type": "code",
   "execution_count": 723,
   "metadata": {},
   "outputs": [
    {
     "data": {
      "text/plain": [
       "[[0.9811784625898988, -0.16080762704646465],\n",
       " [-0.16080762704646465, 2.8730789192767667]]"
      ]
     },
     "execution_count": 723,
     "metadata": {},
     "output_type": "execute_result"
    }
   ],
   "source": [
    "X_var2\n"
   ]
  },
  {
   "cell_type": "code",
   "execution_count": 692,
   "metadata": {
    "scrolled": false
   },
   "outputs": [],
   "source": [
    "c=np.loadtxt(open(\"P1c_test_data_2D.csv\", \"rb\"), delimiter=\",\")\n",
    "Xc1=a[0:100,0:2]\n",
    "Xc2=a[100:200,0:2]\n"
   ]
  },
  {
   "cell_type": "code",
   "execution_count": 725,
   "metadata": {},
   "outputs": [
    {
     "data": {
      "text/plain": [
       "84.0"
      ]
     },
     "execution_count": 725,
     "metadata": {},
     "output_type": "execute_result"
    }
   ],
   "source": [
    "b_scre=0\n",
    "atest=np.loadtxt(open(\"P1c_test_data_2D.csv\", \"rb\"), delimiter=\",\")\n",
    "X_mean1 = np.mean(c[0:100,0:2],axis=0)\n",
    "X_mean2 = np.mean(c[100:200,0:2],axis=0)\n",
    "X_var1 = np.cov(c[0:100,0],c[0:100,1]).tolist()\n",
    "lamc1=1/X_mean2[0]\n",
    "lamc2=1/X_mean2[1]\n",
    "for j in range(200):\n",
    "    \n",
    "    X_test=atest[j,0:2] ##\n",
    "    Y_test=atest[j,2] ##\n",
    "    f1 = prob(X_test, X_mean1, X_var1,1)\n",
    "    f_1 = lamc1*lamc2*pow(math.e,-lamc1*X_test[0]-lamc2*X_test[1])\n",
    "    if f1>f_1:\n",
    "        b_clss=1\n",
    "    else:\n",
    "        b_clss=-1\n",
    "    if Y_test==b_clss:\n",
    "        b_scre=b_scre+1\n",
    "b_scre/len(X_test)"
   ]
  },
  {
   "cell_type": "markdown",
   "metadata": {},
   "source": [
    "# Varying Sample"
   ]
  },
  {
   "cell_type": "code",
   "execution_count": 736,
   "metadata": {},
   "outputs": [],
   "source": [
    "c1=list(range(0,100))\n",
    "c2=list(range(100,200))\n",
    "X1_100=X[random.sample(c1,100)]\n",
    "X2_100=X[random.sample(c2,100)]\n",
    "X1_100_mean=np.mean(X1_100,axis=0)\n",
    "X2_100_mean=np.mean(X2_100,axis=0)\n",
    "X1_100_var=np.matmul(np.transpose(X1_100-np.ones((100,1))*X1_100_mean),(X1_100-np.ones((100,1))*X1_100_mean))/100\n",
    "X2_100_var=np.matmul(np.transpose(X2_100-np.ones((100,1))*X1_100_mean),(X2_100-np.ones((100,1))*X2_100_mean))/100\n",
    "X_100=np.concatenate((X1_100,X2_100))\n",
    "atest=np.loadtxt(open(\"P1c_test_data_2D.csv\", \"rb\"), delimiter=\",\")"
   ]
  },
  {
   "cell_type": "code",
   "execution_count": 737,
   "metadata": {},
   "outputs": [
    {
     "data": {
      "text/plain": [
       "98.0"
      ]
     },
     "execution_count": 737,
     "metadata": {},
     "output_type": "execute_result"
    }
   ],
   "source": [
    "b_scre=0\n",
    "atest=np.loadtxt(open(\"P1c_test_data_2D.csv\", \"rb\"), delimiter=\",\")\n",
    "#X_mean1 = np.mean(a[0:100,0:2],axis=0)\n",
    "#X_mean2 = np.mean(a[100:200,0:2],axis=0)\n",
    "#X_var1 = np.cov(a[0:100,0],a[0:100,1]).tolist()\n",
    "#X_var2 = np.cov(a[100:200,0],a[100:200,1]).tolist()\n",
    "for j in range(200):\n",
    "    \n",
    "    X_test=atest[j,0:2] ##\n",
    "    Y_test=atest[j,2] ##\n",
    "    f1 = prob(X_test, X1_100_mean, X1_100_var,1)\n",
    "    f_1 = prob(X_test, X2_100_mean, X2_100_var,1)\n",
    "    if f1>f_1:\n",
    "        b_clss=1\n",
    "    else:\n",
    "        b_clss=-1\n",
    "    if Y_test==b_clss:\n",
    "        b_scre=b_scre+1\n",
    "b_scre/len(X_test)"
   ]
  },
  {
   "cell_type": "code",
   "execution_count": 705,
   "metadata": {},
   "outputs": [],
   "source": [
    "c1=list(range(0,100))\n",
    "c2=list(range(100,200))\n",
    "X1_5=X[random.sample(c1,5)]\n",
    "X2_5=X[random.sample(c2,5)]\n",
    "X1_5_mean=np.mean(X1_5,axis=0)\n",
    "X2_5_mean=np.mean(X2_5,axis=0)\n",
    "X1_5_var=np.matmul(np.transpose(X1_5-np.ones((5,1))*X1_5_mean),(X1_5-np.ones((5,1))*X1_5_mean))/5\n",
    "X2_5_var=np.matmul(np.transpose(X2_5-np.ones((5,1))*X1_5_mean),(X2_5-np.ones((5,1))*X2_5_mean))/5\n",
    "X_5=np.concatenate((X1_5,X2_5))\n",
    "atest=np.loadtxt(open(\"P1c_test_data_2D.csv\", \"rb\"), delimiter=\",\")\n"
   ]
  },
  {
   "cell_type": "code",
   "execution_count": 706,
   "metadata": {},
   "outputs": [
    {
     "data": {
      "text/plain": [
       "93.0"
      ]
     },
     "execution_count": 706,
     "metadata": {},
     "output_type": "execute_result"
    }
   ],
   "source": [
    "b_scre=0\n",
    "atest=np.loadtxt(open(\"P1c_test_data_2D.csv\", \"rb\"), delimiter=\",\")\n",
    "#X_mean1 = np.mean(a[0:100,0:2],axis=0)\n",
    "#X_mean2 = np.mean(a[100:200,0:2],axis=0)\n",
    "#X_var1 = np.cov(a[0:100,0],a[0:100,1]).tolist()\n",
    "#X_var2 = np.cov(a[100:200,0],a[100:200,1]).tolist()\n",
    "for j in range(200):\n",
    "    \n",
    "    X_test=atest[j,0:2] ##\n",
    "    Y_test=atest[j,2] ##\n",
    "    f1 = prob(X_test, X1_5_mean, X1_5_var,1)\n",
    "    f_1 = prob(X_test, X2_5_mean, X2_5_var,1)\n",
    "    if f1>f_1:\n",
    "        b_clss=1\n",
    "    else:\n",
    "        b_clss=-1\n",
    "    if Y_test==b_clss:\n",
    "        b_scre=b_scre+1\n",
    "b_scre/len(X_test)"
   ]
  },
  {
   "cell_type": "code",
   "execution_count": 707,
   "metadata": {},
   "outputs": [],
   "source": [
    "c1=list(range(0,100))\n",
    "c2=list(range(100,200))\n",
    "X1_10=X[random.sample(c1,10)]\n",
    "X2_10=X[random.sample(c2,10)]\n",
    "X1_10_mean=np.mean(X1_10,axis=0)\n",
    "X2_10_mean=np.mean(X2_10,axis=0)\n",
    "X1_10_var=np.matmul(np.transpose(X1_10-np.ones((10,1))*X1_10_mean),(X1_10-np.ones((10,1))*X1_10_mean))/10\n",
    "X2_10_var=np.matmul(np.transpose(X2_10-np.ones((10,1))*X1_10_mean),(X2_10-np.ones((10,1))*X2_10_mean))/10\n",
    "X_10=np.concatenate((X1_10,X2_10))\n",
    "atest=np.loadtxt(open(\"P1c_test_data_2D.csv\", \"rb\"), delimiter=\",\")"
   ]
  },
  {
   "cell_type": "code",
   "execution_count": 708,
   "metadata": {},
   "outputs": [
    {
     "data": {
      "text/plain": [
       "98.0"
      ]
     },
     "execution_count": 708,
     "metadata": {},
     "output_type": "execute_result"
    }
   ],
   "source": [
    "b_scre=0\n",
    "atest=np.loadtxt(open(\"P1c_test_data_2D.csv\", \"rb\"), delimiter=\",\")\n",
    "#X_mean1 = np.mean(a[0:100,0:2],axis=0)\n",
    "#X_mean2 = np.mean(a[100:200,0:2],axis=0)\n",
    "#X_var1 = np.cov(a[0:100,0],a[0:100,1]).tolist()\n",
    "#X_var2 = np.cov(a[100:200,0],a[100:200,1]).tolist()\n",
    "for j in range(200):\n",
    "    \n",
    "    X_test=atest[j,0:2] ##\n",
    "    Y_test=atest[j,2] ##\n",
    "    f1 = prob(X_test, X1_10_mean, X1_10_var,1)\n",
    "    f_1 = prob(X_test, X2_10_mean, X2_10_var,1)\n",
    "    if f1>f_1:\n",
    "        b_clss=1\n",
    "    else:\n",
    "        b_clss=-1\n",
    "    if Y_test==b_clss:\n",
    "        b_scre=b_scre+1\n",
    "b_scre/len(X_test)"
   ]
  },
  {
   "cell_type": "code",
   "execution_count": 709,
   "metadata": {},
   "outputs": [],
   "source": [
    "c1=list(range(0,100))\n",
    "c2=list(range(100,200))\n",
    "X1_25=X[random.sample(c1,25)]\n",
    "X2_25=X[random.sample(c2,25)]\n",
    "X1_25_mean=np.mean(X1_25,axis=0)\n",
    "X2_25_mean=np.mean(X2_25,axis=0)\n",
    "X1_25_var=np.matmul(np.transpose(X1_25-np.ones((25,1))*X1_25_mean),(X1_25-np.ones((25,1))*X1_25_mean))/25\n",
    "X2_25_var=np.matmul(np.transpose(X2_25-np.ones((25,1))*X1_25_mean),(X2_25-np.ones((25,1))*X2_25_mean))/25\n",
    "X_25=np.concatenate((X1_25,X2_25))\n",
    "atest=np.loadtxt(open(\"P1c_test_data_2D.csv\", \"rb\"), delimiter=\",\")"
   ]
  },
  {
   "cell_type": "code",
   "execution_count": 710,
   "metadata": {},
   "outputs": [
    {
     "data": {
      "text/plain": [
       "98.5"
      ]
     },
     "execution_count": 710,
     "metadata": {},
     "output_type": "execute_result"
    }
   ],
   "source": [
    "b_scre=0\n",
    "atest=np.loadtxt(open(\"P1c_test_data_2D.csv\", \"rb\"), delimiter=\",\")\n",
    "#X_mean1 = np.mean(a[0:100,0:2],axis=0)\n",
    "#X_mean2 = np.mean(a[100:200,0:2],axis=0)\n",
    "#X_var1 = np.cov(a[0:100,0],a[0:100,1]).tolist()\n",
    "#X_var2 = np.cov(a[100:200,0],a[100:200,1]).tolist()\n",
    "for j in range(200):\n",
    "    \n",
    "    X_test=atest[j,0:2] ##\n",
    "    Y_test=atest[j,2] ##\n",
    "    f1 = prob(X_test, X1_25_mean, X1_25_var,1)\n",
    "    f_1 = prob(X_test, X2_25_mean, X2_25_var,1)\n",
    "    if f1>f_1:\n",
    "        b_clss=1\n",
    "    else:\n",
    "        b_clss=-1\n",
    "    if Y_test==b_clss:\n",
    "        b_scre=b_scre+1\n",
    "b_scre/len(X_test)"
   ]
  },
  {
   "cell_type": "code",
   "execution_count": 711,
   "metadata": {},
   "outputs": [],
   "source": [
    "c1=list(range(0,100))\n",
    "c2=list(range(100,200))\n",
    "X1_75=X[random.sample(c1,75)]\n",
    "X2_75=X[random.sample(c2,75)]\n",
    "X1_75_mean=np.mean(X1_75,axis=0)\n",
    "X2_75_mean=np.mean(X2_75,axis=0)\n",
    "X1_75_var=np.matmul(np.transpose(X1_75-np.ones((75,1))*X1_75_mean),(X1_75-np.ones((75,1))*X1_75_mean))/75\n",
    "X2_75_var=np.matmul(np.transpose(X2_75-np.ones((75,1))*X1_75_mean),(X2_75-np.ones((75,1))*X2_75_mean))/75\n",
    "X_75=np.concatenate((X1_75,X2_75))\n",
    "atest=np.loadtxt(open(\"P1c_test_data_2D.csv\", \"rb\"), delimiter=\",\")"
   ]
  },
  {
   "cell_type": "code",
   "execution_count": 712,
   "metadata": {},
   "outputs": [
    {
     "data": {
      "text/plain": [
       "98.5"
      ]
     },
     "execution_count": 712,
     "metadata": {},
     "output_type": "execute_result"
    }
   ],
   "source": [
    "b_scre=0\n",
    "atest=np.loadtxt(open(\"P1c_test_data_2D.csv\", \"rb\"), delimiter=\",\")\n",
    "#X_mean1 = np.mean(a[0:100,0:2],axis=0)\n",
    "#X_mean2 = np.mean(a[100:200,0:2],axis=0)\n",
    "#X_var1 = np.cov(a[0:100,0],a[0:100,1]).tolist()\n",
    "#X_var2 = np.cov(a[100:200,0],a[100:200,1]).tolist()\n",
    "for j in range(200):\n",
    "    \n",
    "    X_test=atest[j,0:2] ##\n",
    "    Y_test=atest[j,2] ##\n",
    "    f1 = prob(X_test, X1_75_mean, X1_75_var,1)\n",
    "    f_1 = prob(X_test, X2_75_mean, X2_75_var,1)\n",
    "    if f1>f_1:\n",
    "        b_clss=1\n",
    "    else:\n",
    "        b_clss=-1\n",
    "    if Y_test==b_clss:\n",
    "        b_scre=b_scre+1\n",
    "b_scre/len(X_test)"
   ]
  },
  {
   "cell_type": "code",
   "execution_count": 702,
   "metadata": {},
   "outputs": [
    {
     "data": {
      "text/plain": [
       "array([[ 1.3630e-01,  5.8610e-01],\n",
       "       [ 1.5985e+00,  7.5680e-01],\n",
       "       [-1.7900e-02,  4.1790e-01],\n",
       "       [-2.7473e+00, -9.5750e-01],\n",
       "       [ 3.3270e-01,  1.1452e+00],\n",
       "       [ 3.3460e-01,  1.6193e+00],\n",
       "       [-4.9160e-01, -9.4300e-01],\n",
       "       [ 1.5934e+00,  1.9558e+00],\n",
       "       [-7.2300e-01, -5.9910e-01],\n",
       "       [ 5.8580e-01,  1.1473e+00],\n",
       "       [ 6.0070e-01, -1.1334e+00],\n",
       "       [ 1.6615e+00,  4.0630e-01],\n",
       "       [-1.4250e+00, -2.5512e+00],\n",
       "       [ 1.8110e-01,  7.7310e-01],\n",
       "       [ 1.2950e-01, -5.5600e-01],\n",
       "       [-1.2880e-01, -1.2945e+00],\n",
       "       [ 2.4630e-01, -6.4220e-01],\n",
       "       [-1.0845e+00, -5.7980e-01],\n",
       "       [ 9.6030e-01, -4.2780e-01],\n",
       "       [-9.3440e-01, -9.3800e-02],\n",
       "       [ 1.6610e-01,  1.5000e+00],\n",
       "       [-1.0224e+00, -4.6170e-01],\n",
       "       [-2.7990e-01,  7.2000e-03],\n",
       "       [ 1.6790e-01,  9.0970e-01],\n",
       "       [ 2.8180e-01, -1.0590e-01],\n",
       "       [ 1.2080e-01,  2.2030e-01],\n",
       "       [ 1.1254e+00,  1.6780e-01],\n",
       "       [ 1.2100e-01,  5.2610e-01],\n",
       "       [ 1.8294e+00,  3.3320e-01],\n",
       "       [-2.1770e-01,  1.2654e+00],\n",
       "       [-7.4040e-01,  3.1560e-01],\n",
       "       [ 1.5184e+00, -1.0005e+00],\n",
       "       [-1.8561e+00, -2.1351e+00],\n",
       "       [ 9.2850e-01,  5.8700e-02],\n",
       "       [-2.4550e-01, -2.0010e-01],\n",
       "       [-4.7540e-01, -6.6000e-01],\n",
       "       [ 6.3960e-01,  1.8360e-01],\n",
       "       [-1.9128e+00, -1.5500e-01],\n",
       "       [-5.0260e-01,  9.2150e-01],\n",
       "       [-8.5650e-01, -1.0406e+00],\n",
       "       [ 1.9769e+00,  3.0456e+00],\n",
       "       [-1.5365e+00, -1.3326e+00],\n",
       "       [-1.0200e-02,  7.4350e-01],\n",
       "       [-1.4673e+00, -9.0650e-01],\n",
       "       [ 6.1680e-01,  5.0000e-01],\n",
       "       [ 1.4464e+00,  6.3860e-01],\n",
       "       [ 1.1459e+00,  5.3390e-01],\n",
       "       [ 3.3150e-01, -6.1380e-01],\n",
       "       [-1.6697e+00, -1.7128e+00],\n",
       "       [-1.2124e+00, -7.4990e-01],\n",
       "       [ 1.5791e+00, -7.1470e-01],\n",
       "       [-8.8900e-01, -3.7500e-01],\n",
       "       [-1.0230e+00, -6.9720e-01],\n",
       "       [ 5.0900e-02,  5.0560e-01],\n",
       "       [ 1.2180e+00, -4.5800e-02],\n",
       "       [ 1.9500e-02, -4.6750e-01],\n",
       "       [-1.3425e+00, -1.4054e+00],\n",
       "       [-9.0780e-01, -3.8180e-01],\n",
       "       [-5.0900e-01, -2.4500e-02],\n",
       "       [ 9.0520e-01, -9.5950e-01],\n",
       "       [-1.1312e+00, -4.7220e-01],\n",
       "       [-2.4730e-01,  1.8550e-01],\n",
       "       [ 2.4899e+00,  2.4239e+00],\n",
       "       [-2.4140e-01,  7.8020e-01],\n",
       "       [-1.1403e+00, -5.2460e-01],\n",
       "       [-1.6333e+00, -1.2861e+00],\n",
       "       [ 4.1660e-01, -3.8900e-01],\n",
       "       [-2.7610e-01,  8.6320e-01],\n",
       "       [ 6.5490e-01,  1.3360e+00],\n",
       "       [ 5.2820e-01,  4.8890e-01],\n",
       "       [ 5.0870e-01, -3.2770e-01],\n",
       "       [-5.7260e-01,  5.0880e-01],\n",
       "       [ 1.5016e+00,  2.0212e+00],\n",
       "       [ 1.6246e+00,  1.4247e+00],\n",
       "       [-3.4090e-01, -2.4100e-01],\n",
       "       [ 4.5680e-01,  4.3240e-01],\n",
       "       [ 5.4200e-02,  2.0220e+00],\n",
       "       [-3.4630e-01,  3.4550e-01],\n",
       "       [ 1.6839e+00,  1.4698e+00],\n",
       "       [-6.4430e-01, -1.3482e+00],\n",
       "       [-1.6160e-01, -1.3196e+00],\n",
       "       [ 9.9580e-01,  9.0100e-01],\n",
       "       [ 2.2920e-01,  3.8400e-01],\n",
       "       [-5.6710e-01, -1.4088e+00],\n",
       "       [ 6.3580e-01,  7.5480e-01],\n",
       "       [-1.4020e+00, -2.0292e+00],\n",
       "       [-4.9300e-02, -5.4830e-01],\n",
       "       [-1.2985e+00, -1.9775e+00],\n",
       "       [ 2.3744e+00,  7.4170e-01],\n",
       "       [ 1.8350e-01, -7.2970e-01],\n",
       "       [-4.0630e-01, -2.0140e-01],\n",
       "       [ 1.4856e+00,  7.2140e-01],\n",
       "       [-1.2181e+00,  1.2575e+00],\n",
       "       [-3.0530e-01,  5.2050e-01],\n",
       "       [-7.4230e-01,  1.4270e-01],\n",
       "       [-9.7480e-01,  8.1130e-01],\n",
       "       [-3.2960e-01, -1.3670e-01],\n",
       "       [ 9.4500e-02, -9.1200e-02],\n",
       "       [ 4.4310e-01, -1.0947e+00],\n",
       "       [-8.8730e-01, -5.2080e-01],\n",
       "       [ 1.8494e+00,  8.4840e-01],\n",
       "       [ 3.7395e+00,  2.3958e+00],\n",
       "       [ 1.1999e+00,  2.6992e+00],\n",
       "       [ 2.6583e+00,  1.9531e+00],\n",
       "       [ 3.9050e+00,  1.5666e+00],\n",
       "       [ 4.1361e+00,  5.5920e+00],\n",
       "       [ 2.7726e+00,  4.2491e+00],\n",
       "       [ 2.8892e+00,  5.9077e+00],\n",
       "       [ 4.0036e+00,  2.4283e+00],\n",
       "       [ 1.8454e+00,  2.5483e+00],\n",
       "       [ 4.2838e+00,  3.3377e+00],\n",
       "       [ 3.6199e+00,  3.0187e+00],\n",
       "       [ 3.1143e+00,  5.5899e+00],\n",
       "       [ 3.0059e+00,  2.0570e+00],\n",
       "       [ 1.0089e+00,  2.4786e+00],\n",
       "       [ 3.2340e+00,  2.8997e+00],\n",
       "       [ 4.8254e+00,  4.7661e+00],\n",
       "       [ 3.7512e+00,  4.7334e+00],\n",
       "       [ 3.1046e+00,  4.6821e+00],\n",
       "       [ 2.7664e+00,  2.8222e+00],\n",
       "       [ 2.1180e+00,  4.0310e+00],\n",
       "       [ 4.0170e-01,  2.8041e+00],\n",
       "       [ 3.2279e+00,  5.2438e+00],\n",
       "       [ 3.7415e+00,  4.6581e+00],\n",
       "       [ 3.8941e+00,  6.1660e-01],\n",
       "       [ 3.1091e+00,  5.8550e-01],\n",
       "       [ 3.1533e+00,  3.4822e+00],\n",
       "       [ 3.5731e+00,  8.7220e-01],\n",
       "       [ 3.6893e+00,  2.3369e+00],\n",
       "       [ 4.5424e+00,  2.8325e+00],\n",
       "       [ 2.8481e+00,  5.2497e+00],\n",
       "       [ 9.6570e-01,  3.3708e+00],\n",
       "       [ 2.6032e+00,  3.0130e+00],\n",
       "       [ 6.1891e+00,  1.5228e+00],\n",
       "       [ 3.3104e+00,  5.0563e+00],\n",
       "       [ 1.6685e+00,  6.1091e+00],\n",
       "       [ 1.8315e+00,  3.8159e+00],\n",
       "       [ 2.7147e+00, -1.3032e+00],\n",
       "       [ 2.0267e+00,  3.7688e+00],\n",
       "       [ 3.9516e+00,  5.1965e+00],\n",
       "       [ 3.4796e+00,  1.0580e-01],\n",
       "       [ 4.1053e+00,  1.9285e+00],\n",
       "       [ 2.9978e+00,  3.6191e+00],\n",
       "       [ 4.0018e+00,  3.2162e+00],\n",
       "       [ 4.4097e+00,  2.4066e+00],\n",
       "       [ 3.0173e+00,  4.9533e+00],\n",
       "       [ 1.9640e+00,  3.4241e+00],\n",
       "       [ 4.1003e+00,  7.3560e-01],\n",
       "       [ 3.8100e+00,  5.2197e+00],\n",
       "       [ 3.4417e+00,  8.6700e-01],\n",
       "       [ 3.1445e+00,  5.1868e+00],\n",
       "       [ 2.5613e+00,  2.5302e+00],\n",
       "       [ 1.2843e+00,  2.5702e+00],\n",
       "       [ 4.8778e+00,  6.4311e+00],\n",
       "       [ 4.0444e+00,  2.7277e+00],\n",
       "       [ 3.5651e+00,  3.2532e+00],\n",
       "       [ 2.3200e+00,  4.5699e+00],\n",
       "       [ 2.6349e+00,  4.1604e+00],\n",
       "       [ 3.4393e+00,  3.4875e+00],\n",
       "       [ 3.1428e+00,  3.7609e+00],\n",
       "       [ 1.5487e+00,  6.0247e+00],\n",
       "       [ 1.7744e+00,  5.3759e+00],\n",
       "       [ 3.0278e+00,  6.5525e+00],\n",
       "       [ 4.1031e+00,  5.4193e+00],\n",
       "       [ 2.4467e+00,  3.5806e+00],\n",
       "       [ 3.6783e+00,  7.2999e+00],\n",
       "       [ 2.2950e+00,  1.2926e+00],\n",
       "       [ 1.5285e+00,  3.3662e+00],\n",
       "       [ 2.4412e+00,  3.3522e+00],\n",
       "       [ 3.2052e+00,  1.7823e+00],\n",
       "       [ 2.5464e+00,  3.2145e+00],\n",
       "       [ 3.4912e+00,  2.5149e+00],\n",
       "       [ 2.4243e+00,  2.6928e+00],\n",
       "       [ 3.1929e+00,  1.3797e+00],\n",
       "       [ 2.2715e+00,  3.7034e+00],\n",
       "       [ 2.1654e+00,  3.0368e+00],\n",
       "       [ 4.7030e+00,  1.6003e+00],\n",
       "       [ 1.8723e+00,  3.2056e+00],\n",
       "       [ 3.9077e+00,  4.3716e+00],\n",
       "       [ 3.5911e+00,  1.0123e+00],\n",
       "       [ 2.3069e+00,  3.2371e+00],\n",
       "       [ 1.4997e+00,  7.9992e+00],\n",
       "       [ 2.4206e+00,  5.4175e+00],\n",
       "       [ 2.9087e+00,  2.4827e+00],\n",
       "       [ 2.8963e+00,  3.5857e+00],\n",
       "       [ 2.7217e+00,  2.1173e+00],\n",
       "       [ 2.4308e+00, -8.6110e-01],\n",
       "       [ 4.5564e+00,  3.7681e+00],\n",
       "       [ 2.5568e+00,  4.9342e+00],\n",
       "       [ 3.1313e+00,  3.9791e+00],\n",
       "       [ 2.6645e+00,  2.6532e+00],\n",
       "       [ 1.2215e+00,  4.5897e+00],\n",
       "       [ 3.1787e+00,  3.4934e+00],\n",
       "       [ 4.1866e+00,  3.2272e+00],\n",
       "       [ 3.0706e+00,  4.9986e+00],\n",
       "       [ 3.2666e+00,  1.9556e+00],\n",
       "       [ 2.6961e+00,  3.5858e+00],\n",
       "       [ 2.3639e+00,  3.3919e+00],\n",
       "       [ 4.2678e+00,  1.5673e+00],\n",
       "       [ 3.2940e+00,  2.3545e+00]])"
      ]
     },
     "execution_count": 702,
     "metadata": {},
     "output_type": "execute_result"
    }
   ],
   "source": [
    "X\n"
   ]
  },
  {
   "cell_type": "code",
   "execution_count": 703,
   "metadata": {},
   "outputs": [
    {
     "data": {
      "text/plain": [
       "array([ 0.1363,  1.5985, -0.0179, -2.7473,  0.3327,  0.3346, -0.4916,\n",
       "        1.5934, -0.723 ,  0.5858,  0.6007,  1.6615, -1.425 ,  0.1811,\n",
       "        0.1295, -0.1288,  0.2463, -1.0845,  0.9603, -0.9344,  0.1661,\n",
       "       -1.0224, -0.2799,  0.1679,  0.2818,  0.1208,  1.1254,  0.121 ,\n",
       "        1.8294, -0.2177, -0.7404,  1.5184, -1.8561,  0.9285, -0.2455,\n",
       "       -0.4754,  0.6396, -1.9128, -0.5026, -0.8565,  1.9769, -1.5365,\n",
       "       -0.0102, -1.4673,  0.6168,  1.4464,  1.1459,  0.3315, -1.6697,\n",
       "       -1.2124,  1.5791, -0.889 , -1.023 ,  0.0509,  1.218 ,  0.0195,\n",
       "       -1.3425, -0.9078, -0.509 ,  0.9052, -1.1312, -0.2473,  2.4899,\n",
       "       -0.2414, -1.1403, -1.6333,  0.4166, -0.2761,  0.6549,  0.5282,\n",
       "        0.5087, -0.5726,  1.5016,  1.6246, -0.3409,  0.4568,  0.0542,\n",
       "       -0.3463,  1.6839, -0.6443, -0.1616,  0.9958,  0.2292, -0.5671,\n",
       "        0.6358, -1.402 , -0.0493, -1.2985,  2.3744,  0.1835, -0.4063,\n",
       "        1.4856, -1.2181, -0.3053, -0.7423, -0.9748, -0.3296,  0.0945,\n",
       "        0.4431, -0.8873,  1.8494,  3.7395,  1.1999,  2.6583,  3.905 ,\n",
       "        4.1361,  2.7726,  2.8892,  4.0036,  1.8454,  4.2838,  3.6199,\n",
       "        3.1143,  3.0059,  1.0089,  3.234 ,  4.8254,  3.7512,  3.1046,\n",
       "        2.7664,  2.118 ,  0.4017,  3.2279,  3.7415,  3.8941,  3.1091,\n",
       "        3.1533,  3.5731,  3.6893,  4.5424,  2.8481,  0.9657,  2.6032,\n",
       "        6.1891,  3.3104,  1.6685,  1.8315,  2.7147,  2.0267,  3.9516,\n",
       "        3.4796,  4.1053,  2.9978,  4.0018,  4.4097,  3.0173,  1.964 ,\n",
       "        4.1003,  3.81  ,  3.4417,  3.1445,  2.5613,  1.2843,  4.8778,\n",
       "        4.0444,  3.5651,  2.32  ,  2.6349,  3.4393,  3.1428,  1.5487,\n",
       "        1.7744,  3.0278,  4.1031,  2.4467,  3.6783,  2.295 ,  1.5285,\n",
       "        2.4412,  3.2052,  2.5464,  3.4912,  2.4243,  3.1929,  2.2715,\n",
       "        2.1654,  4.703 ,  1.8723,  3.9077,  3.5911,  2.3069,  1.4997,\n",
       "        2.4206,  2.9087,  2.8963,  2.7217,  2.4308,  4.5564,  2.5568,\n",
       "        3.1313,  2.6645,  1.2215,  3.1787,  4.1866,  3.0706,  3.2666,\n",
       "        2.6961,  2.3639,  4.2678,  3.294 ])"
      ]
     },
     "execution_count": 703,
     "metadata": {},
     "output_type": "execute_result"
    }
   ],
   "source": [
    "xs"
   ]
  }
 ],
 "metadata": {
  "kernelspec": {
   "display_name": "Python 3",
   "language": "python",
   "name": "python3"
  },
  "language_info": {
   "codemirror_mode": {
    "name": "ipython",
    "version": 3
   },
   "file_extension": ".py",
   "mimetype": "text/x-python",
   "name": "python",
   "nbconvert_exporter": "python",
   "pygments_lexer": "ipython3",
   "version": "3.6.5"
  }
 },
 "nbformat": 4,
 "nbformat_minor": 2
}
